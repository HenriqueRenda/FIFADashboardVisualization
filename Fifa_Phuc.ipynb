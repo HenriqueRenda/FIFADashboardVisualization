{
 "cells": [
  {
   "cell_type": "markdown",
   "metadata": {},
   "source": [
    "## Data Visualization Project\n",
    "### FIFA players Dashboard"
   ]
  },
  {
   "cell_type": "markdown",
   "metadata": {},
   "source": [
    "Source : https://www.kaggle.com/stefanoleone992/fifa-21-complete-player-dataset/metadata"
   ]
  },
  {
   "cell_type": "markdown",
   "metadata": {},
   "source": [
    "<a class=\"anchor\" id=\"0.1\"></a>\n",
    "## Steps\n",
    "\n",
    "1.\t[Importing data and libraries](#1)   \n",
    "2.\t[EDA](#2)       \n",
    "3.  [Tab 1: players](#3)\n",
    "4.  [Tab 2: League Summary](#4)"
   ]
  },
  {
   "cell_type": "markdown",
   "metadata": {},
   "source": [
    "### 1. Importing data and libraries  <a class=\"anchor\" id=\"1\"></a>"
   ]
  },
  {
   "cell_type": "code",
   "execution_count": 15,
   "metadata": {},
   "outputs": [],
   "source": [
    "import pandas as pd\n",
    "import numpy as np\n",
    "import matplotlib.pyplot as plt\n",
    "import plotly.graph_objects as go\n",
    "import plotly.express as px"
   ]
  },
  {
   "cell_type": "code",
   "execution_count": 16,
   "metadata": {},
   "outputs": [],
   "source": [
    "data = pd.read_csv('players_21.csv')"
   ]
  },
  {
   "cell_type": "markdown",
   "metadata": {},
   "source": [
    "### 2. EDA  <a class=\"anchor\" id=\"2\"></a>"
   ]
  },
  {
   "cell_type": "code",
   "execution_count": 17,
   "metadata": {},
   "outputs": [],
   "source": [
    "variables = ['short_name', 'long_name', 'age', 'height_cm',\n",
    "       'weight_kg', 'nationality', 'club_name', 'league_name', 'league_rank',\n",
    "       'overall', 'potential', 'value_eur', 'wage_eur', 'player_positions',\n",
    "       'preferred_foot', 'international_reputation', 'weak_foot',\n",
    "       'skill_moves', 'release_clause_eur']"
   ]
  },
  {
   "cell_type": "code",
   "execution_count": 18,
   "metadata": {},
   "outputs": [],
   "source": [
    "df = data[variables].copy()"
   ]
  },
  {
   "cell_type": "code",
   "execution_count": 19,
   "metadata": {},
   "outputs": [],
   "source": [
    "df['isOver25'] = df['age'] > 25"
   ]
  },
  {
   "cell_type": "code",
   "execution_count": 20,
   "metadata": {},
   "outputs": [],
   "source": [
    "league = 'English Premier League'"
   ]
  },
  {
   "cell_type": "code",
   "execution_count": 21,
   "metadata": {},
   "outputs": [
    {
     "output_type": "execute_result",
     "data": {
      "text/plain": [
       "      short_name              long_name  age  height_cm  weight_kg  \\\n",
       "5   K. De Bruyne        Kevin De Bruyne   29        181         70   \n",
       "9        Alisson  Alisson Ramsés Becker   27        191         91   \n",
       "10       S. Mané             Sadio Mané   28        175         69   \n",
       "11      M. Salah    Mohamed Salah Ghaly   28        175         71   \n",
       "8    V. van Dijk        Virgil van Dijk   28        193         92   \n",
       "\n",
       "    nationality        club_name             league_name  league_rank  \\\n",
       "5       Belgium  Manchester City  English Premier League          1.0   \n",
       "9        Brazil        Liverpool  English Premier League          1.0   \n",
       "10      Senegal        Liverpool  English Premier League          1.0   \n",
       "11        Egypt        Liverpool  English Premier League          1.0   \n",
       "8   Netherlands        Liverpool  English Premier League          1.0   \n",
       "\n",
       "    overall  potential  value_eur  wage_eur player_positions preferred_foot  \\\n",
       "5        91         91   87000000    370000          CAM, CM          Right   \n",
       "9        90         91   62500000    160000               GK          Right   \n",
       "10       90         90   78000000    250000               LW          Right   \n",
       "11       90         90   78000000    250000               RW           Left   \n",
       "8        90         91   75500000    210000               CB          Right   \n",
       "\n",
       "    international_reputation  weak_foot  skill_moves  release_clause_eur  \\\n",
       "5                          4          5            4         161000000.0   \n",
       "9                          3          3            1         120300000.0   \n",
       "10                         3          4            4         144300000.0   \n",
       "11                         3          3            4         144300000.0   \n",
       "8                          3          3            2         145300000.0   \n",
       "\n",
       "    isOver25  \n",
       "5       True  \n",
       "9       True  \n",
       "10      True  \n",
       "11      True  \n",
       "8       True  "
      ],
      "text/html": "<div>\n<style scoped>\n    .dataframe tbody tr th:only-of-type {\n        vertical-align: middle;\n    }\n\n    .dataframe tbody tr th {\n        vertical-align: top;\n    }\n\n    .dataframe thead th {\n        text-align: right;\n    }\n</style>\n<table border=\"1\" class=\"dataframe\">\n  <thead>\n    <tr style=\"text-align: right;\">\n      <th></th>\n      <th>short_name</th>\n      <th>long_name</th>\n      <th>age</th>\n      <th>height_cm</th>\n      <th>weight_kg</th>\n      <th>nationality</th>\n      <th>club_name</th>\n      <th>league_name</th>\n      <th>league_rank</th>\n      <th>overall</th>\n      <th>potential</th>\n      <th>value_eur</th>\n      <th>wage_eur</th>\n      <th>player_positions</th>\n      <th>preferred_foot</th>\n      <th>international_reputation</th>\n      <th>weak_foot</th>\n      <th>skill_moves</th>\n      <th>release_clause_eur</th>\n      <th>isOver25</th>\n    </tr>\n  </thead>\n  <tbody>\n    <tr>\n      <th>5</th>\n      <td>K. De Bruyne</td>\n      <td>Kevin De Bruyne</td>\n      <td>29</td>\n      <td>181</td>\n      <td>70</td>\n      <td>Belgium</td>\n      <td>Manchester City</td>\n      <td>English Premier League</td>\n      <td>1.0</td>\n      <td>91</td>\n      <td>91</td>\n      <td>87000000</td>\n      <td>370000</td>\n      <td>CAM, CM</td>\n      <td>Right</td>\n      <td>4</td>\n      <td>5</td>\n      <td>4</td>\n      <td>161000000.0</td>\n      <td>True</td>\n    </tr>\n    <tr>\n      <th>9</th>\n      <td>Alisson</td>\n      <td>Alisson Ramsés Becker</td>\n      <td>27</td>\n      <td>191</td>\n      <td>91</td>\n      <td>Brazil</td>\n      <td>Liverpool</td>\n      <td>English Premier League</td>\n      <td>1.0</td>\n      <td>90</td>\n      <td>91</td>\n      <td>62500000</td>\n      <td>160000</td>\n      <td>GK</td>\n      <td>Right</td>\n      <td>3</td>\n      <td>3</td>\n      <td>1</td>\n      <td>120300000.0</td>\n      <td>True</td>\n    </tr>\n    <tr>\n      <th>10</th>\n      <td>S. Mané</td>\n      <td>Sadio Mané</td>\n      <td>28</td>\n      <td>175</td>\n      <td>69</td>\n      <td>Senegal</td>\n      <td>Liverpool</td>\n      <td>English Premier League</td>\n      <td>1.0</td>\n      <td>90</td>\n      <td>90</td>\n      <td>78000000</td>\n      <td>250000</td>\n      <td>LW</td>\n      <td>Right</td>\n      <td>3</td>\n      <td>4</td>\n      <td>4</td>\n      <td>144300000.0</td>\n      <td>True</td>\n    </tr>\n    <tr>\n      <th>11</th>\n      <td>M. Salah</td>\n      <td>Mohamed Salah Ghaly</td>\n      <td>28</td>\n      <td>175</td>\n      <td>71</td>\n      <td>Egypt</td>\n      <td>Liverpool</td>\n      <td>English Premier League</td>\n      <td>1.0</td>\n      <td>90</td>\n      <td>90</td>\n      <td>78000000</td>\n      <td>250000</td>\n      <td>RW</td>\n      <td>Left</td>\n      <td>3</td>\n      <td>3</td>\n      <td>4</td>\n      <td>144300000.0</td>\n      <td>True</td>\n    </tr>\n    <tr>\n      <th>8</th>\n      <td>V. van Dijk</td>\n      <td>Virgil van Dijk</td>\n      <td>28</td>\n      <td>193</td>\n      <td>92</td>\n      <td>Netherlands</td>\n      <td>Liverpool</td>\n      <td>English Premier League</td>\n      <td>1.0</td>\n      <td>90</td>\n      <td>91</td>\n      <td>75500000</td>\n      <td>210000</td>\n      <td>CB</td>\n      <td>Right</td>\n      <td>3</td>\n      <td>3</td>\n      <td>2</td>\n      <td>145300000.0</td>\n      <td>True</td>\n    </tr>\n  </tbody>\n</table>\n</div>"
     },
     "metadata": {},
     "execution_count": 21
    }
   ],
   "source": [
    "df[df['league_name'] == league].sort_values('overall',ascending = False).head(5)"
   ]
  },
  {
   "cell_type": "code",
   "execution_count": 24,
   "metadata": {},
   "outputs": [],
   "source": [
    "#importing data\n",
    "data = pd.read_csv('archive/players_21.csv')\n",
    "\n",
    "#data cleaning\n",
    "nonusefulcolumns = ['sofifa_id','player_url','long_name','league_rank']\n",
    "nonusefulattributes = data.loc[:,'player_traits':]\n",
    "\n",
    "data.drop(nonusefulcolumns, axis=1, inplace=True)\n",
    "data.drop(nonusefulattributes, axis=1, inplace=True)\n",
    "data['isOver25'] = data['age'] > 25\n",
    "plot_df = data[data['league_name'] == league].sort_values('overall',ascending = False).head(100)\n",
    "fig1 = px.scatter(data_frame  = plot_df, x=\"value_eur\", y=\"wage_eur\",color=\"isOver25\", size = 'potential',\n",
    "                    color_discrete_sequence=['red','royalblue'], hover_name ='short_name'\n",
    "                    ,  title = ('Wage and Value of top 100 players in '+league))    "
   ]
  },
  {
   "cell_type": "code",
   "execution_count": 25,
   "metadata": {},
   "outputs": [
    {
     "output_type": "display_data",
     "data": {
      "application/vnd.plotly.v1+json": {
       "config": {
        "plotlyServerURL": "https://plot.ly"
       },
       "data": [
        {
         "hovertemplate": "<b>%{hovertext}</b><br><br>isOver25=True<br>value_eur=%{x}<br>wage_eur=%{y}<br>potential=%{marker.size}<extra></extra>",
         "hovertext": [
          "K. De Bruyne",
          "Alisson",
          "S. Mané",
          "M. Salah",
          "V. van Dijk",
          "S. Agüero",
          "Ederson",
          "H. Kane",
          "N. Kanté",
          "Roberto Firmino",
          "H. Son",
          "P. Aubameyang",
          "H. Lloris",
          "A. Robertson",
          "Fabinho",
          "A. Laporte",
          "De Gea",
          "J. Vardy",
          "P. Pogba",
          "J. Henderson",
          "R. Mahrez",
          "Thiago",
          "K. Walker",
          "T. Alderweireld",
          "G. Wijnaldum",
          "Thiago Silva",
          "H. Ziyech",
          "Ricardo Pereira",
          "B. Leno",
          "K. Schmeichel",
          "R. Jiménez",
          "Azpilicueta",
          "Rui Patrício",
          "Fernandinho",
          "L. Digne",
          "João Moutinho",
          "M. Dúbravka",
          "Jorginho",
          "Lucas Moura",
          "Allan",
          "W. Zaha",
          "A. Lacazette",
          "I. Gündoğan",
          "G. Bale",
          "J. Matip",
          "João Cancelo",
          "M. Kovačić",
          "J. Rodríguez",
          "Rodrigo",
          "Willian",
          "M. Özil",
          "N. Pope",
          "H. Maguire",
          "A. Areola",
          "Jonny",
          "Felipe Anderson",
          "M. Doherty",
          "X. Shaqiri",
          "Marcos Alonso",
          "L. Fabiański",
          "Fred",
          "S. Haller",
          "A. Rüdiger",
          "J. Pickford",
          "B. Ivanović",
          "B. Davies",
          "J. Milner"
         ],
         "legendgroup": "True",
         "marker": {
          "color": "red",
          "size": [
           91,
           91,
           90,
           90,
           91,
           89,
           91,
           89,
           88,
           87,
           87,
           87,
           87,
           89,
           89,
           90,
           86,
           86,
           87,
           86,
           85,
           85,
           85,
           85,
           85,
           85,
           86,
           87,
           87,
           84,
           84,
           84,
           84,
           84,
           85,
           83,
           83,
           83,
           83,
           83,
           83,
           83,
           83,
           83,
           84,
           86,
           86,
           82,
           82,
           82,
           82,
           83,
           85,
           86,
           84,
           81,
           81,
           81,
           81,
           81,
           83,
           83,
           83,
           84,
           80,
           81,
           80
          ],
          "sizemode": "area",
          "sizeref": 0.2325,
          "symbol": "circle"
         },
         "mode": "markers",
         "name": "True",
         "orientation": "v",
         "showlegend": true,
         "type": "scatter",
         "x": [
          87000000,
          62500000,
          78000000,
          78000000,
          75500000,
          53000000,
          53500000,
          71000000,
          51000000,
          52000000,
          52500000,
          45000000,
          27000000,
          53000000,
          54500000,
          56000000,
          31500000,
          28000000,
          50000000,
          36500000,
          37500000,
          37000000,
          30500000,
          28500000,
          37000000,
          11500000,
          44000000,
          40500000,
          33500000,
          17000000,
          31000000,
          24500000,
          19000000,
          9500000,
          31500000,
          15000000,
          16500000,
          25500000,
          27000000,
          25000000,
          27000000,
          26000000,
          25000000,
          24500000,
          25500000,
          28000000,
          31500000,
          22500000,
          22000000,
          19500000,
          19500000,
          18500000,
          24000000,
          20000000,
          19500000,
          18500000,
          15000000,
          18000000,
          14500000,
          4800000,
          19000000,
          22000000,
          18500000,
          16000000,
          3000000,
          14500000,
          7000000
         ],
         "xaxis": "x",
         "y": [
          370000,
          160000,
          250000,
          250000,
          210000,
          300000,
          195000,
          220000,
          190000,
          190000,
          165000,
          170000,
          125000,
          155000,
          155000,
          200000,
          150000,
          160000,
          190000,
          140000,
          210000,
          150000,
          170000,
          130000,
          150000,
          93000,
          140000,
          120000,
          105000,
          90000,
          140000,
          120000,
          90000,
          110000,
          110000,
          110000,
          47000,
          125000,
          120000,
          115000,
          82000,
          125000,
          160000,
          130000,
          115000,
          140000,
          120000,
          105000,
          140000,
          110000,
          100000,
          59000,
          120000,
          93000,
          86000,
          53000,
          96000,
          105000,
          96000,
          26000,
          115000,
          58000,
          92000,
          70000,
          61000,
          86000,
          94000
         ],
         "yaxis": "y"
        },
        {
         "hovertemplate": "<b>%{hovertext}</b><br><br>isOver25=False<br>value_eur=%{x}<br>wage_eur=%{y}<br>potential=%{marker.size}<extra></extra>",
         "hovertext": [
          "R. Sterling",
          "Bernardo Silva",
          "Bruno Fernandes",
          "T. Alexander-Arnold",
          "K. Havertz",
          "Rodri",
          "T. Werner",
          "M. Rashford",
          "W. Ndidi",
          "A. Martial",
          "Gabriel Jesus",
          "D. van de Beek",
          "D. Alli",
          "A. Wan-Bissaka",
          "S. Bergwijn",
          "J. Gomez",
          "N. Pépé",
          "Reguilón",
          "Kepa",
          "G. Lo Celso",
          "Rúben Neves",
          "L. Shaw",
          "D. Sánchez",
          "J. Maddison",
          "Ferran Torres",
          "Richarlison",
          "C. Pulisic",
          "Y. Tielemans",
          "T. Souček",
          "N. Keïta",
          "L. Torreira",
          "B. Chilwell",
          "B. Mendy"
         ],
         "legendgroup": "False",
         "marker": {
          "color": "royalblue",
          "size": [
           90,
           88,
           90,
           92,
           93,
           88,
           88,
           91,
           88,
           88,
           87,
           87,
           87,
           88,
           88,
           88,
           85,
           89,
           86,
           87,
           87,
           83,
           84,
           85,
           89,
           88,
           87,
           85,
           86,
           85,
           85,
           85,
           84
          ],
          "sizemode": "area",
          "sizeref": 0.2325,
          "symbol": "circle"
         },
         "mode": "markers",
         "name": "False",
         "orientation": "v",
         "showlegend": true,
         "type": "scatter",
         "x": [
          72500000,
          60000000,
          63000000,
          60000000,
          57000000,
          44000000,
          49500000,
          53000000,
          36500000,
          41000000,
          34500000,
          33000000,
          34000000,
          30500000,
          34500000,
          31000000,
          28000000,
          27500000,
          21000000,
          29000000,
          29000000,
          19000000,
          20000000,
          23000000,
          26500000,
          25500000,
          24500000,
          23000000,
          21500000,
          22500000,
          21000000,
          20500000,
          19500000
         ],
         "xaxis": "x",
         "y": [
          270000,
          230000,
          195000,
          110000,
          105000,
          145000,
          135000,
          150000,
          96000,
          155000,
          150000,
          125000,
          105000,
          115000,
          105000,
          93000,
          98000,
          85000,
          76000,
          95000,
          89000,
          97000,
          79000,
          82000,
          97000,
          90000,
          83000,
          82000,
          46000,
          96000,
          74000,
          79000,
          115000
         ],
         "yaxis": "y"
        }
       ],
       "layout": {
        "legend": {
         "itemsizing": "constant",
         "title": {
          "text": "isOver25"
         },
         "tracegroupgap": 0
        },
        "template": {
         "data": {
          "bar": [
           {
            "error_x": {
             "color": "#2a3f5f"
            },
            "error_y": {
             "color": "#2a3f5f"
            },
            "marker": {
             "line": {
              "color": "#E5ECF6",
              "width": 0.5
             }
            },
            "type": "bar"
           }
          ],
          "barpolar": [
           {
            "marker": {
             "line": {
              "color": "#E5ECF6",
              "width": 0.5
             }
            },
            "type": "barpolar"
           }
          ],
          "carpet": [
           {
            "aaxis": {
             "endlinecolor": "#2a3f5f",
             "gridcolor": "white",
             "linecolor": "white",
             "minorgridcolor": "white",
             "startlinecolor": "#2a3f5f"
            },
            "baxis": {
             "endlinecolor": "#2a3f5f",
             "gridcolor": "white",
             "linecolor": "white",
             "minorgridcolor": "white",
             "startlinecolor": "#2a3f5f"
            },
            "type": "carpet"
           }
          ],
          "choropleth": [
           {
            "colorbar": {
             "outlinewidth": 0,
             "ticks": ""
            },
            "type": "choropleth"
           }
          ],
          "contour": [
           {
            "colorbar": {
             "outlinewidth": 0,
             "ticks": ""
            },
            "colorscale": [
             [
              0,
              "#0d0887"
             ],
             [
              0.1111111111111111,
              "#46039f"
             ],
             [
              0.2222222222222222,
              "#7201a8"
             ],
             [
              0.3333333333333333,
              "#9c179e"
             ],
             [
              0.4444444444444444,
              "#bd3786"
             ],
             [
              0.5555555555555556,
              "#d8576b"
             ],
             [
              0.6666666666666666,
              "#ed7953"
             ],
             [
              0.7777777777777778,
              "#fb9f3a"
             ],
             [
              0.8888888888888888,
              "#fdca26"
             ],
             [
              1,
              "#f0f921"
             ]
            ],
            "type": "contour"
           }
          ],
          "contourcarpet": [
           {
            "colorbar": {
             "outlinewidth": 0,
             "ticks": ""
            },
            "type": "contourcarpet"
           }
          ],
          "heatmap": [
           {
            "colorbar": {
             "outlinewidth": 0,
             "ticks": ""
            },
            "colorscale": [
             [
              0,
              "#0d0887"
             ],
             [
              0.1111111111111111,
              "#46039f"
             ],
             [
              0.2222222222222222,
              "#7201a8"
             ],
             [
              0.3333333333333333,
              "#9c179e"
             ],
             [
              0.4444444444444444,
              "#bd3786"
             ],
             [
              0.5555555555555556,
              "#d8576b"
             ],
             [
              0.6666666666666666,
              "#ed7953"
             ],
             [
              0.7777777777777778,
              "#fb9f3a"
             ],
             [
              0.8888888888888888,
              "#fdca26"
             ],
             [
              1,
              "#f0f921"
             ]
            ],
            "type": "heatmap"
           }
          ],
          "heatmapgl": [
           {
            "colorbar": {
             "outlinewidth": 0,
             "ticks": ""
            },
            "colorscale": [
             [
              0,
              "#0d0887"
             ],
             [
              0.1111111111111111,
              "#46039f"
             ],
             [
              0.2222222222222222,
              "#7201a8"
             ],
             [
              0.3333333333333333,
              "#9c179e"
             ],
             [
              0.4444444444444444,
              "#bd3786"
             ],
             [
              0.5555555555555556,
              "#d8576b"
             ],
             [
              0.6666666666666666,
              "#ed7953"
             ],
             [
              0.7777777777777778,
              "#fb9f3a"
             ],
             [
              0.8888888888888888,
              "#fdca26"
             ],
             [
              1,
              "#f0f921"
             ]
            ],
            "type": "heatmapgl"
           }
          ],
          "histogram": [
           {
            "marker": {
             "colorbar": {
              "outlinewidth": 0,
              "ticks": ""
             }
            },
            "type": "histogram"
           }
          ],
          "histogram2d": [
           {
            "colorbar": {
             "outlinewidth": 0,
             "ticks": ""
            },
            "colorscale": [
             [
              0,
              "#0d0887"
             ],
             [
              0.1111111111111111,
              "#46039f"
             ],
             [
              0.2222222222222222,
              "#7201a8"
             ],
             [
              0.3333333333333333,
              "#9c179e"
             ],
             [
              0.4444444444444444,
              "#bd3786"
             ],
             [
              0.5555555555555556,
              "#d8576b"
             ],
             [
              0.6666666666666666,
              "#ed7953"
             ],
             [
              0.7777777777777778,
              "#fb9f3a"
             ],
             [
              0.8888888888888888,
              "#fdca26"
             ],
             [
              1,
              "#f0f921"
             ]
            ],
            "type": "histogram2d"
           }
          ],
          "histogram2dcontour": [
           {
            "colorbar": {
             "outlinewidth": 0,
             "ticks": ""
            },
            "colorscale": [
             [
              0,
              "#0d0887"
             ],
             [
              0.1111111111111111,
              "#46039f"
             ],
             [
              0.2222222222222222,
              "#7201a8"
             ],
             [
              0.3333333333333333,
              "#9c179e"
             ],
             [
              0.4444444444444444,
              "#bd3786"
             ],
             [
              0.5555555555555556,
              "#d8576b"
             ],
             [
              0.6666666666666666,
              "#ed7953"
             ],
             [
              0.7777777777777778,
              "#fb9f3a"
             ],
             [
              0.8888888888888888,
              "#fdca26"
             ],
             [
              1,
              "#f0f921"
             ]
            ],
            "type": "histogram2dcontour"
           }
          ],
          "mesh3d": [
           {
            "colorbar": {
             "outlinewidth": 0,
             "ticks": ""
            },
            "type": "mesh3d"
           }
          ],
          "parcoords": [
           {
            "line": {
             "colorbar": {
              "outlinewidth": 0,
              "ticks": ""
             }
            },
            "type": "parcoords"
           }
          ],
          "pie": [
           {
            "automargin": true,
            "type": "pie"
           }
          ],
          "scatter": [
           {
            "marker": {
             "colorbar": {
              "outlinewidth": 0,
              "ticks": ""
             }
            },
            "type": "scatter"
           }
          ],
          "scatter3d": [
           {
            "line": {
             "colorbar": {
              "outlinewidth": 0,
              "ticks": ""
             }
            },
            "marker": {
             "colorbar": {
              "outlinewidth": 0,
              "ticks": ""
             }
            },
            "type": "scatter3d"
           }
          ],
          "scattercarpet": [
           {
            "marker": {
             "colorbar": {
              "outlinewidth": 0,
              "ticks": ""
             }
            },
            "type": "scattercarpet"
           }
          ],
          "scattergeo": [
           {
            "marker": {
             "colorbar": {
              "outlinewidth": 0,
              "ticks": ""
             }
            },
            "type": "scattergeo"
           }
          ],
          "scattergl": [
           {
            "marker": {
             "colorbar": {
              "outlinewidth": 0,
              "ticks": ""
             }
            },
            "type": "scattergl"
           }
          ],
          "scattermapbox": [
           {
            "marker": {
             "colorbar": {
              "outlinewidth": 0,
              "ticks": ""
             }
            },
            "type": "scattermapbox"
           }
          ],
          "scatterpolar": [
           {
            "marker": {
             "colorbar": {
              "outlinewidth": 0,
              "ticks": ""
             }
            },
            "type": "scatterpolar"
           }
          ],
          "scatterpolargl": [
           {
            "marker": {
             "colorbar": {
              "outlinewidth": 0,
              "ticks": ""
             }
            },
            "type": "scatterpolargl"
           }
          ],
          "scatterternary": [
           {
            "marker": {
             "colorbar": {
              "outlinewidth": 0,
              "ticks": ""
             }
            },
            "type": "scatterternary"
           }
          ],
          "surface": [
           {
            "colorbar": {
             "outlinewidth": 0,
             "ticks": ""
            },
            "colorscale": [
             [
              0,
              "#0d0887"
             ],
             [
              0.1111111111111111,
              "#46039f"
             ],
             [
              0.2222222222222222,
              "#7201a8"
             ],
             [
              0.3333333333333333,
              "#9c179e"
             ],
             [
              0.4444444444444444,
              "#bd3786"
             ],
             [
              0.5555555555555556,
              "#d8576b"
             ],
             [
              0.6666666666666666,
              "#ed7953"
             ],
             [
              0.7777777777777778,
              "#fb9f3a"
             ],
             [
              0.8888888888888888,
              "#fdca26"
             ],
             [
              1,
              "#f0f921"
             ]
            ],
            "type": "surface"
           }
          ],
          "table": [
           {
            "cells": {
             "fill": {
              "color": "#EBF0F8"
             },
             "line": {
              "color": "white"
             }
            },
            "header": {
             "fill": {
              "color": "#C8D4E3"
             },
             "line": {
              "color": "white"
             }
            },
            "type": "table"
           }
          ]
         },
         "layout": {
          "annotationdefaults": {
           "arrowcolor": "#2a3f5f",
           "arrowhead": 0,
           "arrowwidth": 1
          },
          "autotypenumbers": "strict",
          "coloraxis": {
           "colorbar": {
            "outlinewidth": 0,
            "ticks": ""
           }
          },
          "colorscale": {
           "diverging": [
            [
             0,
             "#8e0152"
            ],
            [
             0.1,
             "#c51b7d"
            ],
            [
             0.2,
             "#de77ae"
            ],
            [
             0.3,
             "#f1b6da"
            ],
            [
             0.4,
             "#fde0ef"
            ],
            [
             0.5,
             "#f7f7f7"
            ],
            [
             0.6,
             "#e6f5d0"
            ],
            [
             0.7,
             "#b8e186"
            ],
            [
             0.8,
             "#7fbc41"
            ],
            [
             0.9,
             "#4d9221"
            ],
            [
             1,
             "#276419"
            ]
           ],
           "sequential": [
            [
             0,
             "#0d0887"
            ],
            [
             0.1111111111111111,
             "#46039f"
            ],
            [
             0.2222222222222222,
             "#7201a8"
            ],
            [
             0.3333333333333333,
             "#9c179e"
            ],
            [
             0.4444444444444444,
             "#bd3786"
            ],
            [
             0.5555555555555556,
             "#d8576b"
            ],
            [
             0.6666666666666666,
             "#ed7953"
            ],
            [
             0.7777777777777778,
             "#fb9f3a"
            ],
            [
             0.8888888888888888,
             "#fdca26"
            ],
            [
             1,
             "#f0f921"
            ]
           ],
           "sequentialminus": [
            [
             0,
             "#0d0887"
            ],
            [
             0.1111111111111111,
             "#46039f"
            ],
            [
             0.2222222222222222,
             "#7201a8"
            ],
            [
             0.3333333333333333,
             "#9c179e"
            ],
            [
             0.4444444444444444,
             "#bd3786"
            ],
            [
             0.5555555555555556,
             "#d8576b"
            ],
            [
             0.6666666666666666,
             "#ed7953"
            ],
            [
             0.7777777777777778,
             "#fb9f3a"
            ],
            [
             0.8888888888888888,
             "#fdca26"
            ],
            [
             1,
             "#f0f921"
            ]
           ]
          },
          "colorway": [
           "#636efa",
           "#EF553B",
           "#00cc96",
           "#ab63fa",
           "#FFA15A",
           "#19d3f3",
           "#FF6692",
           "#B6E880",
           "#FF97FF",
           "#FECB52"
          ],
          "font": {
           "color": "#2a3f5f"
          },
          "geo": {
           "bgcolor": "white",
           "lakecolor": "white",
           "landcolor": "#E5ECF6",
           "showlakes": true,
           "showland": true,
           "subunitcolor": "white"
          },
          "hoverlabel": {
           "align": "left"
          },
          "hovermode": "closest",
          "mapbox": {
           "style": "light"
          },
          "paper_bgcolor": "white",
          "plot_bgcolor": "#E5ECF6",
          "polar": {
           "angularaxis": {
            "gridcolor": "white",
            "linecolor": "white",
            "ticks": ""
           },
           "bgcolor": "#E5ECF6",
           "radialaxis": {
            "gridcolor": "white",
            "linecolor": "white",
            "ticks": ""
           }
          },
          "scene": {
           "xaxis": {
            "backgroundcolor": "#E5ECF6",
            "gridcolor": "white",
            "gridwidth": 2,
            "linecolor": "white",
            "showbackground": true,
            "ticks": "",
            "zerolinecolor": "white"
           },
           "yaxis": {
            "backgroundcolor": "#E5ECF6",
            "gridcolor": "white",
            "gridwidth": 2,
            "linecolor": "white",
            "showbackground": true,
            "ticks": "",
            "zerolinecolor": "white"
           },
           "zaxis": {
            "backgroundcolor": "#E5ECF6",
            "gridcolor": "white",
            "gridwidth": 2,
            "linecolor": "white",
            "showbackground": true,
            "ticks": "",
            "zerolinecolor": "white"
           }
          },
          "shapedefaults": {
           "line": {
            "color": "#2a3f5f"
           }
          },
          "ternary": {
           "aaxis": {
            "gridcolor": "white",
            "linecolor": "white",
            "ticks": ""
           },
           "baxis": {
            "gridcolor": "white",
            "linecolor": "white",
            "ticks": ""
           },
           "bgcolor": "#E5ECF6",
           "caxis": {
            "gridcolor": "white",
            "linecolor": "white",
            "ticks": ""
           }
          },
          "title": {
           "x": 0.05
          },
          "xaxis": {
           "automargin": true,
           "gridcolor": "white",
           "linecolor": "white",
           "ticks": "",
           "title": {
            "standoff": 15
           },
           "zerolinecolor": "white",
           "zerolinewidth": 2
          },
          "yaxis": {
           "automargin": true,
           "gridcolor": "white",
           "linecolor": "white",
           "ticks": "",
           "title": {
            "standoff": 15
           },
           "zerolinecolor": "white",
           "zerolinewidth": 2
          }
         }
        },
        "title": {
         "text": "Wage and Value of top 100 players in English Premier League"
        },
        "xaxis": {
         "anchor": "y",
         "domain": [
          0,
          1
         ],
         "title": {
          "text": "value_eur"
         }
        },
        "yaxis": {
         "anchor": "x",
         "domain": [
          0,
          1
         ],
         "title": {
          "text": "wage_eur"
         }
        }
       }
      }
     },
     "metadata": {}
    }
   ],
   "source": [
    "fig1.show()"
   ]
  },
  {
   "cell_type": "code",
   "execution_count": 22,
   "metadata": {},
   "outputs": [],
   "source": [
    "def value_by_league(league):\n",
    "    df_plot = df[df['league_name'] == league].sort_values('overall',ascending = False).head(100)\n",
    "    #df_plot.columns = ['nationality', 'count']\n",
    "    fig = px.scatter(data_frame  = df_plot, x=\"value_eur\", y=\"wage_eur\",color=\"isOver25\", size = 'potential',\n",
    "                     color_discrete_sequence=['red','royalblue'], hover_name ='short_name'\n",
    "                    ,  title = ('Wage and Value of top 100 players in '+league))\n",
    "    fig.show()"
   ]
  },
  {
   "cell_type": "code",
   "execution_count": 23,
   "metadata": {},
   "outputs": [
    {
     "output_type": "display_data",
     "data": {
      "application/vnd.plotly.v1+json": {
       "config": {
        "plotlyServerURL": "https://plot.ly"
       },
       "data": [
        {
         "hovertemplate": "<b>%{hovertext}</b><br><br>isOver25=True<br>value_eur=%{x}<br>wage_eur=%{y}<br>potential=%{marker.size}<extra></extra>",
         "hovertext": [
          "K. De Bruyne",
          "Alisson",
          "S. Mané",
          "M. Salah",
          "V. van Dijk",
          "S. Agüero",
          "Ederson",
          "H. Kane",
          "N. Kanté",
          "Roberto Firmino",
          "H. Son",
          "P. Aubameyang",
          "H. Lloris",
          "A. Robertson",
          "Fabinho",
          "A. Laporte",
          "De Gea",
          "J. Vardy",
          "P. Pogba",
          "J. Henderson",
          "R. Mahrez",
          "Thiago",
          "K. Walker",
          "T. Alderweireld",
          "G. Wijnaldum",
          "Thiago Silva",
          "H. Ziyech",
          "Ricardo Pereira",
          "B. Leno",
          "K. Schmeichel",
          "R. Jiménez",
          "Azpilicueta",
          "Rui Patrício",
          "Fernandinho",
          "L. Digne",
          "João Moutinho",
          "M. Dúbravka",
          "Jorginho",
          "Lucas Moura",
          "Allan",
          "W. Zaha",
          "A. Lacazette",
          "I. Gündoğan",
          "G. Bale",
          "J. Matip",
          "João Cancelo",
          "M. Kovačić",
          "J. Rodríguez",
          "Rodrigo",
          "Willian",
          "M. Özil",
          "N. Pope",
          "H. Maguire",
          "A. Areola",
          "Jonny",
          "Felipe Anderson",
          "M. Doherty",
          "X. Shaqiri",
          "Marcos Alonso",
          "L. Fabiański",
          "Fred",
          "S. Haller",
          "A. Rüdiger",
          "J. Pickford",
          "B. Ivanović",
          "B. Davies",
          "J. Milner"
         ],
         "legendgroup": "True",
         "marker": {
          "color": "red",
          "size": [
           91,
           91,
           90,
           90,
           91,
           89,
           91,
           89,
           88,
           87,
           87,
           87,
           87,
           89,
           89,
           90,
           86,
           86,
           87,
           86,
           85,
           85,
           85,
           85,
           85,
           85,
           86,
           87,
           87,
           84,
           84,
           84,
           84,
           84,
           85,
           83,
           83,
           83,
           83,
           83,
           83,
           83,
           83,
           83,
           84,
           86,
           86,
           82,
           82,
           82,
           82,
           83,
           85,
           86,
           84,
           81,
           81,
           81,
           81,
           81,
           83,
           83,
           83,
           84,
           80,
           81,
           80
          ],
          "sizemode": "area",
          "sizeref": 0.2325,
          "symbol": "circle"
         },
         "mode": "markers",
         "name": "True",
         "orientation": "v",
         "showlegend": true,
         "type": "scatter",
         "x": [
          87000000,
          62500000,
          78000000,
          78000000,
          75500000,
          53000000,
          53500000,
          71000000,
          51000000,
          52000000,
          52500000,
          45000000,
          27000000,
          53000000,
          54500000,
          56000000,
          31500000,
          28000000,
          50000000,
          36500000,
          37500000,
          37000000,
          30500000,
          28500000,
          37000000,
          11500000,
          44000000,
          40500000,
          33500000,
          17000000,
          31000000,
          24500000,
          19000000,
          9500000,
          31500000,
          15000000,
          16500000,
          25500000,
          27000000,
          25000000,
          27000000,
          26000000,
          25000000,
          24500000,
          25500000,
          28000000,
          31500000,
          22500000,
          22000000,
          19500000,
          19500000,
          18500000,
          24000000,
          20000000,
          19500000,
          18500000,
          15000000,
          18000000,
          14500000,
          4800000,
          19000000,
          22000000,
          18500000,
          16000000,
          3000000,
          14500000,
          7000000
         ],
         "xaxis": "x",
         "y": [
          370000,
          160000,
          250000,
          250000,
          210000,
          300000,
          195000,
          220000,
          190000,
          190000,
          165000,
          170000,
          125000,
          155000,
          155000,
          200000,
          150000,
          160000,
          190000,
          140000,
          210000,
          150000,
          170000,
          130000,
          150000,
          93000,
          140000,
          120000,
          105000,
          90000,
          140000,
          120000,
          90000,
          110000,
          110000,
          110000,
          47000,
          125000,
          120000,
          115000,
          82000,
          125000,
          160000,
          130000,
          115000,
          140000,
          120000,
          105000,
          140000,
          110000,
          100000,
          59000,
          120000,
          93000,
          86000,
          53000,
          96000,
          105000,
          96000,
          26000,
          115000,
          58000,
          92000,
          70000,
          61000,
          86000,
          94000
         ],
         "yaxis": "y"
        },
        {
         "hovertemplate": "<b>%{hovertext}</b><br><br>isOver25=False<br>value_eur=%{x}<br>wage_eur=%{y}<br>potential=%{marker.size}<extra></extra>",
         "hovertext": [
          "R. Sterling",
          "Bernardo Silva",
          "Bruno Fernandes",
          "T. Alexander-Arnold",
          "K. Havertz",
          "Rodri",
          "T. Werner",
          "M. Rashford",
          "W. Ndidi",
          "A. Martial",
          "Gabriel Jesus",
          "D. van de Beek",
          "D. Alli",
          "A. Wan-Bissaka",
          "S. Bergwijn",
          "J. Gomez",
          "N. Pépé",
          "Reguilón",
          "Kepa",
          "G. Lo Celso",
          "Rúben Neves",
          "L. Shaw",
          "D. Sánchez",
          "J. Maddison",
          "Ferran Torres",
          "Richarlison",
          "C. Pulisic",
          "Y. Tielemans",
          "T. Souček",
          "N. Keïta",
          "L. Torreira",
          "B. Chilwell",
          "B. Mendy"
         ],
         "legendgroup": "False",
         "marker": {
          "color": "royalblue",
          "size": [
           90,
           88,
           90,
           92,
           93,
           88,
           88,
           91,
           88,
           88,
           87,
           87,
           87,
           88,
           88,
           88,
           85,
           89,
           86,
           87,
           87,
           83,
           84,
           85,
           89,
           88,
           87,
           85,
           86,
           85,
           85,
           85,
           84
          ],
          "sizemode": "area",
          "sizeref": 0.2325,
          "symbol": "circle"
         },
         "mode": "markers",
         "name": "False",
         "orientation": "v",
         "showlegend": true,
         "type": "scatter",
         "x": [
          72500000,
          60000000,
          63000000,
          60000000,
          57000000,
          44000000,
          49500000,
          53000000,
          36500000,
          41000000,
          34500000,
          33000000,
          34000000,
          30500000,
          34500000,
          31000000,
          28000000,
          27500000,
          21000000,
          29000000,
          29000000,
          19000000,
          20000000,
          23000000,
          26500000,
          25500000,
          24500000,
          23000000,
          21500000,
          22500000,
          21000000,
          20500000,
          19500000
         ],
         "xaxis": "x",
         "y": [
          270000,
          230000,
          195000,
          110000,
          105000,
          145000,
          135000,
          150000,
          96000,
          155000,
          150000,
          125000,
          105000,
          115000,
          105000,
          93000,
          98000,
          85000,
          76000,
          95000,
          89000,
          97000,
          79000,
          82000,
          97000,
          90000,
          83000,
          82000,
          46000,
          96000,
          74000,
          79000,
          115000
         ],
         "yaxis": "y"
        }
       ],
       "layout": {
        "legend": {
         "itemsizing": "constant",
         "title": {
          "text": "isOver25"
         },
         "tracegroupgap": 0
        },
        "template": {
         "data": {
          "bar": [
           {
            "error_x": {
             "color": "#2a3f5f"
            },
            "error_y": {
             "color": "#2a3f5f"
            },
            "marker": {
             "line": {
              "color": "#E5ECF6",
              "width": 0.5
             }
            },
            "type": "bar"
           }
          ],
          "barpolar": [
           {
            "marker": {
             "line": {
              "color": "#E5ECF6",
              "width": 0.5
             }
            },
            "type": "barpolar"
           }
          ],
          "carpet": [
           {
            "aaxis": {
             "endlinecolor": "#2a3f5f",
             "gridcolor": "white",
             "linecolor": "white",
             "minorgridcolor": "white",
             "startlinecolor": "#2a3f5f"
            },
            "baxis": {
             "endlinecolor": "#2a3f5f",
             "gridcolor": "white",
             "linecolor": "white",
             "minorgridcolor": "white",
             "startlinecolor": "#2a3f5f"
            },
            "type": "carpet"
           }
          ],
          "choropleth": [
           {
            "colorbar": {
             "outlinewidth": 0,
             "ticks": ""
            },
            "type": "choropleth"
           }
          ],
          "contour": [
           {
            "colorbar": {
             "outlinewidth": 0,
             "ticks": ""
            },
            "colorscale": [
             [
              0,
              "#0d0887"
             ],
             [
              0.1111111111111111,
              "#46039f"
             ],
             [
              0.2222222222222222,
              "#7201a8"
             ],
             [
              0.3333333333333333,
              "#9c179e"
             ],
             [
              0.4444444444444444,
              "#bd3786"
             ],
             [
              0.5555555555555556,
              "#d8576b"
             ],
             [
              0.6666666666666666,
              "#ed7953"
             ],
             [
              0.7777777777777778,
              "#fb9f3a"
             ],
             [
              0.8888888888888888,
              "#fdca26"
             ],
             [
              1,
              "#f0f921"
             ]
            ],
            "type": "contour"
           }
          ],
          "contourcarpet": [
           {
            "colorbar": {
             "outlinewidth": 0,
             "ticks": ""
            },
            "type": "contourcarpet"
           }
          ],
          "heatmap": [
           {
            "colorbar": {
             "outlinewidth": 0,
             "ticks": ""
            },
            "colorscale": [
             [
              0,
              "#0d0887"
             ],
             [
              0.1111111111111111,
              "#46039f"
             ],
             [
              0.2222222222222222,
              "#7201a8"
             ],
             [
              0.3333333333333333,
              "#9c179e"
             ],
             [
              0.4444444444444444,
              "#bd3786"
             ],
             [
              0.5555555555555556,
              "#d8576b"
             ],
             [
              0.6666666666666666,
              "#ed7953"
             ],
             [
              0.7777777777777778,
              "#fb9f3a"
             ],
             [
              0.8888888888888888,
              "#fdca26"
             ],
             [
              1,
              "#f0f921"
             ]
            ],
            "type": "heatmap"
           }
          ],
          "heatmapgl": [
           {
            "colorbar": {
             "outlinewidth": 0,
             "ticks": ""
            },
            "colorscale": [
             [
              0,
              "#0d0887"
             ],
             [
              0.1111111111111111,
              "#46039f"
             ],
             [
              0.2222222222222222,
              "#7201a8"
             ],
             [
              0.3333333333333333,
              "#9c179e"
             ],
             [
              0.4444444444444444,
              "#bd3786"
             ],
             [
              0.5555555555555556,
              "#d8576b"
             ],
             [
              0.6666666666666666,
              "#ed7953"
             ],
             [
              0.7777777777777778,
              "#fb9f3a"
             ],
             [
              0.8888888888888888,
              "#fdca26"
             ],
             [
              1,
              "#f0f921"
             ]
            ],
            "type": "heatmapgl"
           }
          ],
          "histogram": [
           {
            "marker": {
             "colorbar": {
              "outlinewidth": 0,
              "ticks": ""
             }
            },
            "type": "histogram"
           }
          ],
          "histogram2d": [
           {
            "colorbar": {
             "outlinewidth": 0,
             "ticks": ""
            },
            "colorscale": [
             [
              0,
              "#0d0887"
             ],
             [
              0.1111111111111111,
              "#46039f"
             ],
             [
              0.2222222222222222,
              "#7201a8"
             ],
             [
              0.3333333333333333,
              "#9c179e"
             ],
             [
              0.4444444444444444,
              "#bd3786"
             ],
             [
              0.5555555555555556,
              "#d8576b"
             ],
             [
              0.6666666666666666,
              "#ed7953"
             ],
             [
              0.7777777777777778,
              "#fb9f3a"
             ],
             [
              0.8888888888888888,
              "#fdca26"
             ],
             [
              1,
              "#f0f921"
             ]
            ],
            "type": "histogram2d"
           }
          ],
          "histogram2dcontour": [
           {
            "colorbar": {
             "outlinewidth": 0,
             "ticks": ""
            },
            "colorscale": [
             [
              0,
              "#0d0887"
             ],
             [
              0.1111111111111111,
              "#46039f"
             ],
             [
              0.2222222222222222,
              "#7201a8"
             ],
             [
              0.3333333333333333,
              "#9c179e"
             ],
             [
              0.4444444444444444,
              "#bd3786"
             ],
             [
              0.5555555555555556,
              "#d8576b"
             ],
             [
              0.6666666666666666,
              "#ed7953"
             ],
             [
              0.7777777777777778,
              "#fb9f3a"
             ],
             [
              0.8888888888888888,
              "#fdca26"
             ],
             [
              1,
              "#f0f921"
             ]
            ],
            "type": "histogram2dcontour"
           }
          ],
          "mesh3d": [
           {
            "colorbar": {
             "outlinewidth": 0,
             "ticks": ""
            },
            "type": "mesh3d"
           }
          ],
          "parcoords": [
           {
            "line": {
             "colorbar": {
              "outlinewidth": 0,
              "ticks": ""
             }
            },
            "type": "parcoords"
           }
          ],
          "pie": [
           {
            "automargin": true,
            "type": "pie"
           }
          ],
          "scatter": [
           {
            "marker": {
             "colorbar": {
              "outlinewidth": 0,
              "ticks": ""
             }
            },
            "type": "scatter"
           }
          ],
          "scatter3d": [
           {
            "line": {
             "colorbar": {
              "outlinewidth": 0,
              "ticks": ""
             }
            },
            "marker": {
             "colorbar": {
              "outlinewidth": 0,
              "ticks": ""
             }
            },
            "type": "scatter3d"
           }
          ],
          "scattercarpet": [
           {
            "marker": {
             "colorbar": {
              "outlinewidth": 0,
              "ticks": ""
             }
            },
            "type": "scattercarpet"
           }
          ],
          "scattergeo": [
           {
            "marker": {
             "colorbar": {
              "outlinewidth": 0,
              "ticks": ""
             }
            },
            "type": "scattergeo"
           }
          ],
          "scattergl": [
           {
            "marker": {
             "colorbar": {
              "outlinewidth": 0,
              "ticks": ""
             }
            },
            "type": "scattergl"
           }
          ],
          "scattermapbox": [
           {
            "marker": {
             "colorbar": {
              "outlinewidth": 0,
              "ticks": ""
             }
            },
            "type": "scattermapbox"
           }
          ],
          "scatterpolar": [
           {
            "marker": {
             "colorbar": {
              "outlinewidth": 0,
              "ticks": ""
             }
            },
            "type": "scatterpolar"
           }
          ],
          "scatterpolargl": [
           {
            "marker": {
             "colorbar": {
              "outlinewidth": 0,
              "ticks": ""
             }
            },
            "type": "scatterpolargl"
           }
          ],
          "scatterternary": [
           {
            "marker": {
             "colorbar": {
              "outlinewidth": 0,
              "ticks": ""
             }
            },
            "type": "scatterternary"
           }
          ],
          "surface": [
           {
            "colorbar": {
             "outlinewidth": 0,
             "ticks": ""
            },
            "colorscale": [
             [
              0,
              "#0d0887"
             ],
             [
              0.1111111111111111,
              "#46039f"
             ],
             [
              0.2222222222222222,
              "#7201a8"
             ],
             [
              0.3333333333333333,
              "#9c179e"
             ],
             [
              0.4444444444444444,
              "#bd3786"
             ],
             [
              0.5555555555555556,
              "#d8576b"
             ],
             [
              0.6666666666666666,
              "#ed7953"
             ],
             [
              0.7777777777777778,
              "#fb9f3a"
             ],
             [
              0.8888888888888888,
              "#fdca26"
             ],
             [
              1,
              "#f0f921"
             ]
            ],
            "type": "surface"
           }
          ],
          "table": [
           {
            "cells": {
             "fill": {
              "color": "#EBF0F8"
             },
             "line": {
              "color": "white"
             }
            },
            "header": {
             "fill": {
              "color": "#C8D4E3"
             },
             "line": {
              "color": "white"
             }
            },
            "type": "table"
           }
          ]
         },
         "layout": {
          "annotationdefaults": {
           "arrowcolor": "#2a3f5f",
           "arrowhead": 0,
           "arrowwidth": 1
          },
          "autotypenumbers": "strict",
          "coloraxis": {
           "colorbar": {
            "outlinewidth": 0,
            "ticks": ""
           }
          },
          "colorscale": {
           "diverging": [
            [
             0,
             "#8e0152"
            ],
            [
             0.1,
             "#c51b7d"
            ],
            [
             0.2,
             "#de77ae"
            ],
            [
             0.3,
             "#f1b6da"
            ],
            [
             0.4,
             "#fde0ef"
            ],
            [
             0.5,
             "#f7f7f7"
            ],
            [
             0.6,
             "#e6f5d0"
            ],
            [
             0.7,
             "#b8e186"
            ],
            [
             0.8,
             "#7fbc41"
            ],
            [
             0.9,
             "#4d9221"
            ],
            [
             1,
             "#276419"
            ]
           ],
           "sequential": [
            [
             0,
             "#0d0887"
            ],
            [
             0.1111111111111111,
             "#46039f"
            ],
            [
             0.2222222222222222,
             "#7201a8"
            ],
            [
             0.3333333333333333,
             "#9c179e"
            ],
            [
             0.4444444444444444,
             "#bd3786"
            ],
            [
             0.5555555555555556,
             "#d8576b"
            ],
            [
             0.6666666666666666,
             "#ed7953"
            ],
            [
             0.7777777777777778,
             "#fb9f3a"
            ],
            [
             0.8888888888888888,
             "#fdca26"
            ],
            [
             1,
             "#f0f921"
            ]
           ],
           "sequentialminus": [
            [
             0,
             "#0d0887"
            ],
            [
             0.1111111111111111,
             "#46039f"
            ],
            [
             0.2222222222222222,
             "#7201a8"
            ],
            [
             0.3333333333333333,
             "#9c179e"
            ],
            [
             0.4444444444444444,
             "#bd3786"
            ],
            [
             0.5555555555555556,
             "#d8576b"
            ],
            [
             0.6666666666666666,
             "#ed7953"
            ],
            [
             0.7777777777777778,
             "#fb9f3a"
            ],
            [
             0.8888888888888888,
             "#fdca26"
            ],
            [
             1,
             "#f0f921"
            ]
           ]
          },
          "colorway": [
           "#636efa",
           "#EF553B",
           "#00cc96",
           "#ab63fa",
           "#FFA15A",
           "#19d3f3",
           "#FF6692",
           "#B6E880",
           "#FF97FF",
           "#FECB52"
          ],
          "font": {
           "color": "#2a3f5f"
          },
          "geo": {
           "bgcolor": "white",
           "lakecolor": "white",
           "landcolor": "#E5ECF6",
           "showlakes": true,
           "showland": true,
           "subunitcolor": "white"
          },
          "hoverlabel": {
           "align": "left"
          },
          "hovermode": "closest",
          "mapbox": {
           "style": "light"
          },
          "paper_bgcolor": "white",
          "plot_bgcolor": "#E5ECF6",
          "polar": {
           "angularaxis": {
            "gridcolor": "white",
            "linecolor": "white",
            "ticks": ""
           },
           "bgcolor": "#E5ECF6",
           "radialaxis": {
            "gridcolor": "white",
            "linecolor": "white",
            "ticks": ""
           }
          },
          "scene": {
           "xaxis": {
            "backgroundcolor": "#E5ECF6",
            "gridcolor": "white",
            "gridwidth": 2,
            "linecolor": "white",
            "showbackground": true,
            "ticks": "",
            "zerolinecolor": "white"
           },
           "yaxis": {
            "backgroundcolor": "#E5ECF6",
            "gridcolor": "white",
            "gridwidth": 2,
            "linecolor": "white",
            "showbackground": true,
            "ticks": "",
            "zerolinecolor": "white"
           },
           "zaxis": {
            "backgroundcolor": "#E5ECF6",
            "gridcolor": "white",
            "gridwidth": 2,
            "linecolor": "white",
            "showbackground": true,
            "ticks": "",
            "zerolinecolor": "white"
           }
          },
          "shapedefaults": {
           "line": {
            "color": "#2a3f5f"
           }
          },
          "ternary": {
           "aaxis": {
            "gridcolor": "white",
            "linecolor": "white",
            "ticks": ""
           },
           "baxis": {
            "gridcolor": "white",
            "linecolor": "white",
            "ticks": ""
           },
           "bgcolor": "#E5ECF6",
           "caxis": {
            "gridcolor": "white",
            "linecolor": "white",
            "ticks": ""
           }
          },
          "title": {
           "x": 0.05
          },
          "xaxis": {
           "automargin": true,
           "gridcolor": "white",
           "linecolor": "white",
           "ticks": "",
           "title": {
            "standoff": 15
           },
           "zerolinecolor": "white",
           "zerolinewidth": 2
          },
          "yaxis": {
           "automargin": true,
           "gridcolor": "white",
           "linecolor": "white",
           "ticks": "",
           "title": {
            "standoff": 15
           },
           "zerolinecolor": "white",
           "zerolinewidth": 2
          }
         }
        },
        "title": {
         "text": "Wage and Value of top 100 players in English Premier League"
        },
        "xaxis": {
         "anchor": "y",
         "domain": [
          0,
          1
         ],
         "title": {
          "text": "value_eur"
         }
        },
        "yaxis": {
         "anchor": "x",
         "domain": [
          0,
          1
         ],
         "title": {
          "text": "wage_eur"
         }
        }
       }
      }
     },
     "metadata": {}
    }
   ],
   "source": [
    "value_by_league('English Premier League')"
   ]
  },
  {
   "cell_type": "code",
   "execution_count": 10,
   "metadata": {},
   "outputs": [],
   "source": [
    "def age_by_club(league):\n",
    "    plot_df = df[df['league_name'] == league].groupby(['club_name','isOver25']).count()['short_name'].reset_index()\n",
    "    plot_df = pd.pivot_table(plot_df, values='short_name', index=['club_name'],\n",
    "                    columns=['isOver25'], aggfunc=np.sum).reset_index()\n",
    "    x = plot_df['club_name']\n",
    "    y = plot_df.iloc[:,-2:].div(plot_df.iloc[:,-2:].sum(axis=1), axis=0)\n",
    "    fig = go.Figure()\n",
    "#    fig.add_bar(x=x,y=y[False])\n",
    "#    fig.add_bar(x=x,y=y[True])\n",
    "#    fig.update_layout(barmode=\"relative\")\n",
    "    fig.add_trace(go.Bar(\n",
    "        y=x,\n",
    "        x=y[False],\n",
    "        name='Under 25y',\n",
    "        orientation='h',\n",
    "        #marker=dict(\n",
    "        #    color='rgba(246, 78, 139, 0.6)',\n",
    "        #    line=dict(color='rgba(246, 78, 139, 1.0)', width=3)\n",
    "        #)\n",
    "    ))\n",
    "    fig.add_trace(go.Bar(\n",
    "         y=x,\n",
    "        x=y[True],\n",
    "        name='Over 25y',\n",
    "        orientation='h',\n",
    "        #marker=dict(\n",
    "            #color='rgba(58, 71, 80, 0.6)',\n",
    "            #line=dict(color='rgba(58, 71, 80, 1.0)', width=3)\n",
    "        #)\n",
    "    ))\n",
    "\n",
    "    fig.update_layout(barmode='stack')\n",
    "    fig.show()"
   ]
  },
  {
   "cell_type": "code",
   "execution_count": 11,
   "metadata": {
    "scrolled": false
   },
   "outputs": [
    {
     "data": {
      "application/vnd.plotly.v1+json": {
       "config": {
        "plotlyServerURL": "https://plot.ly"
       },
       "data": [
        {
         "name": "Under 25y",
         "orientation": "h",
         "type": "bar",
         "x": [
          0.6060606060606061,
          0.6060606060606061,
          0.6363636363636364,
          0.43333333333333335,
          0.5757575757575758,
          0.3333333333333333,
          0.5151515151515151,
          0.5151515151515151,
          0.5757575757575758,
          0.5151515151515151,
          0.5151515151515151,
          0.6363636363636364,
          0.5757575757575758,
          0.3939393939393939,
          0.5161290322580645,
          0.6060606060606061,
          0.5454545454545454,
          0.46875,
          0.5151515151515151,
          0.6363636363636364
         ],
         "y": [
          "Arsenal",
          "Aston Villa",
          "Brighton & Hove Albion",
          "Burnley",
          "Chelsea",
          "Crystal Palace",
          "Everton",
          "Fulham",
          "Leeds United",
          "Leicester City",
          "Liverpool",
          "Manchester City",
          "Manchester United",
          "Newcastle United",
          "Sheffield United",
          "Southampton",
          "Tottenham Hotspur",
          "West Bromwich Albion",
          "West Ham United",
          "Wolverhampton Wanderers"
         ]
        },
        {
         "name": "Over 25y",
         "orientation": "h",
         "type": "bar",
         "x": [
          0.3939393939393939,
          0.3939393939393939,
          0.36363636363636365,
          0.5666666666666667,
          0.42424242424242425,
          0.6666666666666666,
          0.48484848484848486,
          0.48484848484848486,
          0.42424242424242425,
          0.48484848484848486,
          0.48484848484848486,
          0.36363636363636365,
          0.42424242424242425,
          0.6060606060606061,
          0.4838709677419355,
          0.3939393939393939,
          0.45454545454545453,
          0.53125,
          0.48484848484848486,
          0.36363636363636365
         ],
         "y": [
          "Arsenal",
          "Aston Villa",
          "Brighton & Hove Albion",
          "Burnley",
          "Chelsea",
          "Crystal Palace",
          "Everton",
          "Fulham",
          "Leeds United",
          "Leicester City",
          "Liverpool",
          "Manchester City",
          "Manchester United",
          "Newcastle United",
          "Sheffield United",
          "Southampton",
          "Tottenham Hotspur",
          "West Bromwich Albion",
          "West Ham United",
          "Wolverhampton Wanderers"
         ]
        }
       ],
       "layout": {
        "barmode": "stack",
        "template": {
         "data": {
          "bar": [
           {
            "error_x": {
             "color": "#2a3f5f"
            },
            "error_y": {
             "color": "#2a3f5f"
            },
            "marker": {
             "line": {
              "color": "#E5ECF6",
              "width": 0.5
             }
            },
            "type": "bar"
           }
          ],
          "barpolar": [
           {
            "marker": {
             "line": {
              "color": "#E5ECF6",
              "width": 0.5
             }
            },
            "type": "barpolar"
           }
          ],
          "carpet": [
           {
            "aaxis": {
             "endlinecolor": "#2a3f5f",
             "gridcolor": "white",
             "linecolor": "white",
             "minorgridcolor": "white",
             "startlinecolor": "#2a3f5f"
            },
            "baxis": {
             "endlinecolor": "#2a3f5f",
             "gridcolor": "white",
             "linecolor": "white",
             "minorgridcolor": "white",
             "startlinecolor": "#2a3f5f"
            },
            "type": "carpet"
           }
          ],
          "choropleth": [
           {
            "colorbar": {
             "outlinewidth": 0,
             "ticks": ""
            },
            "type": "choropleth"
           }
          ],
          "contour": [
           {
            "colorbar": {
             "outlinewidth": 0,
             "ticks": ""
            },
            "colorscale": [
             [
              0,
              "#0d0887"
             ],
             [
              0.1111111111111111,
              "#46039f"
             ],
             [
              0.2222222222222222,
              "#7201a8"
             ],
             [
              0.3333333333333333,
              "#9c179e"
             ],
             [
              0.4444444444444444,
              "#bd3786"
             ],
             [
              0.5555555555555556,
              "#d8576b"
             ],
             [
              0.6666666666666666,
              "#ed7953"
             ],
             [
              0.7777777777777778,
              "#fb9f3a"
             ],
             [
              0.8888888888888888,
              "#fdca26"
             ],
             [
              1,
              "#f0f921"
             ]
            ],
            "type": "contour"
           }
          ],
          "contourcarpet": [
           {
            "colorbar": {
             "outlinewidth": 0,
             "ticks": ""
            },
            "type": "contourcarpet"
           }
          ],
          "heatmap": [
           {
            "colorbar": {
             "outlinewidth": 0,
             "ticks": ""
            },
            "colorscale": [
             [
              0,
              "#0d0887"
             ],
             [
              0.1111111111111111,
              "#46039f"
             ],
             [
              0.2222222222222222,
              "#7201a8"
             ],
             [
              0.3333333333333333,
              "#9c179e"
             ],
             [
              0.4444444444444444,
              "#bd3786"
             ],
             [
              0.5555555555555556,
              "#d8576b"
             ],
             [
              0.6666666666666666,
              "#ed7953"
             ],
             [
              0.7777777777777778,
              "#fb9f3a"
             ],
             [
              0.8888888888888888,
              "#fdca26"
             ],
             [
              1,
              "#f0f921"
             ]
            ],
            "type": "heatmap"
           }
          ],
          "heatmapgl": [
           {
            "colorbar": {
             "outlinewidth": 0,
             "ticks": ""
            },
            "colorscale": [
             [
              0,
              "#0d0887"
             ],
             [
              0.1111111111111111,
              "#46039f"
             ],
             [
              0.2222222222222222,
              "#7201a8"
             ],
             [
              0.3333333333333333,
              "#9c179e"
             ],
             [
              0.4444444444444444,
              "#bd3786"
             ],
             [
              0.5555555555555556,
              "#d8576b"
             ],
             [
              0.6666666666666666,
              "#ed7953"
             ],
             [
              0.7777777777777778,
              "#fb9f3a"
             ],
             [
              0.8888888888888888,
              "#fdca26"
             ],
             [
              1,
              "#f0f921"
             ]
            ],
            "type": "heatmapgl"
           }
          ],
          "histogram": [
           {
            "marker": {
             "colorbar": {
              "outlinewidth": 0,
              "ticks": ""
             }
            },
            "type": "histogram"
           }
          ],
          "histogram2d": [
           {
            "colorbar": {
             "outlinewidth": 0,
             "ticks": ""
            },
            "colorscale": [
             [
              0,
              "#0d0887"
             ],
             [
              0.1111111111111111,
              "#46039f"
             ],
             [
              0.2222222222222222,
              "#7201a8"
             ],
             [
              0.3333333333333333,
              "#9c179e"
             ],
             [
              0.4444444444444444,
              "#bd3786"
             ],
             [
              0.5555555555555556,
              "#d8576b"
             ],
             [
              0.6666666666666666,
              "#ed7953"
             ],
             [
              0.7777777777777778,
              "#fb9f3a"
             ],
             [
              0.8888888888888888,
              "#fdca26"
             ],
             [
              1,
              "#f0f921"
             ]
            ],
            "type": "histogram2d"
           }
          ],
          "histogram2dcontour": [
           {
            "colorbar": {
             "outlinewidth": 0,
             "ticks": ""
            },
            "colorscale": [
             [
              0,
              "#0d0887"
             ],
             [
              0.1111111111111111,
              "#46039f"
             ],
             [
              0.2222222222222222,
              "#7201a8"
             ],
             [
              0.3333333333333333,
              "#9c179e"
             ],
             [
              0.4444444444444444,
              "#bd3786"
             ],
             [
              0.5555555555555556,
              "#d8576b"
             ],
             [
              0.6666666666666666,
              "#ed7953"
             ],
             [
              0.7777777777777778,
              "#fb9f3a"
             ],
             [
              0.8888888888888888,
              "#fdca26"
             ],
             [
              1,
              "#f0f921"
             ]
            ],
            "type": "histogram2dcontour"
           }
          ],
          "mesh3d": [
           {
            "colorbar": {
             "outlinewidth": 0,
             "ticks": ""
            },
            "type": "mesh3d"
           }
          ],
          "parcoords": [
           {
            "line": {
             "colorbar": {
              "outlinewidth": 0,
              "ticks": ""
             }
            },
            "type": "parcoords"
           }
          ],
          "pie": [
           {
            "automargin": true,
            "type": "pie"
           }
          ],
          "scatter": [
           {
            "marker": {
             "colorbar": {
              "outlinewidth": 0,
              "ticks": ""
             }
            },
            "type": "scatter"
           }
          ],
          "scatter3d": [
           {
            "line": {
             "colorbar": {
              "outlinewidth": 0,
              "ticks": ""
             }
            },
            "marker": {
             "colorbar": {
              "outlinewidth": 0,
              "ticks": ""
             }
            },
            "type": "scatter3d"
           }
          ],
          "scattercarpet": [
           {
            "marker": {
             "colorbar": {
              "outlinewidth": 0,
              "ticks": ""
             }
            },
            "type": "scattercarpet"
           }
          ],
          "scattergeo": [
           {
            "marker": {
             "colorbar": {
              "outlinewidth": 0,
              "ticks": ""
             }
            },
            "type": "scattergeo"
           }
          ],
          "scattergl": [
           {
            "marker": {
             "colorbar": {
              "outlinewidth": 0,
              "ticks": ""
             }
            },
            "type": "scattergl"
           }
          ],
          "scattermapbox": [
           {
            "marker": {
             "colorbar": {
              "outlinewidth": 0,
              "ticks": ""
             }
            },
            "type": "scattermapbox"
           }
          ],
          "scatterpolar": [
           {
            "marker": {
             "colorbar": {
              "outlinewidth": 0,
              "ticks": ""
             }
            },
            "type": "scatterpolar"
           }
          ],
          "scatterpolargl": [
           {
            "marker": {
             "colorbar": {
              "outlinewidth": 0,
              "ticks": ""
             }
            },
            "type": "scatterpolargl"
           }
          ],
          "scatterternary": [
           {
            "marker": {
             "colorbar": {
              "outlinewidth": 0,
              "ticks": ""
             }
            },
            "type": "scatterternary"
           }
          ],
          "surface": [
           {
            "colorbar": {
             "outlinewidth": 0,
             "ticks": ""
            },
            "colorscale": [
             [
              0,
              "#0d0887"
             ],
             [
              0.1111111111111111,
              "#46039f"
             ],
             [
              0.2222222222222222,
              "#7201a8"
             ],
             [
              0.3333333333333333,
              "#9c179e"
             ],
             [
              0.4444444444444444,
              "#bd3786"
             ],
             [
              0.5555555555555556,
              "#d8576b"
             ],
             [
              0.6666666666666666,
              "#ed7953"
             ],
             [
              0.7777777777777778,
              "#fb9f3a"
             ],
             [
              0.8888888888888888,
              "#fdca26"
             ],
             [
              1,
              "#f0f921"
             ]
            ],
            "type": "surface"
           }
          ],
          "table": [
           {
            "cells": {
             "fill": {
              "color": "#EBF0F8"
             },
             "line": {
              "color": "white"
             }
            },
            "header": {
             "fill": {
              "color": "#C8D4E3"
             },
             "line": {
              "color": "white"
             }
            },
            "type": "table"
           }
          ]
         },
         "layout": {
          "annotationdefaults": {
           "arrowcolor": "#2a3f5f",
           "arrowhead": 0,
           "arrowwidth": 1
          },
          "autotypenumbers": "strict",
          "coloraxis": {
           "colorbar": {
            "outlinewidth": 0,
            "ticks": ""
           }
          },
          "colorscale": {
           "diverging": [
            [
             0,
             "#8e0152"
            ],
            [
             0.1,
             "#c51b7d"
            ],
            [
             0.2,
             "#de77ae"
            ],
            [
             0.3,
             "#f1b6da"
            ],
            [
             0.4,
             "#fde0ef"
            ],
            [
             0.5,
             "#f7f7f7"
            ],
            [
             0.6,
             "#e6f5d0"
            ],
            [
             0.7,
             "#b8e186"
            ],
            [
             0.8,
             "#7fbc41"
            ],
            [
             0.9,
             "#4d9221"
            ],
            [
             1,
             "#276419"
            ]
           ],
           "sequential": [
            [
             0,
             "#0d0887"
            ],
            [
             0.1111111111111111,
             "#46039f"
            ],
            [
             0.2222222222222222,
             "#7201a8"
            ],
            [
             0.3333333333333333,
             "#9c179e"
            ],
            [
             0.4444444444444444,
             "#bd3786"
            ],
            [
             0.5555555555555556,
             "#d8576b"
            ],
            [
             0.6666666666666666,
             "#ed7953"
            ],
            [
             0.7777777777777778,
             "#fb9f3a"
            ],
            [
             0.8888888888888888,
             "#fdca26"
            ],
            [
             1,
             "#f0f921"
            ]
           ],
           "sequentialminus": [
            [
             0,
             "#0d0887"
            ],
            [
             0.1111111111111111,
             "#46039f"
            ],
            [
             0.2222222222222222,
             "#7201a8"
            ],
            [
             0.3333333333333333,
             "#9c179e"
            ],
            [
             0.4444444444444444,
             "#bd3786"
            ],
            [
             0.5555555555555556,
             "#d8576b"
            ],
            [
             0.6666666666666666,
             "#ed7953"
            ],
            [
             0.7777777777777778,
             "#fb9f3a"
            ],
            [
             0.8888888888888888,
             "#fdca26"
            ],
            [
             1,
             "#f0f921"
            ]
           ]
          },
          "colorway": [
           "#636efa",
           "#EF553B",
           "#00cc96",
           "#ab63fa",
           "#FFA15A",
           "#19d3f3",
           "#FF6692",
           "#B6E880",
           "#FF97FF",
           "#FECB52"
          ],
          "font": {
           "color": "#2a3f5f"
          },
          "geo": {
           "bgcolor": "white",
           "lakecolor": "white",
           "landcolor": "#E5ECF6",
           "showlakes": true,
           "showland": true,
           "subunitcolor": "white"
          },
          "hoverlabel": {
           "align": "left"
          },
          "hovermode": "closest",
          "mapbox": {
           "style": "light"
          },
          "paper_bgcolor": "white",
          "plot_bgcolor": "#E5ECF6",
          "polar": {
           "angularaxis": {
            "gridcolor": "white",
            "linecolor": "white",
            "ticks": ""
           },
           "bgcolor": "#E5ECF6",
           "radialaxis": {
            "gridcolor": "white",
            "linecolor": "white",
            "ticks": ""
           }
          },
          "scene": {
           "xaxis": {
            "backgroundcolor": "#E5ECF6",
            "gridcolor": "white",
            "gridwidth": 2,
            "linecolor": "white",
            "showbackground": true,
            "ticks": "",
            "zerolinecolor": "white"
           },
           "yaxis": {
            "backgroundcolor": "#E5ECF6",
            "gridcolor": "white",
            "gridwidth": 2,
            "linecolor": "white",
            "showbackground": true,
            "ticks": "",
            "zerolinecolor": "white"
           },
           "zaxis": {
            "backgroundcolor": "#E5ECF6",
            "gridcolor": "white",
            "gridwidth": 2,
            "linecolor": "white",
            "showbackground": true,
            "ticks": "",
            "zerolinecolor": "white"
           }
          },
          "shapedefaults": {
           "line": {
            "color": "#2a3f5f"
           }
          },
          "ternary": {
           "aaxis": {
            "gridcolor": "white",
            "linecolor": "white",
            "ticks": ""
           },
           "baxis": {
            "gridcolor": "white",
            "linecolor": "white",
            "ticks": ""
           },
           "bgcolor": "#E5ECF6",
           "caxis": {
            "gridcolor": "white",
            "linecolor": "white",
            "ticks": ""
           }
          },
          "title": {
           "x": 0.05
          },
          "xaxis": {
           "automargin": true,
           "gridcolor": "white",
           "linecolor": "white",
           "ticks": "",
           "title": {
            "standoff": 15
           },
           "zerolinecolor": "white",
           "zerolinewidth": 2
          },
          "yaxis": {
           "automargin": true,
           "gridcolor": "white",
           "linecolor": "white",
           "ticks": "",
           "title": {
            "standoff": 15
           },
           "zerolinecolor": "white",
           "zerolinewidth": 2
          }
         }
        }
       }
      },
      "text/html": [
       "<div>                            <div id=\"d5566ebd-41bd-432f-b3ca-6d4f05b69eb2\" class=\"plotly-graph-div\" style=\"height:525px; width:100%;\"></div>            <script type=\"text/javascript\">                require([\"plotly\"], function(Plotly) {                    window.PLOTLYENV=window.PLOTLYENV || {};                                    if (document.getElementById(\"d5566ebd-41bd-432f-b3ca-6d4f05b69eb2\")) {                    Plotly.newPlot(                        \"d5566ebd-41bd-432f-b3ca-6d4f05b69eb2\",                        [{\"name\": \"Under 25y\", \"orientation\": \"h\", \"type\": \"bar\", \"x\": [0.6060606060606061, 0.6060606060606061, 0.6363636363636364, 0.43333333333333335, 0.5757575757575758, 0.3333333333333333, 0.5151515151515151, 0.5151515151515151, 0.5757575757575758, 0.5151515151515151, 0.5151515151515151, 0.6363636363636364, 0.5757575757575758, 0.3939393939393939, 0.5161290322580645, 0.6060606060606061, 0.5454545454545454, 0.46875, 0.5151515151515151, 0.6363636363636364], \"y\": [\"Arsenal\", \"Aston Villa\", \"Brighton & Hove Albion\", \"Burnley\", \"Chelsea\", \"Crystal Palace\", \"Everton\", \"Fulham\", \"Leeds United\", \"Leicester City\", \"Liverpool\", \"Manchester City\", \"Manchester United\", \"Newcastle United\", \"Sheffield United\", \"Southampton\", \"Tottenham Hotspur\", \"West Bromwich Albion\", \"West Ham United\", \"Wolverhampton Wanderers\"]}, {\"name\": \"Over 25y\", \"orientation\": \"h\", \"type\": \"bar\", \"x\": [0.3939393939393939, 0.3939393939393939, 0.36363636363636365, 0.5666666666666667, 0.42424242424242425, 0.6666666666666666, 0.48484848484848486, 0.48484848484848486, 0.42424242424242425, 0.48484848484848486, 0.48484848484848486, 0.36363636363636365, 0.42424242424242425, 0.6060606060606061, 0.4838709677419355, 0.3939393939393939, 0.45454545454545453, 0.53125, 0.48484848484848486, 0.36363636363636365], \"y\": [\"Arsenal\", \"Aston Villa\", \"Brighton & Hove Albion\", \"Burnley\", \"Chelsea\", \"Crystal Palace\", \"Everton\", \"Fulham\", \"Leeds United\", \"Leicester City\", \"Liverpool\", \"Manchester City\", \"Manchester United\", \"Newcastle United\", \"Sheffield United\", \"Southampton\", \"Tottenham Hotspur\", \"West Bromwich Albion\", \"West Ham United\", \"Wolverhampton Wanderers\"]}],                        {\"barmode\": \"stack\", \"template\": {\"data\": {\"bar\": [{\"error_x\": {\"color\": \"#2a3f5f\"}, \"error_y\": {\"color\": \"#2a3f5f\"}, \"marker\": {\"line\": {\"color\": \"#E5ECF6\", \"width\": 0.5}}, \"type\": \"bar\"}], \"barpolar\": [{\"marker\": {\"line\": {\"color\": \"#E5ECF6\", \"width\": 0.5}}, \"type\": \"barpolar\"}], \"carpet\": [{\"aaxis\": {\"endlinecolor\": \"#2a3f5f\", \"gridcolor\": \"white\", \"linecolor\": \"white\", \"minorgridcolor\": \"white\", \"startlinecolor\": \"#2a3f5f\"}, \"baxis\": {\"endlinecolor\": \"#2a3f5f\", \"gridcolor\": \"white\", \"linecolor\": \"white\", \"minorgridcolor\": \"white\", \"startlinecolor\": \"#2a3f5f\"}, \"type\": \"carpet\"}], \"choropleth\": [{\"colorbar\": {\"outlinewidth\": 0, \"ticks\": \"\"}, \"type\": \"choropleth\"}], \"contour\": [{\"colorbar\": {\"outlinewidth\": 0, \"ticks\": \"\"}, \"colorscale\": [[0.0, \"#0d0887\"], [0.1111111111111111, \"#46039f\"], [0.2222222222222222, \"#7201a8\"], [0.3333333333333333, \"#9c179e\"], [0.4444444444444444, \"#bd3786\"], [0.5555555555555556, \"#d8576b\"], [0.6666666666666666, \"#ed7953\"], [0.7777777777777778, \"#fb9f3a\"], [0.8888888888888888, \"#fdca26\"], [1.0, \"#f0f921\"]], \"type\": \"contour\"}], \"contourcarpet\": [{\"colorbar\": {\"outlinewidth\": 0, \"ticks\": \"\"}, \"type\": \"contourcarpet\"}], \"heatmap\": [{\"colorbar\": {\"outlinewidth\": 0, \"ticks\": \"\"}, \"colorscale\": [[0.0, \"#0d0887\"], [0.1111111111111111, \"#46039f\"], [0.2222222222222222, \"#7201a8\"], [0.3333333333333333, \"#9c179e\"], [0.4444444444444444, \"#bd3786\"], [0.5555555555555556, \"#d8576b\"], [0.6666666666666666, \"#ed7953\"], [0.7777777777777778, \"#fb9f3a\"], [0.8888888888888888, \"#fdca26\"], [1.0, \"#f0f921\"]], \"type\": \"heatmap\"}], \"heatmapgl\": [{\"colorbar\": {\"outlinewidth\": 0, \"ticks\": \"\"}, \"colorscale\": [[0.0, \"#0d0887\"], [0.1111111111111111, \"#46039f\"], [0.2222222222222222, \"#7201a8\"], [0.3333333333333333, \"#9c179e\"], [0.4444444444444444, \"#bd3786\"], [0.5555555555555556, \"#d8576b\"], [0.6666666666666666, \"#ed7953\"], [0.7777777777777778, \"#fb9f3a\"], [0.8888888888888888, \"#fdca26\"], [1.0, \"#f0f921\"]], \"type\": \"heatmapgl\"}], \"histogram\": [{\"marker\": {\"colorbar\": {\"outlinewidth\": 0, \"ticks\": \"\"}}, \"type\": \"histogram\"}], \"histogram2d\": [{\"colorbar\": {\"outlinewidth\": 0, \"ticks\": \"\"}, \"colorscale\": [[0.0, \"#0d0887\"], [0.1111111111111111, \"#46039f\"], [0.2222222222222222, \"#7201a8\"], [0.3333333333333333, \"#9c179e\"], [0.4444444444444444, \"#bd3786\"], [0.5555555555555556, \"#d8576b\"], [0.6666666666666666, \"#ed7953\"], [0.7777777777777778, \"#fb9f3a\"], [0.8888888888888888, \"#fdca26\"], [1.0, \"#f0f921\"]], \"type\": \"histogram2d\"}], \"histogram2dcontour\": [{\"colorbar\": {\"outlinewidth\": 0, \"ticks\": \"\"}, \"colorscale\": [[0.0, \"#0d0887\"], [0.1111111111111111, \"#46039f\"], [0.2222222222222222, \"#7201a8\"], [0.3333333333333333, \"#9c179e\"], [0.4444444444444444, \"#bd3786\"], [0.5555555555555556, \"#d8576b\"], [0.6666666666666666, \"#ed7953\"], [0.7777777777777778, \"#fb9f3a\"], [0.8888888888888888, \"#fdca26\"], [1.0, \"#f0f921\"]], \"type\": \"histogram2dcontour\"}], \"mesh3d\": [{\"colorbar\": {\"outlinewidth\": 0, \"ticks\": \"\"}, \"type\": \"mesh3d\"}], \"parcoords\": [{\"line\": {\"colorbar\": {\"outlinewidth\": 0, \"ticks\": \"\"}}, \"type\": \"parcoords\"}], \"pie\": [{\"automargin\": true, \"type\": \"pie\"}], \"scatter\": [{\"marker\": {\"colorbar\": {\"outlinewidth\": 0, \"ticks\": \"\"}}, \"type\": \"scatter\"}], \"scatter3d\": [{\"line\": {\"colorbar\": {\"outlinewidth\": 0, \"ticks\": \"\"}}, \"marker\": {\"colorbar\": {\"outlinewidth\": 0, \"ticks\": \"\"}}, \"type\": \"scatter3d\"}], \"scattercarpet\": [{\"marker\": {\"colorbar\": {\"outlinewidth\": 0, \"ticks\": \"\"}}, \"type\": \"scattercarpet\"}], \"scattergeo\": [{\"marker\": {\"colorbar\": {\"outlinewidth\": 0, \"ticks\": \"\"}}, \"type\": \"scattergeo\"}], \"scattergl\": [{\"marker\": {\"colorbar\": {\"outlinewidth\": 0, \"ticks\": \"\"}}, \"type\": \"scattergl\"}], \"scattermapbox\": [{\"marker\": {\"colorbar\": {\"outlinewidth\": 0, \"ticks\": \"\"}}, \"type\": \"scattermapbox\"}], \"scatterpolar\": [{\"marker\": {\"colorbar\": {\"outlinewidth\": 0, \"ticks\": \"\"}}, \"type\": \"scatterpolar\"}], \"scatterpolargl\": [{\"marker\": {\"colorbar\": {\"outlinewidth\": 0, \"ticks\": \"\"}}, \"type\": \"scatterpolargl\"}], \"scatterternary\": [{\"marker\": {\"colorbar\": {\"outlinewidth\": 0, \"ticks\": \"\"}}, \"type\": \"scatterternary\"}], \"surface\": [{\"colorbar\": {\"outlinewidth\": 0, \"ticks\": \"\"}, \"colorscale\": [[0.0, \"#0d0887\"], [0.1111111111111111, \"#46039f\"], [0.2222222222222222, \"#7201a8\"], [0.3333333333333333, \"#9c179e\"], [0.4444444444444444, \"#bd3786\"], [0.5555555555555556, \"#d8576b\"], [0.6666666666666666, \"#ed7953\"], [0.7777777777777778, \"#fb9f3a\"], [0.8888888888888888, \"#fdca26\"], [1.0, \"#f0f921\"]], \"type\": \"surface\"}], \"table\": [{\"cells\": {\"fill\": {\"color\": \"#EBF0F8\"}, \"line\": {\"color\": \"white\"}}, \"header\": {\"fill\": {\"color\": \"#C8D4E3\"}, \"line\": {\"color\": \"white\"}}, \"type\": \"table\"}]}, \"layout\": {\"annotationdefaults\": {\"arrowcolor\": \"#2a3f5f\", \"arrowhead\": 0, \"arrowwidth\": 1}, \"autotypenumbers\": \"strict\", \"coloraxis\": {\"colorbar\": {\"outlinewidth\": 0, \"ticks\": \"\"}}, \"colorscale\": {\"diverging\": [[0, \"#8e0152\"], [0.1, \"#c51b7d\"], [0.2, \"#de77ae\"], [0.3, \"#f1b6da\"], [0.4, \"#fde0ef\"], [0.5, \"#f7f7f7\"], [0.6, \"#e6f5d0\"], [0.7, \"#b8e186\"], [0.8, \"#7fbc41\"], [0.9, \"#4d9221\"], [1, \"#276419\"]], \"sequential\": [[0.0, \"#0d0887\"], [0.1111111111111111, \"#46039f\"], [0.2222222222222222, \"#7201a8\"], [0.3333333333333333, \"#9c179e\"], [0.4444444444444444, \"#bd3786\"], [0.5555555555555556, \"#d8576b\"], [0.6666666666666666, \"#ed7953\"], [0.7777777777777778, \"#fb9f3a\"], [0.8888888888888888, \"#fdca26\"], [1.0, \"#f0f921\"]], \"sequentialminus\": [[0.0, \"#0d0887\"], [0.1111111111111111, \"#46039f\"], [0.2222222222222222, \"#7201a8\"], [0.3333333333333333, \"#9c179e\"], [0.4444444444444444, \"#bd3786\"], [0.5555555555555556, \"#d8576b\"], [0.6666666666666666, \"#ed7953\"], [0.7777777777777778, \"#fb9f3a\"], [0.8888888888888888, \"#fdca26\"], [1.0, \"#f0f921\"]]}, \"colorway\": [\"#636efa\", \"#EF553B\", \"#00cc96\", \"#ab63fa\", \"#FFA15A\", \"#19d3f3\", \"#FF6692\", \"#B6E880\", \"#FF97FF\", \"#FECB52\"], \"font\": {\"color\": \"#2a3f5f\"}, \"geo\": {\"bgcolor\": \"white\", \"lakecolor\": \"white\", \"landcolor\": \"#E5ECF6\", \"showlakes\": true, \"showland\": true, \"subunitcolor\": \"white\"}, \"hoverlabel\": {\"align\": \"left\"}, \"hovermode\": \"closest\", \"mapbox\": {\"style\": \"light\"}, \"paper_bgcolor\": \"white\", \"plot_bgcolor\": \"#E5ECF6\", \"polar\": {\"angularaxis\": {\"gridcolor\": \"white\", \"linecolor\": \"white\", \"ticks\": \"\"}, \"bgcolor\": \"#E5ECF6\", \"radialaxis\": {\"gridcolor\": \"white\", \"linecolor\": \"white\", \"ticks\": \"\"}}, \"scene\": {\"xaxis\": {\"backgroundcolor\": \"#E5ECF6\", \"gridcolor\": \"white\", \"gridwidth\": 2, \"linecolor\": \"white\", \"showbackground\": true, \"ticks\": \"\", \"zerolinecolor\": \"white\"}, \"yaxis\": {\"backgroundcolor\": \"#E5ECF6\", \"gridcolor\": \"white\", \"gridwidth\": 2, \"linecolor\": \"white\", \"showbackground\": true, \"ticks\": \"\", \"zerolinecolor\": \"white\"}, \"zaxis\": {\"backgroundcolor\": \"#E5ECF6\", \"gridcolor\": \"white\", \"gridwidth\": 2, \"linecolor\": \"white\", \"showbackground\": true, \"ticks\": \"\", \"zerolinecolor\": \"white\"}}, \"shapedefaults\": {\"line\": {\"color\": \"#2a3f5f\"}}, \"ternary\": {\"aaxis\": {\"gridcolor\": \"white\", \"linecolor\": \"white\", \"ticks\": \"\"}, \"baxis\": {\"gridcolor\": \"white\", \"linecolor\": \"white\", \"ticks\": \"\"}, \"bgcolor\": \"#E5ECF6\", \"caxis\": {\"gridcolor\": \"white\", \"linecolor\": \"white\", \"ticks\": \"\"}}, \"title\": {\"x\": 0.05}, \"xaxis\": {\"automargin\": true, \"gridcolor\": \"white\", \"linecolor\": \"white\", \"ticks\": \"\", \"title\": {\"standoff\": 15}, \"zerolinecolor\": \"white\", \"zerolinewidth\": 2}, \"yaxis\": {\"automargin\": true, \"gridcolor\": \"white\", \"linecolor\": \"white\", \"ticks\": \"\", \"title\": {\"standoff\": 15}, \"zerolinecolor\": \"white\", \"zerolinewidth\": 2}}}},                        {\"responsive\": true}                    ).then(function(){\n",
       "                            \n",
       "var gd = document.getElementById('d5566ebd-41bd-432f-b3ca-6d4f05b69eb2');\n",
       "var x = new MutationObserver(function (mutations, observer) {{\n",
       "        var display = window.getComputedStyle(gd).display;\n",
       "        if (!display || display === 'none') {{\n",
       "            console.log([gd, 'removed!']);\n",
       "            Plotly.purge(gd);\n",
       "            observer.disconnect();\n",
       "        }}\n",
       "}});\n",
       "\n",
       "// Listen for the removal of the full notebook cells\n",
       "var notebookContainer = gd.closest('#notebook-container');\n",
       "if (notebookContainer) {{\n",
       "    x.observe(notebookContainer, {childList: true});\n",
       "}}\n",
       "\n",
       "// Listen for the clearing of the current output cell\n",
       "var outputEl = gd.closest('.output');\n",
       "if (outputEl) {{\n",
       "    x.observe(outputEl, {childList: true});\n",
       "}}\n",
       "\n",
       "                        })                };                });            </script>        </div>"
      ]
     },
     "metadata": {},
     "output_type": "display_data"
    }
   ],
   "source": [
    "age_by_club('English Premier League')"
   ]
  },
  {
   "cell_type": "code",
   "execution_count": 12,
   "metadata": {},
   "outputs": [
    {
     "data": {
      "application/vnd.plotly.v1+json": {
       "config": {
        "plotlyServerURL": "https://plot.ly"
       },
       "data": [
        {
         "branchvalues": "total",
         "customdata": [
          [
           false
          ],
          [
           false
          ],
          [
           true
          ],
          [
           false
          ],
          [
           false
          ],
          [
           true
          ],
          [
           false
          ],
          [
           false
          ],
          [
           true
          ],
          [
           false
          ],
          [
           false
          ],
          [
           true
          ],
          [
           false
          ],
          [
           true
          ],
          [
           false
          ],
          [
           true
          ],
          [
           true
          ],
          [
           true
          ],
          [
           true
          ],
          [
           true
          ],
          [
           true
          ],
          [
           true
          ],
          [
           true
          ],
          [
           true
          ],
          [
           true
          ],
          [
           true
          ],
          [
           true
          ],
          [
           true
          ],
          [
           false
          ],
          [
           false
          ],
          [
           false
          ],
          [
           false
          ],
          [
           true
          ],
          [
           false
          ],
          [
           false
          ],
          [
           true
          ],
          [
           false
          ],
          [
           false
          ],
          [
           true
          ],
          [
           false
          ],
          [
           false
          ],
          [
           true
          ],
          [
           false
          ],
          [
           false
          ],
          [
           true
          ],
          [
           false
          ],
          [
           true
          ],
          [
           false
          ],
          [
           false
          ],
          [
           true
          ],
          [
           true
          ],
          [
           false
          ],
          [
           true
          ],
          [
           true
          ],
          [
           true
          ],
          [
           true
          ],
          [
           true
          ],
          [
           true
          ],
          [
           true
          ],
          [
           true
          ],
          [
           true
          ],
          [
           true
          ],
          [
           true
          ],
          [
           true
          ],
          [
           true
          ],
          [
           true
          ],
          [
           true
          ],
          [
           true
          ],
          [
           true
          ],
          [
           false
          ],
          [
           true
          ],
          [
           false
          ],
          [
           false
          ],
          [
           false
          ],
          [
           false
          ],
          [
           false
          ],
          [
           false
          ],
          [
           false
          ],
          [
           false
          ],
          [
           false
          ],
          [
           false
          ],
          [
           false
          ],
          [
           false
          ],
          [
           false
          ],
          [
           false
          ],
          [
           false
          ],
          [
           false
          ],
          [
           false
          ],
          [
           true
          ],
          [
           true
          ],
          [
           true
          ],
          [
           true
          ],
          [
           true
          ],
          [
           true
          ],
          [
           true
          ],
          [
           false
          ],
          [
           false
          ],
          [
           false
          ],
          [
           false
          ],
          [
           false
          ],
          [
           false
          ],
          [
           false
          ],
          [
           false
          ],
          [
           true
          ],
          [
           "(?)"
          ],
          [
           "(?)"
          ],
          [
           "(?)"
          ],
          [
           "(?)"
          ],
          [
           "(?)"
          ],
          [
           "(?)"
          ],
          [
           "(?)"
          ],
          [
           "(?)"
          ],
          [
           "(?)"
          ],
          [
           "(?)"
          ],
          [
           "(?)"
          ],
          [
           "(?)"
          ],
          [
           "(?)"
          ],
          [
           "(?)"
          ],
          [
           "(?)"
          ],
          [
           "(?)"
          ],
          [
           "(?)"
          ],
          [
           "(?)"
          ],
          [
           "(?)"
          ],
          [
           "(?)"
          ],
          [
           "(?)"
          ],
          [
           "(?)"
          ],
          [
           "(?)"
          ],
          [
           "(?)"
          ],
          [
           "(?)"
          ],
          [
           "(?)"
          ],
          [
           "(?)"
          ],
          [
           "(?)"
          ],
          [
           "(?)"
          ],
          [
           "(?)"
          ],
          [
           "(?)"
          ],
          [
           "(?)"
          ],
          [
           "(?)"
          ],
          [
           "(?)"
          ],
          [
           "(?)"
          ],
          [
           "(?)"
          ],
          [
           "(?)"
          ],
          [
           "(?)"
          ],
          [
           "(?)"
          ],
          [
           "(?)"
          ],
          [
           "(?)"
          ],
          [
           "(?)"
          ],
          [
           "(?)"
          ],
          [
           "(?)"
          ],
          [
           "(?)"
          ],
          [
           "(?)"
          ],
          [
           "(?)"
          ],
          [
           "(?)"
          ],
          [
           "(?)"
          ],
          [
           "(?)"
          ],
          [
           "(?)"
          ],
          [
           "(?)"
          ],
          [
           "(?)"
          ],
          [
           "(?)"
          ],
          [
           "(?)"
          ],
          [
           "(?)"
          ]
         ],
         "domain": {
          "x": [
           0,
           1
          ],
          "y": [
           0,
           1
          ]
         },
         "hovertemplate": "labels=%{label}<br>short_name=%{value}<br>parent=%{parent}<br>id=%{id}<br>isOver25=%{customdata[0]}<extra></extra>",
         "ids": [
          "1.0/Argentina Primera División/False",
          "1.0/Paraguayan Primera División/False",
          "1.0/Paraguayan Primera División/True",
          "1.0/Rep. Ireland Airtricity League/False",
          "1.0/Russian Premier League/False",
          "1.0/Mexican Liga MX/True",
          "1.0/Scottish Premiership/False",
          "1.0/Spain Primera Division/False",
          "1.0/Korean K League Classic/True",
          "1.0/Swedish Allsvenskan/False",
          "1.0/Turkish Süper Lig/False",
          "2.0/Italian Serie B/True",
          "1.0/USA Major League Soccer/False",
          "1.0/Polish T-Mobile Ekstraklasa/True",
          "1.0/Uruguayan Primera División/False",
          "1.0/Argentina Primera División/True",
          "1.0/Holland Eredivisie/True",
          "1.0/Australian Hyundai A-League/True",
          "1.0/Belgian Jupiler Pro League/True",
          "3.0/German 3. Bundesliga/True",
          "1.0/Chilian Campeonato Nacional/True",
          "1.0/Colombian Liga Postobón/True",
          "1.0/German 1. Bundesliga/True",
          "1.0/Czech Republic Gambrinus Liga/True",
          "1.0/Ecuadorian Serie A/True",
          "1.0/French Ligue 1/True",
          "3.0/English League One/True",
          "1.0/Uruguayan Primera División/True",
          "1.0/Mexican Liga MX/False",
          "1.0/Polish T-Mobile Ekstraklasa/False",
          "1.0/Korean K League Classic/False",
          "1.0/Australian Hyundai A-League/False",
          "1.0/USA Major League Soccer/True",
          "1.0/Belgian Jupiler Pro League/False",
          "1.0/Chilian Campeonato Nacional/False",
          "1.0/Turkish Süper Lig/True",
          "1.0/Colombian Liga Postobón/False",
          "1.0/Czech Republic Gambrinus Liga/False",
          "1.0/Swedish Allsvenskan/True",
          "1.0/Ecuadorian Serie A/False",
          "3.0/English League One/False",
          "1.0/Spain Primera Division/True",
          "1.0/English Premier League/False",
          "1.0/French Ligue 1/False",
          "1.0/English Premier League/True",
          "1.0/German 1. Bundesliga/False",
          "1.0/Rep. Ireland Airtricity League/True",
          "2.0/Italian Serie B/False",
          "3.0/German 3. Bundesliga/False",
          "1.0/Russian Premier League/True",
          "1.0/Scottish Premiership/True",
          "1.0/Holland Eredivisie/False",
          "1.0/Japanese J. League Division 1/True",
          "1.0/Ukrainian Premier League/True",
          "2.0/French Ligue 2/True",
          "1.0/Peruvian Primera División/True",
          "1.0/UAE Arabian Gulf League/True",
          "1.0/Finnish Veikkausliiga/True",
          "2.0/German 2. Bundesliga/True",
          "1.0/Swiss Super League/True",
          "1.0/Greek Super League/True",
          "1.0/Norwegian Eliteserien/True",
          "2.0/Spanish Segunda División/True",
          "1.0/Saudi Abdul L. Jameel League/True",
          "1.0/Portuguese Liga ZON SAGRES/True",
          "1.0/Liga de Fútbol Profesional Boliviano/True",
          "1.0/South African Premier Division/True",
          "1.0/Romanian Liga I/True",
          "1.0/Italian Serie A/True",
          "1.0/Venezuelan Primera División/False",
          "2.0/English League Championship/True",
          "2.0/Argentinian Primera B Nacional/False",
          "1.0/Austrian Football Bundesliga/False",
          "1.0/Campeonato Brasileiro Série A/False",
          "1.0/Chinese Super League/False",
          "1.0/Croatian Prva HNL/False",
          "1.0/Danish Superliga/False",
          "2.0/English League Championship/False",
          "4.0/English League Two/False",
          "1.0/Finnish Veikkausliiga/False",
          "2.0/French Ligue 2/False",
          "2.0/German 2. Bundesliga/False",
          "1.0/Greek Super League/False",
          "1.0/Italian Serie A/False",
          "1.0/Japanese J. League Division 1/False",
          "1.0/Liga de Fútbol Profesional Boliviano/False",
          "1.0/Norwegian Eliteserien/False",
          "1.0/Peruvian Primera División/False",
          "1.0/Danish Superliga/True",
          "1.0/Croatian Prva HNL/True",
          "1.0/Chinese Super League/True",
          "1.0/Campeonato Brasileiro Série A/True",
          "1.0/Austrian Football Bundesliga/True",
          "2.0/Argentinian Primera B Nacional/True",
          "4.0/English League Two/True",
          "1.0/Ukrainian Premier League/False",
          "1.0/Swiss Super League/False",
          "2.0/Spanish Segunda División/False",
          "1.0/South African Premier Division/False",
          "1.0/Saudi Abdul L. Jameel League/False",
          "1.0/Romanian Liga I/False",
          "1.0/Portuguese Liga ZON SAGRES/False",
          "1.0/UAE Arabian Gulf League/False",
          "1.0/Venezuelan Primera División/True",
          "1.0/Argentina Primera División",
          "2.0/Argentinian Primera B Nacional",
          "1.0/Australian Hyundai A-League",
          "1.0/Austrian Football Bundesliga",
          "1.0/Belgian Jupiler Pro League",
          "1.0/Campeonato Brasileiro Série A",
          "1.0/Chilian Campeonato Nacional",
          "1.0/Chinese Super League",
          "1.0/Colombian Liga Postobón",
          "1.0/Croatian Prva HNL",
          "1.0/Czech Republic Gambrinus Liga",
          "1.0/Danish Superliga",
          "1.0/Ecuadorian Serie A",
          "2.0/English League Championship",
          "3.0/English League One",
          "4.0/English League Two",
          "1.0/English Premier League",
          "1.0/Finnish Veikkausliiga",
          "1.0/French Ligue 1",
          "2.0/French Ligue 2",
          "1.0/German 1. Bundesliga",
          "2.0/German 2. Bundesliga",
          "3.0/German 3. Bundesliga",
          "1.0/Greek Super League",
          "1.0/Holland Eredivisie",
          "1.0/Italian Serie A",
          "2.0/Italian Serie B",
          "1.0/Japanese J. League Division 1",
          "1.0/Korean K League Classic",
          "1.0/Liga de Fútbol Profesional Boliviano",
          "1.0/Mexican Liga MX",
          "1.0/Norwegian Eliteserien",
          "1.0/Paraguayan Primera División",
          "1.0/Peruvian Primera División",
          "1.0/Polish T-Mobile Ekstraklasa",
          "1.0/Portuguese Liga ZON SAGRES",
          "1.0/Rep. Ireland Airtricity League",
          "1.0/Romanian Liga I",
          "1.0/Russian Premier League",
          "1.0/Saudi Abdul L. Jameel League",
          "1.0/Scottish Premiership",
          "1.0/South African Premier Division",
          "1.0/Spain Primera Division",
          "2.0/Spanish Segunda División",
          "1.0/Swedish Allsvenskan",
          "1.0/Swiss Super League",
          "1.0/Turkish Süper Lig",
          "1.0/UAE Arabian Gulf League",
          "1.0/USA Major League Soccer",
          "1.0/Ukrainian Premier League",
          "1.0/Uruguayan Primera División",
          "1.0/Venezuelan Primera División",
          "1.0",
          "2.0",
          "3.0",
          "4.0"
         ],
         "labels": [
          "False",
          "False",
          "True",
          "False",
          "False",
          "True",
          "False",
          "False",
          "True",
          "False",
          "False",
          "True",
          "False",
          "True",
          "False",
          "True",
          "True",
          "True",
          "True",
          "True",
          "True",
          "True",
          "True",
          "True",
          "True",
          "True",
          "True",
          "True",
          "False",
          "False",
          "False",
          "False",
          "True",
          "False",
          "False",
          "True",
          "False",
          "False",
          "True",
          "False",
          "False",
          "True",
          "False",
          "False",
          "True",
          "False",
          "True",
          "False",
          "False",
          "True",
          "True",
          "False",
          "True",
          "True",
          "True",
          "True",
          "True",
          "True",
          "True",
          "True",
          "True",
          "True",
          "True",
          "True",
          "True",
          "True",
          "True",
          "True",
          "True",
          "False",
          "True",
          "False",
          "False",
          "False",
          "False",
          "False",
          "False",
          "False",
          "False",
          "False",
          "False",
          "False",
          "False",
          "False",
          "False",
          "False",
          "False",
          "False",
          "True",
          "True",
          "True",
          "True",
          "True",
          "True",
          "True",
          "False",
          "False",
          "False",
          "False",
          "False",
          "False",
          "False",
          "False",
          "True",
          "Argentina Primera División",
          "Argentinian Primera B Nacional",
          "Australian Hyundai A-League",
          "Austrian Football Bundesliga",
          "Belgian Jupiler Pro League",
          "Campeonato Brasileiro Série A",
          "Chilian Campeonato Nacional",
          "Chinese Super League",
          "Colombian Liga Postobón",
          "Croatian Prva HNL",
          "Czech Republic Gambrinus Liga",
          "Danish Superliga",
          "Ecuadorian Serie A",
          "English League Championship",
          "English League One",
          "English League Two",
          "English Premier League",
          "Finnish Veikkausliiga",
          "French Ligue 1",
          "French Ligue 2",
          "German 1. Bundesliga",
          "German 2. Bundesliga",
          "German 3. Bundesliga",
          "Greek Super League",
          "Holland Eredivisie",
          "Italian Serie A",
          "Italian Serie B",
          "Japanese J. League Division 1",
          "Korean K League Classic",
          "Liga de Fútbol Profesional Boliviano",
          "Mexican Liga MX",
          "Norwegian Eliteserien",
          "Paraguayan Primera División",
          "Peruvian Primera División",
          "Polish T-Mobile Ekstraklasa",
          "Portuguese Liga ZON SAGRES",
          "Rep. Ireland Airtricity League",
          "Romanian Liga I",
          "Russian Premier League",
          "Saudi Abdul L. Jameel League",
          "Scottish Premiership",
          "South African Premier Division",
          "Spain Primera Division",
          "Spanish Segunda División",
          "Swedish Allsvenskan",
          "Swiss Super League",
          "Turkish Süper Lig",
          "UAE Arabian Gulf League",
          "USA Major League Soccer",
          "Ukrainian Premier League",
          "Uruguayan Primera División",
          "Venezuelan Primera División",
          "1.0",
          "2.0",
          "3.0",
          "4.0"
         ],
         "marker": {
          "colors": [
           "#636efa",
           "#636efa",
           "#EF553B",
           "#636efa",
           "#636efa",
           "#EF553B",
           "#636efa",
           "#636efa",
           "#EF553B",
           "#636efa",
           "#636efa",
           "#EF553B",
           "#636efa",
           "#EF553B",
           "#636efa",
           "#EF553B",
           "#EF553B",
           "#EF553B",
           "#EF553B",
           "#EF553B",
           "#EF553B",
           "#EF553B",
           "#EF553B",
           "#EF553B",
           "#EF553B",
           "#EF553B",
           "#EF553B",
           "#EF553B",
           "#636efa",
           "#636efa",
           "#636efa",
           "#636efa",
           "#EF553B",
           "#636efa",
           "#636efa",
           "#EF553B",
           "#636efa",
           "#636efa",
           "#EF553B",
           "#636efa",
           "#636efa",
           "#EF553B",
           "#636efa",
           "#636efa",
           "#EF553B",
           "#636efa",
           "#EF553B",
           "#636efa",
           "#636efa",
           "#EF553B",
           "#EF553B",
           "#636efa",
           "#EF553B",
           "#EF553B",
           "#EF553B",
           "#EF553B",
           "#EF553B",
           "#EF553B",
           "#EF553B",
           "#EF553B",
           "#EF553B",
           "#EF553B",
           "#EF553B",
           "#EF553B",
           "#EF553B",
           "#EF553B",
           "#EF553B",
           "#EF553B",
           "#EF553B",
           "#636efa",
           "#EF553B",
           "#636efa",
           "#636efa",
           "#636efa",
           "#636efa",
           "#636efa",
           "#636efa",
           "#636efa",
           "#636efa",
           "#636efa",
           "#636efa",
           "#636efa",
           "#636efa",
           "#636efa",
           "#636efa",
           "#636efa",
           "#636efa",
           "#636efa",
           "#EF553B",
           "#EF553B",
           "#EF553B",
           "#EF553B",
           "#EF553B",
           "#EF553B",
           "#EF553B",
           "#636efa",
           "#636efa",
           "#636efa",
           "#636efa",
           "#636efa",
           "#636efa",
           "#636efa",
           "#636efa",
           "#EF553B",
           "#00cc96",
           "#00cc96",
           "#00cc96",
           "#00cc96",
           "#00cc96",
           "#00cc96",
           "#00cc96",
           "#00cc96",
           "#00cc96",
           "#00cc96",
           "#00cc96",
           "#00cc96",
           "#00cc96",
           "#00cc96",
           "#00cc96",
           "#00cc96",
           "#00cc96",
           "#00cc96",
           "#00cc96",
           "#00cc96",
           "#00cc96",
           "#00cc96",
           "#00cc96",
           "#00cc96",
           "#00cc96",
           "#00cc96",
           "#00cc96",
           "#00cc96",
           "#00cc96",
           "#00cc96",
           "#00cc96",
           "#00cc96",
           "#00cc96",
           "#00cc96",
           "#00cc96",
           "#00cc96",
           "#00cc96",
           "#00cc96",
           "#00cc96",
           "#00cc96",
           "#00cc96",
           "#00cc96",
           "#00cc96",
           "#00cc96",
           "#00cc96",
           "#00cc96",
           "#00cc96",
           "#00cc96",
           "#00cc96",
           "#00cc96",
           "#00cc96",
           "#00cc96",
           "#00cc96",
           "#00cc96",
           "#00cc96",
           "#00cc96"
          ]
         },
         "name": "",
         "parents": [
          "1.0/Argentina Primera División",
          "1.0/Paraguayan Primera División",
          "1.0/Paraguayan Primera División",
          "1.0/Rep. Ireland Airtricity League",
          "1.0/Russian Premier League",
          "1.0/Mexican Liga MX",
          "1.0/Scottish Premiership",
          "1.0/Spain Primera Division",
          "1.0/Korean K League Classic",
          "1.0/Swedish Allsvenskan",
          "1.0/Turkish Süper Lig",
          "2.0/Italian Serie B",
          "1.0/USA Major League Soccer",
          "1.0/Polish T-Mobile Ekstraklasa",
          "1.0/Uruguayan Primera División",
          "1.0/Argentina Primera División",
          "1.0/Holland Eredivisie",
          "1.0/Australian Hyundai A-League",
          "1.0/Belgian Jupiler Pro League",
          "3.0/German 3. Bundesliga",
          "1.0/Chilian Campeonato Nacional",
          "1.0/Colombian Liga Postobón",
          "1.0/German 1. Bundesliga",
          "1.0/Czech Republic Gambrinus Liga",
          "1.0/Ecuadorian Serie A",
          "1.0/French Ligue 1",
          "3.0/English League One",
          "1.0/Uruguayan Primera División",
          "1.0/Mexican Liga MX",
          "1.0/Polish T-Mobile Ekstraklasa",
          "1.0/Korean K League Classic",
          "1.0/Australian Hyundai A-League",
          "1.0/USA Major League Soccer",
          "1.0/Belgian Jupiler Pro League",
          "1.0/Chilian Campeonato Nacional",
          "1.0/Turkish Süper Lig",
          "1.0/Colombian Liga Postobón",
          "1.0/Czech Republic Gambrinus Liga",
          "1.0/Swedish Allsvenskan",
          "1.0/Ecuadorian Serie A",
          "3.0/English League One",
          "1.0/Spain Primera Division",
          "1.0/English Premier League",
          "1.0/French Ligue 1",
          "1.0/English Premier League",
          "1.0/German 1. Bundesliga",
          "1.0/Rep. Ireland Airtricity League",
          "2.0/Italian Serie B",
          "3.0/German 3. Bundesliga",
          "1.0/Russian Premier League",
          "1.0/Scottish Premiership",
          "1.0/Holland Eredivisie",
          "1.0/Japanese J. League Division 1",
          "1.0/Ukrainian Premier League",
          "2.0/French Ligue 2",
          "1.0/Peruvian Primera División",
          "1.0/UAE Arabian Gulf League",
          "1.0/Finnish Veikkausliiga",
          "2.0/German 2. Bundesliga",
          "1.0/Swiss Super League",
          "1.0/Greek Super League",
          "1.0/Norwegian Eliteserien",
          "2.0/Spanish Segunda División",
          "1.0/Saudi Abdul L. Jameel League",
          "1.0/Portuguese Liga ZON SAGRES",
          "1.0/Liga de Fútbol Profesional Boliviano",
          "1.0/South African Premier Division",
          "1.0/Romanian Liga I",
          "1.0/Italian Serie A",
          "1.0/Venezuelan Primera División",
          "2.0/English League Championship",
          "2.0/Argentinian Primera B Nacional",
          "1.0/Austrian Football Bundesliga",
          "1.0/Campeonato Brasileiro Série A",
          "1.0/Chinese Super League",
          "1.0/Croatian Prva HNL",
          "1.0/Danish Superliga",
          "2.0/English League Championship",
          "4.0/English League Two",
          "1.0/Finnish Veikkausliiga",
          "2.0/French Ligue 2",
          "2.0/German 2. Bundesliga",
          "1.0/Greek Super League",
          "1.0/Italian Serie A",
          "1.0/Japanese J. League Division 1",
          "1.0/Liga de Fútbol Profesional Boliviano",
          "1.0/Norwegian Eliteserien",
          "1.0/Peruvian Primera División",
          "1.0/Danish Superliga",
          "1.0/Croatian Prva HNL",
          "1.0/Chinese Super League",
          "1.0/Campeonato Brasileiro Série A",
          "1.0/Austrian Football Bundesliga",
          "2.0/Argentinian Primera B Nacional",
          "4.0/English League Two",
          "1.0/Ukrainian Premier League",
          "1.0/Swiss Super League",
          "2.0/Spanish Segunda División",
          "1.0/South African Premier Division",
          "1.0/Saudi Abdul L. Jameel League",
          "1.0/Romanian Liga I",
          "1.0/Portuguese Liga ZON SAGRES",
          "1.0/UAE Arabian Gulf League",
          "1.0/Venezuelan Primera División",
          "1.0",
          "2.0",
          "1.0",
          "1.0",
          "1.0",
          "1.0",
          "1.0",
          "1.0",
          "1.0",
          "1.0",
          "1.0",
          "1.0",
          "1.0",
          "2.0",
          "3.0",
          "4.0",
          "1.0",
          "1.0",
          "1.0",
          "2.0",
          "1.0",
          "2.0",
          "3.0",
          "1.0",
          "1.0",
          "1.0",
          "2.0",
          "1.0",
          "1.0",
          "1.0",
          "1.0",
          "1.0",
          "1.0",
          "1.0",
          "1.0",
          "1.0",
          "1.0",
          "1.0",
          "1.0",
          "1.0",
          "1.0",
          "1.0",
          "1.0",
          "2.0",
          "1.0",
          "1.0",
          "1.0",
          "1.0",
          "1.0",
          "1.0",
          "1.0",
          "1.0",
          "",
          "",
          "",
          ""
         ],
         "type": "sunburst",
         "values": [
          384,
          92,
          115,
          157,
          53,
          250,
          175,
          341,
          207,
          231,
          248,
          71,
          344,
          199,
          114,
          275,
          131,
          108,
          175,
          216,
          82,
          93,
          215,
          39,
          112,
          214,
          202,
          64,
          259,
          227,
          129,
          142,
          357,
          317,
          92,
          341,
          102,
          40,
          181,
          121,
          428,
          304,
          351,
          386,
          303,
          333,
          86,
          83,
          306,
          28,
          133,
          335,
          296,
          27,
          215,
          84,
          16,
          13,
          222,
          89,
          60,
          167,
          268,
          279,
          197,
          94,
          40,
          199,
          323,
          85,
          298,
          14,
          201,
          201,
          150,
          21,
          191,
          411,
          384,
          12,
          331,
          285,
          52,
          322,
          225,
          80,
          236,
          80,
          114,
          7,
          286,
          159,
          109,
          16,
          221,
          29,
          177,
          351,
          16,
          156,
          226,
          313,
          12,
          68,
          659,
          30,
          250,
          310,
          492,
          360,
          174,
          436,
          195,
          28,
          79,
          305,
          233,
          709,
          630,
          605,
          654,
          25,
          600,
          546,
          548,
          507,
          522,
          112,
          466,
          645,
          154,
          521,
          336,
          174,
          509,
          403,
          207,
          164,
          426,
          510,
          243,
          425,
          81,
          435,
          308,
          56,
          645,
          619,
          412,
          266,
          589,
          28,
          701,
          56,
          178,
          153,
          14397,
          2565,
          1152,
          605
         ]
        }
       ],
       "layout": {
        "legend": {
         "tracegroupgap": 0
        },
        "margin": {
         "t": 60
        },
        "template": {
         "data": {
          "bar": [
           {
            "error_x": {
             "color": "#2a3f5f"
            },
            "error_y": {
             "color": "#2a3f5f"
            },
            "marker": {
             "line": {
              "color": "#E5ECF6",
              "width": 0.5
             }
            },
            "type": "bar"
           }
          ],
          "barpolar": [
           {
            "marker": {
             "line": {
              "color": "#E5ECF6",
              "width": 0.5
             }
            },
            "type": "barpolar"
           }
          ],
          "carpet": [
           {
            "aaxis": {
             "endlinecolor": "#2a3f5f",
             "gridcolor": "white",
             "linecolor": "white",
             "minorgridcolor": "white",
             "startlinecolor": "#2a3f5f"
            },
            "baxis": {
             "endlinecolor": "#2a3f5f",
             "gridcolor": "white",
             "linecolor": "white",
             "minorgridcolor": "white",
             "startlinecolor": "#2a3f5f"
            },
            "type": "carpet"
           }
          ],
          "choropleth": [
           {
            "colorbar": {
             "outlinewidth": 0,
             "ticks": ""
            },
            "type": "choropleth"
           }
          ],
          "contour": [
           {
            "colorbar": {
             "outlinewidth": 0,
             "ticks": ""
            },
            "colorscale": [
             [
              0,
              "#0d0887"
             ],
             [
              0.1111111111111111,
              "#46039f"
             ],
             [
              0.2222222222222222,
              "#7201a8"
             ],
             [
              0.3333333333333333,
              "#9c179e"
             ],
             [
              0.4444444444444444,
              "#bd3786"
             ],
             [
              0.5555555555555556,
              "#d8576b"
             ],
             [
              0.6666666666666666,
              "#ed7953"
             ],
             [
              0.7777777777777778,
              "#fb9f3a"
             ],
             [
              0.8888888888888888,
              "#fdca26"
             ],
             [
              1,
              "#f0f921"
             ]
            ],
            "type": "contour"
           }
          ],
          "contourcarpet": [
           {
            "colorbar": {
             "outlinewidth": 0,
             "ticks": ""
            },
            "type": "contourcarpet"
           }
          ],
          "heatmap": [
           {
            "colorbar": {
             "outlinewidth": 0,
             "ticks": ""
            },
            "colorscale": [
             [
              0,
              "#0d0887"
             ],
             [
              0.1111111111111111,
              "#46039f"
             ],
             [
              0.2222222222222222,
              "#7201a8"
             ],
             [
              0.3333333333333333,
              "#9c179e"
             ],
             [
              0.4444444444444444,
              "#bd3786"
             ],
             [
              0.5555555555555556,
              "#d8576b"
             ],
             [
              0.6666666666666666,
              "#ed7953"
             ],
             [
              0.7777777777777778,
              "#fb9f3a"
             ],
             [
              0.8888888888888888,
              "#fdca26"
             ],
             [
              1,
              "#f0f921"
             ]
            ],
            "type": "heatmap"
           }
          ],
          "heatmapgl": [
           {
            "colorbar": {
             "outlinewidth": 0,
             "ticks": ""
            },
            "colorscale": [
             [
              0,
              "#0d0887"
             ],
             [
              0.1111111111111111,
              "#46039f"
             ],
             [
              0.2222222222222222,
              "#7201a8"
             ],
             [
              0.3333333333333333,
              "#9c179e"
             ],
             [
              0.4444444444444444,
              "#bd3786"
             ],
             [
              0.5555555555555556,
              "#d8576b"
             ],
             [
              0.6666666666666666,
              "#ed7953"
             ],
             [
              0.7777777777777778,
              "#fb9f3a"
             ],
             [
              0.8888888888888888,
              "#fdca26"
             ],
             [
              1,
              "#f0f921"
             ]
            ],
            "type": "heatmapgl"
           }
          ],
          "histogram": [
           {
            "marker": {
             "colorbar": {
              "outlinewidth": 0,
              "ticks": ""
             }
            },
            "type": "histogram"
           }
          ],
          "histogram2d": [
           {
            "colorbar": {
             "outlinewidth": 0,
             "ticks": ""
            },
            "colorscale": [
             [
              0,
              "#0d0887"
             ],
             [
              0.1111111111111111,
              "#46039f"
             ],
             [
              0.2222222222222222,
              "#7201a8"
             ],
             [
              0.3333333333333333,
              "#9c179e"
             ],
             [
              0.4444444444444444,
              "#bd3786"
             ],
             [
              0.5555555555555556,
              "#d8576b"
             ],
             [
              0.6666666666666666,
              "#ed7953"
             ],
             [
              0.7777777777777778,
              "#fb9f3a"
             ],
             [
              0.8888888888888888,
              "#fdca26"
             ],
             [
              1,
              "#f0f921"
             ]
            ],
            "type": "histogram2d"
           }
          ],
          "histogram2dcontour": [
           {
            "colorbar": {
             "outlinewidth": 0,
             "ticks": ""
            },
            "colorscale": [
             [
              0,
              "#0d0887"
             ],
             [
              0.1111111111111111,
              "#46039f"
             ],
             [
              0.2222222222222222,
              "#7201a8"
             ],
             [
              0.3333333333333333,
              "#9c179e"
             ],
             [
              0.4444444444444444,
              "#bd3786"
             ],
             [
              0.5555555555555556,
              "#d8576b"
             ],
             [
              0.6666666666666666,
              "#ed7953"
             ],
             [
              0.7777777777777778,
              "#fb9f3a"
             ],
             [
              0.8888888888888888,
              "#fdca26"
             ],
             [
              1,
              "#f0f921"
             ]
            ],
            "type": "histogram2dcontour"
           }
          ],
          "mesh3d": [
           {
            "colorbar": {
             "outlinewidth": 0,
             "ticks": ""
            },
            "type": "mesh3d"
           }
          ],
          "parcoords": [
           {
            "line": {
             "colorbar": {
              "outlinewidth": 0,
              "ticks": ""
             }
            },
            "type": "parcoords"
           }
          ],
          "pie": [
           {
            "automargin": true,
            "type": "pie"
           }
          ],
          "scatter": [
           {
            "marker": {
             "colorbar": {
              "outlinewidth": 0,
              "ticks": ""
             }
            },
            "type": "scatter"
           }
          ],
          "scatter3d": [
           {
            "line": {
             "colorbar": {
              "outlinewidth": 0,
              "ticks": ""
             }
            },
            "marker": {
             "colorbar": {
              "outlinewidth": 0,
              "ticks": ""
             }
            },
            "type": "scatter3d"
           }
          ],
          "scattercarpet": [
           {
            "marker": {
             "colorbar": {
              "outlinewidth": 0,
              "ticks": ""
             }
            },
            "type": "scattercarpet"
           }
          ],
          "scattergeo": [
           {
            "marker": {
             "colorbar": {
              "outlinewidth": 0,
              "ticks": ""
             }
            },
            "type": "scattergeo"
           }
          ],
          "scattergl": [
           {
            "marker": {
             "colorbar": {
              "outlinewidth": 0,
              "ticks": ""
             }
            },
            "type": "scattergl"
           }
          ],
          "scattermapbox": [
           {
            "marker": {
             "colorbar": {
              "outlinewidth": 0,
              "ticks": ""
             }
            },
            "type": "scattermapbox"
           }
          ],
          "scatterpolar": [
           {
            "marker": {
             "colorbar": {
              "outlinewidth": 0,
              "ticks": ""
             }
            },
            "type": "scatterpolar"
           }
          ],
          "scatterpolargl": [
           {
            "marker": {
             "colorbar": {
              "outlinewidth": 0,
              "ticks": ""
             }
            },
            "type": "scatterpolargl"
           }
          ],
          "scatterternary": [
           {
            "marker": {
             "colorbar": {
              "outlinewidth": 0,
              "ticks": ""
             }
            },
            "type": "scatterternary"
           }
          ],
          "surface": [
           {
            "colorbar": {
             "outlinewidth": 0,
             "ticks": ""
            },
            "colorscale": [
             [
              0,
              "#0d0887"
             ],
             [
              0.1111111111111111,
              "#46039f"
             ],
             [
              0.2222222222222222,
              "#7201a8"
             ],
             [
              0.3333333333333333,
              "#9c179e"
             ],
             [
              0.4444444444444444,
              "#bd3786"
             ],
             [
              0.5555555555555556,
              "#d8576b"
             ],
             [
              0.6666666666666666,
              "#ed7953"
             ],
             [
              0.7777777777777778,
              "#fb9f3a"
             ],
             [
              0.8888888888888888,
              "#fdca26"
             ],
             [
              1,
              "#f0f921"
             ]
            ],
            "type": "surface"
           }
          ],
          "table": [
           {
            "cells": {
             "fill": {
              "color": "#EBF0F8"
             },
             "line": {
              "color": "white"
             }
            },
            "header": {
             "fill": {
              "color": "#C8D4E3"
             },
             "line": {
              "color": "white"
             }
            },
            "type": "table"
           }
          ]
         },
         "layout": {
          "annotationdefaults": {
           "arrowcolor": "#2a3f5f",
           "arrowhead": 0,
           "arrowwidth": 1
          },
          "autotypenumbers": "strict",
          "coloraxis": {
           "colorbar": {
            "outlinewidth": 0,
            "ticks": ""
           }
          },
          "colorscale": {
           "diverging": [
            [
             0,
             "#8e0152"
            ],
            [
             0.1,
             "#c51b7d"
            ],
            [
             0.2,
             "#de77ae"
            ],
            [
             0.3,
             "#f1b6da"
            ],
            [
             0.4,
             "#fde0ef"
            ],
            [
             0.5,
             "#f7f7f7"
            ],
            [
             0.6,
             "#e6f5d0"
            ],
            [
             0.7,
             "#b8e186"
            ],
            [
             0.8,
             "#7fbc41"
            ],
            [
             0.9,
             "#4d9221"
            ],
            [
             1,
             "#276419"
            ]
           ],
           "sequential": [
            [
             0,
             "#0d0887"
            ],
            [
             0.1111111111111111,
             "#46039f"
            ],
            [
             0.2222222222222222,
             "#7201a8"
            ],
            [
             0.3333333333333333,
             "#9c179e"
            ],
            [
             0.4444444444444444,
             "#bd3786"
            ],
            [
             0.5555555555555556,
             "#d8576b"
            ],
            [
             0.6666666666666666,
             "#ed7953"
            ],
            [
             0.7777777777777778,
             "#fb9f3a"
            ],
            [
             0.8888888888888888,
             "#fdca26"
            ],
            [
             1,
             "#f0f921"
            ]
           ],
           "sequentialminus": [
            [
             0,
             "#0d0887"
            ],
            [
             0.1111111111111111,
             "#46039f"
            ],
            [
             0.2222222222222222,
             "#7201a8"
            ],
            [
             0.3333333333333333,
             "#9c179e"
            ],
            [
             0.4444444444444444,
             "#bd3786"
            ],
            [
             0.5555555555555556,
             "#d8576b"
            ],
            [
             0.6666666666666666,
             "#ed7953"
            ],
            [
             0.7777777777777778,
             "#fb9f3a"
            ],
            [
             0.8888888888888888,
             "#fdca26"
            ],
            [
             1,
             "#f0f921"
            ]
           ]
          },
          "colorway": [
           "#636efa",
           "#EF553B",
           "#00cc96",
           "#ab63fa",
           "#FFA15A",
           "#19d3f3",
           "#FF6692",
           "#B6E880",
           "#FF97FF",
           "#FECB52"
          ],
          "font": {
           "color": "#2a3f5f"
          },
          "geo": {
           "bgcolor": "white",
           "lakecolor": "white",
           "landcolor": "#E5ECF6",
           "showlakes": true,
           "showland": true,
           "subunitcolor": "white"
          },
          "hoverlabel": {
           "align": "left"
          },
          "hovermode": "closest",
          "mapbox": {
           "style": "light"
          },
          "paper_bgcolor": "white",
          "plot_bgcolor": "#E5ECF6",
          "polar": {
           "angularaxis": {
            "gridcolor": "white",
            "linecolor": "white",
            "ticks": ""
           },
           "bgcolor": "#E5ECF6",
           "radialaxis": {
            "gridcolor": "white",
            "linecolor": "white",
            "ticks": ""
           }
          },
          "scene": {
           "xaxis": {
            "backgroundcolor": "#E5ECF6",
            "gridcolor": "white",
            "gridwidth": 2,
            "linecolor": "white",
            "showbackground": true,
            "ticks": "",
            "zerolinecolor": "white"
           },
           "yaxis": {
            "backgroundcolor": "#E5ECF6",
            "gridcolor": "white",
            "gridwidth": 2,
            "linecolor": "white",
            "showbackground": true,
            "ticks": "",
            "zerolinecolor": "white"
           },
           "zaxis": {
            "backgroundcolor": "#E5ECF6",
            "gridcolor": "white",
            "gridwidth": 2,
            "linecolor": "white",
            "showbackground": true,
            "ticks": "",
            "zerolinecolor": "white"
           }
          },
          "shapedefaults": {
           "line": {
            "color": "#2a3f5f"
           }
          },
          "ternary": {
           "aaxis": {
            "gridcolor": "white",
            "linecolor": "white",
            "ticks": ""
           },
           "baxis": {
            "gridcolor": "white",
            "linecolor": "white",
            "ticks": ""
           },
           "bgcolor": "#E5ECF6",
           "caxis": {
            "gridcolor": "white",
            "linecolor": "white",
            "ticks": ""
           }
          },
          "title": {
           "x": 0.05
          },
          "xaxis": {
           "automargin": true,
           "gridcolor": "white",
           "linecolor": "white",
           "ticks": "",
           "title": {
            "standoff": 15
           },
           "zerolinecolor": "white",
           "zerolinewidth": 2
          },
          "yaxis": {
           "automargin": true,
           "gridcolor": "white",
           "linecolor": "white",
           "ticks": "",
           "title": {
            "standoff": 15
           },
           "zerolinecolor": "white",
           "zerolinewidth": 2
          }
         }
        }
       }
      },
      "text/html": [
       "<div>                            <div id=\"2d55a4ee-9d74-4573-b2ee-271bbfd507a7\" class=\"plotly-graph-div\" style=\"height:525px; width:100%;\"></div>            <script type=\"text/javascript\">                require([\"plotly\"], function(Plotly) {                    window.PLOTLYENV=window.PLOTLYENV || {};                                    if (document.getElementById(\"2d55a4ee-9d74-4573-b2ee-271bbfd507a7\")) {                    Plotly.newPlot(                        \"2d55a4ee-9d74-4573-b2ee-271bbfd507a7\",                        [{\"branchvalues\": \"total\", \"customdata\": [[false], [false], [true], [false], [false], [true], [false], [false], [true], [false], [false], [true], [false], [true], [false], [true], [true], [true], [true], [true], [true], [true], [true], [true], [true], [true], [true], [true], [false], [false], [false], [false], [true], [false], [false], [true], [false], [false], [true], [false], [false], [true], [false], [false], [true], [false], [true], [false], [false], [true], [true], [false], [true], [true], [true], [true], [true], [true], [true], [true], [true], [true], [true], [true], [true], [true], [true], [true], [true], [false], [true], [false], [false], [false], [false], [false], [false], [false], [false], [false], [false], [false], [false], [false], [false], [false], [false], [false], [true], [true], [true], [true], [true], [true], [true], [false], [false], [false], [false], [false], [false], [false], [false], [true], [\"(?)\"], [\"(?)\"], [\"(?)\"], [\"(?)\"], [\"(?)\"], [\"(?)\"], [\"(?)\"], [\"(?)\"], [\"(?)\"], [\"(?)\"], [\"(?)\"], [\"(?)\"], [\"(?)\"], [\"(?)\"], [\"(?)\"], [\"(?)\"], [\"(?)\"], [\"(?)\"], [\"(?)\"], [\"(?)\"], [\"(?)\"], [\"(?)\"], [\"(?)\"], [\"(?)\"], [\"(?)\"], [\"(?)\"], [\"(?)\"], [\"(?)\"], [\"(?)\"], [\"(?)\"], [\"(?)\"], [\"(?)\"], [\"(?)\"], [\"(?)\"], [\"(?)\"], [\"(?)\"], [\"(?)\"], [\"(?)\"], [\"(?)\"], [\"(?)\"], [\"(?)\"], [\"(?)\"], [\"(?)\"], [\"(?)\"], [\"(?)\"], [\"(?)\"], [\"(?)\"], [\"(?)\"], [\"(?)\"], [\"(?)\"], [\"(?)\"], [\"(?)\"], [\"(?)\"], [\"(?)\"], [\"(?)\"], [\"(?)\"]], \"domain\": {\"x\": [0.0, 1.0], \"y\": [0.0, 1.0]}, \"hovertemplate\": \"labels=%{label}<br>short_name=%{value}<br>parent=%{parent}<br>id=%{id}<br>isOver25=%{customdata[0]}<extra></extra>\", \"ids\": [\"1.0/Argentina Primera Divisi\\u00f3n/False\", \"1.0/Paraguayan Primera Divisi\\u00f3n/False\", \"1.0/Paraguayan Primera Divisi\\u00f3n/True\", \"1.0/Rep. Ireland Airtricity League/False\", \"1.0/Russian Premier League/False\", \"1.0/Mexican Liga MX/True\", \"1.0/Scottish Premiership/False\", \"1.0/Spain Primera Division/False\", \"1.0/Korean K League Classic/True\", \"1.0/Swedish Allsvenskan/False\", \"1.0/Turkish S\\u00fcper Lig/False\", \"2.0/Italian Serie B/True\", \"1.0/USA Major League Soccer/False\", \"1.0/Polish T-Mobile Ekstraklasa/True\", \"1.0/Uruguayan Primera Divisi\\u00f3n/False\", \"1.0/Argentina Primera Divisi\\u00f3n/True\", \"1.0/Holland Eredivisie/True\", \"1.0/Australian Hyundai A-League/True\", \"1.0/Belgian Jupiler Pro League/True\", \"3.0/German 3. Bundesliga/True\", \"1.0/Chilian Campeonato Nacional/True\", \"1.0/Colombian Liga Postob\\u00f3n/True\", \"1.0/German 1. Bundesliga/True\", \"1.0/Czech Republic Gambrinus Liga/True\", \"1.0/Ecuadorian Serie A/True\", \"1.0/French Ligue 1/True\", \"3.0/English League One/True\", \"1.0/Uruguayan Primera Divisi\\u00f3n/True\", \"1.0/Mexican Liga MX/False\", \"1.0/Polish T-Mobile Ekstraklasa/False\", \"1.0/Korean K League Classic/False\", \"1.0/Australian Hyundai A-League/False\", \"1.0/USA Major League Soccer/True\", \"1.0/Belgian Jupiler Pro League/False\", \"1.0/Chilian Campeonato Nacional/False\", \"1.0/Turkish S\\u00fcper Lig/True\", \"1.0/Colombian Liga Postob\\u00f3n/False\", \"1.0/Czech Republic Gambrinus Liga/False\", \"1.0/Swedish Allsvenskan/True\", \"1.0/Ecuadorian Serie A/False\", \"3.0/English League One/False\", \"1.0/Spain Primera Division/True\", \"1.0/English Premier League/False\", \"1.0/French Ligue 1/False\", \"1.0/English Premier League/True\", \"1.0/German 1. Bundesliga/False\", \"1.0/Rep. Ireland Airtricity League/True\", \"2.0/Italian Serie B/False\", \"3.0/German 3. Bundesliga/False\", \"1.0/Russian Premier League/True\", \"1.0/Scottish Premiership/True\", \"1.0/Holland Eredivisie/False\", \"1.0/Japanese J. League Division 1/True\", \"1.0/Ukrainian Premier League/True\", \"2.0/French Ligue 2/True\", \"1.0/Peruvian Primera Divisi\\u00f3n/True\", \"1.0/UAE Arabian Gulf League/True\", \"1.0/Finnish Veikkausliiga/True\", \"2.0/German 2. Bundesliga/True\", \"1.0/Swiss Super League/True\", \"1.0/Greek Super League/True\", \"1.0/Norwegian Eliteserien/True\", \"2.0/Spanish Segunda Divisi\\u00f3n/True\", \"1.0/Saudi Abdul L. Jameel League/True\", \"1.0/Portuguese Liga ZON SAGRES/True\", \"1.0/Liga de F\\u00fatbol Profesional Boliviano/True\", \"1.0/South African Premier Division/True\", \"1.0/Romanian Liga I/True\", \"1.0/Italian Serie A/True\", \"1.0/Venezuelan Primera Divisi\\u00f3n/False\", \"2.0/English League Championship/True\", \"2.0/Argentinian Primera B Nacional/False\", \"1.0/Austrian Football Bundesliga/False\", \"1.0/Campeonato Brasileiro S\\u00e9rie A/False\", \"1.0/Chinese Super League/False\", \"1.0/Croatian Prva HNL/False\", \"1.0/Danish Superliga/False\", \"2.0/English League Championship/False\", \"4.0/English League Two/False\", \"1.0/Finnish Veikkausliiga/False\", \"2.0/French Ligue 2/False\", \"2.0/German 2. Bundesliga/False\", \"1.0/Greek Super League/False\", \"1.0/Italian Serie A/False\", \"1.0/Japanese J. League Division 1/False\", \"1.0/Liga de F\\u00fatbol Profesional Boliviano/False\", \"1.0/Norwegian Eliteserien/False\", \"1.0/Peruvian Primera Divisi\\u00f3n/False\", \"1.0/Danish Superliga/True\", \"1.0/Croatian Prva HNL/True\", \"1.0/Chinese Super League/True\", \"1.0/Campeonato Brasileiro S\\u00e9rie A/True\", \"1.0/Austrian Football Bundesliga/True\", \"2.0/Argentinian Primera B Nacional/True\", \"4.0/English League Two/True\", \"1.0/Ukrainian Premier League/False\", \"1.0/Swiss Super League/False\", \"2.0/Spanish Segunda Divisi\\u00f3n/False\", \"1.0/South African Premier Division/False\", \"1.0/Saudi Abdul L. Jameel League/False\", \"1.0/Romanian Liga I/False\", \"1.0/Portuguese Liga ZON SAGRES/False\", \"1.0/UAE Arabian Gulf League/False\", \"1.0/Venezuelan Primera Divisi\\u00f3n/True\", \"1.0/Argentina Primera Divisi\\u00f3n\", \"2.0/Argentinian Primera B Nacional\", \"1.0/Australian Hyundai A-League\", \"1.0/Austrian Football Bundesliga\", \"1.0/Belgian Jupiler Pro League\", \"1.0/Campeonato Brasileiro S\\u00e9rie A\", \"1.0/Chilian Campeonato Nacional\", \"1.0/Chinese Super League\", \"1.0/Colombian Liga Postob\\u00f3n\", \"1.0/Croatian Prva HNL\", \"1.0/Czech Republic Gambrinus Liga\", \"1.0/Danish Superliga\", \"1.0/Ecuadorian Serie A\", \"2.0/English League Championship\", \"3.0/English League One\", \"4.0/English League Two\", \"1.0/English Premier League\", \"1.0/Finnish Veikkausliiga\", \"1.0/French Ligue 1\", \"2.0/French Ligue 2\", \"1.0/German 1. Bundesliga\", \"2.0/German 2. Bundesliga\", \"3.0/German 3. Bundesliga\", \"1.0/Greek Super League\", \"1.0/Holland Eredivisie\", \"1.0/Italian Serie A\", \"2.0/Italian Serie B\", \"1.0/Japanese J. League Division 1\", \"1.0/Korean K League Classic\", \"1.0/Liga de F\\u00fatbol Profesional Boliviano\", \"1.0/Mexican Liga MX\", \"1.0/Norwegian Eliteserien\", \"1.0/Paraguayan Primera Divisi\\u00f3n\", \"1.0/Peruvian Primera Divisi\\u00f3n\", \"1.0/Polish T-Mobile Ekstraklasa\", \"1.0/Portuguese Liga ZON SAGRES\", \"1.0/Rep. Ireland Airtricity League\", \"1.0/Romanian Liga I\", \"1.0/Russian Premier League\", \"1.0/Saudi Abdul L. Jameel League\", \"1.0/Scottish Premiership\", \"1.0/South African Premier Division\", \"1.0/Spain Primera Division\", \"2.0/Spanish Segunda Divisi\\u00f3n\", \"1.0/Swedish Allsvenskan\", \"1.0/Swiss Super League\", \"1.0/Turkish S\\u00fcper Lig\", \"1.0/UAE Arabian Gulf League\", \"1.0/USA Major League Soccer\", \"1.0/Ukrainian Premier League\", \"1.0/Uruguayan Primera Divisi\\u00f3n\", \"1.0/Venezuelan Primera Divisi\\u00f3n\", \"1.0\", \"2.0\", \"3.0\", \"4.0\"], \"labels\": [\"False\", \"False\", \"True\", \"False\", \"False\", \"True\", \"False\", \"False\", \"True\", \"False\", \"False\", \"True\", \"False\", \"True\", \"False\", \"True\", \"True\", \"True\", \"True\", \"True\", \"True\", \"True\", \"True\", \"True\", \"True\", \"True\", \"True\", \"True\", \"False\", \"False\", \"False\", \"False\", \"True\", \"False\", \"False\", \"True\", \"False\", \"False\", \"True\", \"False\", \"False\", \"True\", \"False\", \"False\", \"True\", \"False\", \"True\", \"False\", \"False\", \"True\", \"True\", \"False\", \"True\", \"True\", \"True\", \"True\", \"True\", \"True\", \"True\", \"True\", \"True\", \"True\", \"True\", \"True\", \"True\", \"True\", \"True\", \"True\", \"True\", \"False\", \"True\", \"False\", \"False\", \"False\", \"False\", \"False\", \"False\", \"False\", \"False\", \"False\", \"False\", \"False\", \"False\", \"False\", \"False\", \"False\", \"False\", \"False\", \"True\", \"True\", \"True\", \"True\", \"True\", \"True\", \"True\", \"False\", \"False\", \"False\", \"False\", \"False\", \"False\", \"False\", \"False\", \"True\", \"Argentina Primera Divisi\\u00f3n\", \"Argentinian Primera B Nacional\", \"Australian Hyundai A-League\", \"Austrian Football Bundesliga\", \"Belgian Jupiler Pro League\", \"Campeonato Brasileiro S\\u00e9rie A\", \"Chilian Campeonato Nacional\", \"Chinese Super League\", \"Colombian Liga Postob\\u00f3n\", \"Croatian Prva HNL\", \"Czech Republic Gambrinus Liga\", \"Danish Superliga\", \"Ecuadorian Serie A\", \"English League Championship\", \"English League One\", \"English League Two\", \"English Premier League\", \"Finnish Veikkausliiga\", \"French Ligue 1\", \"French Ligue 2\", \"German 1. Bundesliga\", \"German 2. Bundesliga\", \"German 3. Bundesliga\", \"Greek Super League\", \"Holland Eredivisie\", \"Italian Serie A\", \"Italian Serie B\", \"Japanese J. League Division 1\", \"Korean K League Classic\", \"Liga de F\\u00fatbol Profesional Boliviano\", \"Mexican Liga MX\", \"Norwegian Eliteserien\", \"Paraguayan Primera Divisi\\u00f3n\", \"Peruvian Primera Divisi\\u00f3n\", \"Polish T-Mobile Ekstraklasa\", \"Portuguese Liga ZON SAGRES\", \"Rep. Ireland Airtricity League\", \"Romanian Liga I\", \"Russian Premier League\", \"Saudi Abdul L. Jameel League\", \"Scottish Premiership\", \"South African Premier Division\", \"Spain Primera Division\", \"Spanish Segunda Divisi\\u00f3n\", \"Swedish Allsvenskan\", \"Swiss Super League\", \"Turkish S\\u00fcper Lig\", \"UAE Arabian Gulf League\", \"USA Major League Soccer\", \"Ukrainian Premier League\", \"Uruguayan Primera Divisi\\u00f3n\", \"Venezuelan Primera Divisi\\u00f3n\", \"1.0\", \"2.0\", \"3.0\", \"4.0\"], \"marker\": {\"colors\": [\"#636efa\", \"#636efa\", \"#EF553B\", \"#636efa\", \"#636efa\", \"#EF553B\", \"#636efa\", \"#636efa\", \"#EF553B\", \"#636efa\", \"#636efa\", \"#EF553B\", \"#636efa\", \"#EF553B\", \"#636efa\", \"#EF553B\", \"#EF553B\", \"#EF553B\", \"#EF553B\", \"#EF553B\", \"#EF553B\", \"#EF553B\", \"#EF553B\", \"#EF553B\", \"#EF553B\", \"#EF553B\", \"#EF553B\", \"#EF553B\", \"#636efa\", \"#636efa\", \"#636efa\", \"#636efa\", \"#EF553B\", \"#636efa\", \"#636efa\", \"#EF553B\", \"#636efa\", \"#636efa\", \"#EF553B\", \"#636efa\", \"#636efa\", \"#EF553B\", \"#636efa\", \"#636efa\", \"#EF553B\", \"#636efa\", \"#EF553B\", \"#636efa\", \"#636efa\", \"#EF553B\", \"#EF553B\", \"#636efa\", \"#EF553B\", \"#EF553B\", \"#EF553B\", \"#EF553B\", \"#EF553B\", \"#EF553B\", \"#EF553B\", \"#EF553B\", \"#EF553B\", \"#EF553B\", \"#EF553B\", \"#EF553B\", \"#EF553B\", \"#EF553B\", \"#EF553B\", \"#EF553B\", \"#EF553B\", \"#636efa\", \"#EF553B\", \"#636efa\", \"#636efa\", \"#636efa\", \"#636efa\", \"#636efa\", \"#636efa\", \"#636efa\", \"#636efa\", \"#636efa\", \"#636efa\", \"#636efa\", \"#636efa\", \"#636efa\", \"#636efa\", \"#636efa\", \"#636efa\", \"#636efa\", \"#EF553B\", \"#EF553B\", \"#EF553B\", \"#EF553B\", \"#EF553B\", \"#EF553B\", \"#EF553B\", \"#636efa\", \"#636efa\", \"#636efa\", \"#636efa\", \"#636efa\", \"#636efa\", \"#636efa\", \"#636efa\", \"#EF553B\", \"#00cc96\", \"#00cc96\", \"#00cc96\", \"#00cc96\", \"#00cc96\", \"#00cc96\", \"#00cc96\", \"#00cc96\", \"#00cc96\", \"#00cc96\", \"#00cc96\", \"#00cc96\", \"#00cc96\", \"#00cc96\", \"#00cc96\", \"#00cc96\", \"#00cc96\", \"#00cc96\", \"#00cc96\", \"#00cc96\", \"#00cc96\", \"#00cc96\", \"#00cc96\", \"#00cc96\", \"#00cc96\", \"#00cc96\", \"#00cc96\", \"#00cc96\", \"#00cc96\", \"#00cc96\", \"#00cc96\", \"#00cc96\", \"#00cc96\", \"#00cc96\", \"#00cc96\", \"#00cc96\", \"#00cc96\", \"#00cc96\", \"#00cc96\", \"#00cc96\", \"#00cc96\", \"#00cc96\", \"#00cc96\", \"#00cc96\", \"#00cc96\", \"#00cc96\", \"#00cc96\", \"#00cc96\", \"#00cc96\", \"#00cc96\", \"#00cc96\", \"#00cc96\", \"#00cc96\", \"#00cc96\", \"#00cc96\", \"#00cc96\"]}, \"name\": \"\", \"parents\": [\"1.0/Argentina Primera Divisi\\u00f3n\", \"1.0/Paraguayan Primera Divisi\\u00f3n\", \"1.0/Paraguayan Primera Divisi\\u00f3n\", \"1.0/Rep. Ireland Airtricity League\", \"1.0/Russian Premier League\", \"1.0/Mexican Liga MX\", \"1.0/Scottish Premiership\", \"1.0/Spain Primera Division\", \"1.0/Korean K League Classic\", \"1.0/Swedish Allsvenskan\", \"1.0/Turkish S\\u00fcper Lig\", \"2.0/Italian Serie B\", \"1.0/USA Major League Soccer\", \"1.0/Polish T-Mobile Ekstraklasa\", \"1.0/Uruguayan Primera Divisi\\u00f3n\", \"1.0/Argentina Primera Divisi\\u00f3n\", \"1.0/Holland Eredivisie\", \"1.0/Australian Hyundai A-League\", \"1.0/Belgian Jupiler Pro League\", \"3.0/German 3. Bundesliga\", \"1.0/Chilian Campeonato Nacional\", \"1.0/Colombian Liga Postob\\u00f3n\", \"1.0/German 1. Bundesliga\", \"1.0/Czech Republic Gambrinus Liga\", \"1.0/Ecuadorian Serie A\", \"1.0/French Ligue 1\", \"3.0/English League One\", \"1.0/Uruguayan Primera Divisi\\u00f3n\", \"1.0/Mexican Liga MX\", \"1.0/Polish T-Mobile Ekstraklasa\", \"1.0/Korean K League Classic\", \"1.0/Australian Hyundai A-League\", \"1.0/USA Major League Soccer\", \"1.0/Belgian Jupiler Pro League\", \"1.0/Chilian Campeonato Nacional\", \"1.0/Turkish S\\u00fcper Lig\", \"1.0/Colombian Liga Postob\\u00f3n\", \"1.0/Czech Republic Gambrinus Liga\", \"1.0/Swedish Allsvenskan\", \"1.0/Ecuadorian Serie A\", \"3.0/English League One\", \"1.0/Spain Primera Division\", \"1.0/English Premier League\", \"1.0/French Ligue 1\", \"1.0/English Premier League\", \"1.0/German 1. Bundesliga\", \"1.0/Rep. Ireland Airtricity League\", \"2.0/Italian Serie B\", \"3.0/German 3. Bundesliga\", \"1.0/Russian Premier League\", \"1.0/Scottish Premiership\", \"1.0/Holland Eredivisie\", \"1.0/Japanese J. League Division 1\", \"1.0/Ukrainian Premier League\", \"2.0/French Ligue 2\", \"1.0/Peruvian Primera Divisi\\u00f3n\", \"1.0/UAE Arabian Gulf League\", \"1.0/Finnish Veikkausliiga\", \"2.0/German 2. Bundesliga\", \"1.0/Swiss Super League\", \"1.0/Greek Super League\", \"1.0/Norwegian Eliteserien\", \"2.0/Spanish Segunda Divisi\\u00f3n\", \"1.0/Saudi Abdul L. Jameel League\", \"1.0/Portuguese Liga ZON SAGRES\", \"1.0/Liga de F\\u00fatbol Profesional Boliviano\", \"1.0/South African Premier Division\", \"1.0/Romanian Liga I\", \"1.0/Italian Serie A\", \"1.0/Venezuelan Primera Divisi\\u00f3n\", \"2.0/English League Championship\", \"2.0/Argentinian Primera B Nacional\", \"1.0/Austrian Football Bundesliga\", \"1.0/Campeonato Brasileiro S\\u00e9rie A\", \"1.0/Chinese Super League\", \"1.0/Croatian Prva HNL\", \"1.0/Danish Superliga\", \"2.0/English League Championship\", \"4.0/English League Two\", \"1.0/Finnish Veikkausliiga\", \"2.0/French Ligue 2\", \"2.0/German 2. Bundesliga\", \"1.0/Greek Super League\", \"1.0/Italian Serie A\", \"1.0/Japanese J. League Division 1\", \"1.0/Liga de F\\u00fatbol Profesional Boliviano\", \"1.0/Norwegian Eliteserien\", \"1.0/Peruvian Primera Divisi\\u00f3n\", \"1.0/Danish Superliga\", \"1.0/Croatian Prva HNL\", \"1.0/Chinese Super League\", \"1.0/Campeonato Brasileiro S\\u00e9rie A\", \"1.0/Austrian Football Bundesliga\", \"2.0/Argentinian Primera B Nacional\", \"4.0/English League Two\", \"1.0/Ukrainian Premier League\", \"1.0/Swiss Super League\", \"2.0/Spanish Segunda Divisi\\u00f3n\", \"1.0/South African Premier Division\", \"1.0/Saudi Abdul L. Jameel League\", \"1.0/Romanian Liga I\", \"1.0/Portuguese Liga ZON SAGRES\", \"1.0/UAE Arabian Gulf League\", \"1.0/Venezuelan Primera Divisi\\u00f3n\", \"1.0\", \"2.0\", \"1.0\", \"1.0\", \"1.0\", \"1.0\", \"1.0\", \"1.0\", \"1.0\", \"1.0\", \"1.0\", \"1.0\", \"1.0\", \"2.0\", \"3.0\", \"4.0\", \"1.0\", \"1.0\", \"1.0\", \"2.0\", \"1.0\", \"2.0\", \"3.0\", \"1.0\", \"1.0\", \"1.0\", \"2.0\", \"1.0\", \"1.0\", \"1.0\", \"1.0\", \"1.0\", \"1.0\", \"1.0\", \"1.0\", \"1.0\", \"1.0\", \"1.0\", \"1.0\", \"1.0\", \"1.0\", \"1.0\", \"1.0\", \"2.0\", \"1.0\", \"1.0\", \"1.0\", \"1.0\", \"1.0\", \"1.0\", \"1.0\", \"1.0\", \"\", \"\", \"\", \"\"], \"type\": \"sunburst\", \"values\": [384, 92, 115, 157, 53, 250, 175, 341, 207, 231, 248, 71, 344, 199, 114, 275, 131, 108, 175, 216, 82, 93, 215, 39, 112, 214, 202, 64, 259, 227, 129, 142, 357, 317, 92, 341, 102, 40, 181, 121, 428, 304, 351, 386, 303, 333, 86, 83, 306, 28, 133, 335, 296, 27, 215, 84, 16, 13, 222, 89, 60, 167, 268, 279, 197, 94, 40, 199, 323, 85, 298, 14, 201, 201, 150, 21, 191, 411, 384, 12, 331, 285, 52, 322, 225, 80, 236, 80, 114, 7, 286, 159, 109, 16, 221, 29, 177, 351, 16, 156, 226, 313, 12, 68, 659, 30, 250, 310, 492, 360, 174, 436, 195, 28, 79, 305, 233, 709, 630, 605, 654, 25, 600, 546, 548, 507, 522, 112, 466, 645, 154, 521, 336, 174, 509, 403, 207, 164, 426, 510, 243, 425, 81, 435, 308, 56, 645, 619, 412, 266, 589, 28, 701, 56, 178, 153, 14397, 2565, 1152, 605]}],                        {\"legend\": {\"tracegroupgap\": 0}, \"margin\": {\"t\": 60}, \"template\": {\"data\": {\"bar\": [{\"error_x\": {\"color\": \"#2a3f5f\"}, \"error_y\": {\"color\": \"#2a3f5f\"}, \"marker\": {\"line\": {\"color\": \"#E5ECF6\", \"width\": 0.5}}, \"type\": \"bar\"}], \"barpolar\": [{\"marker\": {\"line\": {\"color\": \"#E5ECF6\", \"width\": 0.5}}, \"type\": \"barpolar\"}], \"carpet\": [{\"aaxis\": {\"endlinecolor\": \"#2a3f5f\", \"gridcolor\": \"white\", \"linecolor\": \"white\", \"minorgridcolor\": \"white\", \"startlinecolor\": \"#2a3f5f\"}, \"baxis\": {\"endlinecolor\": \"#2a3f5f\", \"gridcolor\": \"white\", \"linecolor\": \"white\", \"minorgridcolor\": \"white\", \"startlinecolor\": \"#2a3f5f\"}, \"type\": \"carpet\"}], \"choropleth\": [{\"colorbar\": {\"outlinewidth\": 0, \"ticks\": \"\"}, \"type\": \"choropleth\"}], \"contour\": [{\"colorbar\": {\"outlinewidth\": 0, \"ticks\": \"\"}, \"colorscale\": [[0.0, \"#0d0887\"], [0.1111111111111111, \"#46039f\"], [0.2222222222222222, \"#7201a8\"], [0.3333333333333333, \"#9c179e\"], [0.4444444444444444, \"#bd3786\"], [0.5555555555555556, \"#d8576b\"], [0.6666666666666666, \"#ed7953\"], [0.7777777777777778, \"#fb9f3a\"], [0.8888888888888888, \"#fdca26\"], [1.0, \"#f0f921\"]], \"type\": \"contour\"}], \"contourcarpet\": [{\"colorbar\": {\"outlinewidth\": 0, \"ticks\": \"\"}, \"type\": \"contourcarpet\"}], \"heatmap\": [{\"colorbar\": {\"outlinewidth\": 0, \"ticks\": \"\"}, \"colorscale\": [[0.0, \"#0d0887\"], [0.1111111111111111, \"#46039f\"], [0.2222222222222222, \"#7201a8\"], [0.3333333333333333, \"#9c179e\"], [0.4444444444444444, \"#bd3786\"], [0.5555555555555556, \"#d8576b\"], [0.6666666666666666, \"#ed7953\"], [0.7777777777777778, \"#fb9f3a\"], [0.8888888888888888, \"#fdca26\"], [1.0, \"#f0f921\"]], \"type\": \"heatmap\"}], \"heatmapgl\": [{\"colorbar\": {\"outlinewidth\": 0, \"ticks\": \"\"}, \"colorscale\": [[0.0, \"#0d0887\"], [0.1111111111111111, \"#46039f\"], [0.2222222222222222, \"#7201a8\"], [0.3333333333333333, \"#9c179e\"], [0.4444444444444444, \"#bd3786\"], [0.5555555555555556, \"#d8576b\"], [0.6666666666666666, \"#ed7953\"], [0.7777777777777778, \"#fb9f3a\"], [0.8888888888888888, \"#fdca26\"], [1.0, \"#f0f921\"]], \"type\": \"heatmapgl\"}], \"histogram\": [{\"marker\": {\"colorbar\": {\"outlinewidth\": 0, \"ticks\": \"\"}}, \"type\": \"histogram\"}], \"histogram2d\": [{\"colorbar\": {\"outlinewidth\": 0, \"ticks\": \"\"}, \"colorscale\": [[0.0, \"#0d0887\"], [0.1111111111111111, \"#46039f\"], [0.2222222222222222, \"#7201a8\"], [0.3333333333333333, \"#9c179e\"], [0.4444444444444444, \"#bd3786\"], [0.5555555555555556, \"#d8576b\"], [0.6666666666666666, \"#ed7953\"], [0.7777777777777778, \"#fb9f3a\"], [0.8888888888888888, \"#fdca26\"], [1.0, \"#f0f921\"]], \"type\": \"histogram2d\"}], \"histogram2dcontour\": [{\"colorbar\": {\"outlinewidth\": 0, \"ticks\": \"\"}, \"colorscale\": [[0.0, \"#0d0887\"], [0.1111111111111111, \"#46039f\"], [0.2222222222222222, \"#7201a8\"], [0.3333333333333333, \"#9c179e\"], [0.4444444444444444, \"#bd3786\"], [0.5555555555555556, \"#d8576b\"], [0.6666666666666666, \"#ed7953\"], [0.7777777777777778, \"#fb9f3a\"], [0.8888888888888888, \"#fdca26\"], [1.0, \"#f0f921\"]], \"type\": \"histogram2dcontour\"}], \"mesh3d\": [{\"colorbar\": {\"outlinewidth\": 0, \"ticks\": \"\"}, \"type\": \"mesh3d\"}], \"parcoords\": [{\"line\": {\"colorbar\": {\"outlinewidth\": 0, \"ticks\": \"\"}}, \"type\": \"parcoords\"}], \"pie\": [{\"automargin\": true, \"type\": \"pie\"}], \"scatter\": [{\"marker\": {\"colorbar\": {\"outlinewidth\": 0, \"ticks\": \"\"}}, \"type\": \"scatter\"}], \"scatter3d\": [{\"line\": {\"colorbar\": {\"outlinewidth\": 0, \"ticks\": \"\"}}, \"marker\": {\"colorbar\": {\"outlinewidth\": 0, \"ticks\": \"\"}}, \"type\": \"scatter3d\"}], \"scattercarpet\": [{\"marker\": {\"colorbar\": {\"outlinewidth\": 0, \"ticks\": \"\"}}, \"type\": \"scattercarpet\"}], \"scattergeo\": [{\"marker\": {\"colorbar\": {\"outlinewidth\": 0, \"ticks\": \"\"}}, \"type\": \"scattergeo\"}], \"scattergl\": [{\"marker\": {\"colorbar\": {\"outlinewidth\": 0, \"ticks\": \"\"}}, \"type\": \"scattergl\"}], \"scattermapbox\": [{\"marker\": {\"colorbar\": {\"outlinewidth\": 0, \"ticks\": \"\"}}, \"type\": \"scattermapbox\"}], \"scatterpolar\": [{\"marker\": {\"colorbar\": {\"outlinewidth\": 0, \"ticks\": \"\"}}, \"type\": \"scatterpolar\"}], \"scatterpolargl\": [{\"marker\": {\"colorbar\": {\"outlinewidth\": 0, \"ticks\": \"\"}}, \"type\": \"scatterpolargl\"}], \"scatterternary\": [{\"marker\": {\"colorbar\": {\"outlinewidth\": 0, \"ticks\": \"\"}}, \"type\": \"scatterternary\"}], \"surface\": [{\"colorbar\": {\"outlinewidth\": 0, \"ticks\": \"\"}, \"colorscale\": [[0.0, \"#0d0887\"], [0.1111111111111111, \"#46039f\"], [0.2222222222222222, \"#7201a8\"], [0.3333333333333333, \"#9c179e\"], [0.4444444444444444, \"#bd3786\"], [0.5555555555555556, \"#d8576b\"], [0.6666666666666666, \"#ed7953\"], [0.7777777777777778, \"#fb9f3a\"], [0.8888888888888888, \"#fdca26\"], [1.0, \"#f0f921\"]], \"type\": \"surface\"}], \"table\": [{\"cells\": {\"fill\": {\"color\": \"#EBF0F8\"}, \"line\": {\"color\": \"white\"}}, \"header\": {\"fill\": {\"color\": \"#C8D4E3\"}, \"line\": {\"color\": \"white\"}}, \"type\": \"table\"}]}, \"layout\": {\"annotationdefaults\": {\"arrowcolor\": \"#2a3f5f\", \"arrowhead\": 0, \"arrowwidth\": 1}, \"autotypenumbers\": \"strict\", \"coloraxis\": {\"colorbar\": {\"outlinewidth\": 0, \"ticks\": \"\"}}, \"colorscale\": {\"diverging\": [[0, \"#8e0152\"], [0.1, \"#c51b7d\"], [0.2, \"#de77ae\"], [0.3, \"#f1b6da\"], [0.4, \"#fde0ef\"], [0.5, \"#f7f7f7\"], [0.6, \"#e6f5d0\"], [0.7, \"#b8e186\"], [0.8, \"#7fbc41\"], [0.9, \"#4d9221\"], [1, \"#276419\"]], \"sequential\": [[0.0, \"#0d0887\"], [0.1111111111111111, \"#46039f\"], [0.2222222222222222, \"#7201a8\"], [0.3333333333333333, \"#9c179e\"], [0.4444444444444444, \"#bd3786\"], [0.5555555555555556, \"#d8576b\"], [0.6666666666666666, \"#ed7953\"], [0.7777777777777778, \"#fb9f3a\"], [0.8888888888888888, \"#fdca26\"], [1.0, \"#f0f921\"]], \"sequentialminus\": [[0.0, \"#0d0887\"], [0.1111111111111111, \"#46039f\"], [0.2222222222222222, \"#7201a8\"], [0.3333333333333333, \"#9c179e\"], [0.4444444444444444, \"#bd3786\"], [0.5555555555555556, \"#d8576b\"], [0.6666666666666666, \"#ed7953\"], [0.7777777777777778, \"#fb9f3a\"], [0.8888888888888888, \"#fdca26\"], [1.0, \"#f0f921\"]]}, \"colorway\": [\"#636efa\", \"#EF553B\", \"#00cc96\", \"#ab63fa\", \"#FFA15A\", \"#19d3f3\", \"#FF6692\", \"#B6E880\", \"#FF97FF\", \"#FECB52\"], \"font\": {\"color\": \"#2a3f5f\"}, \"geo\": {\"bgcolor\": \"white\", \"lakecolor\": \"white\", \"landcolor\": \"#E5ECF6\", \"showlakes\": true, \"showland\": true, \"subunitcolor\": \"white\"}, \"hoverlabel\": {\"align\": \"left\"}, \"hovermode\": \"closest\", \"mapbox\": {\"style\": \"light\"}, \"paper_bgcolor\": \"white\", \"plot_bgcolor\": \"#E5ECF6\", \"polar\": {\"angularaxis\": {\"gridcolor\": \"white\", \"linecolor\": \"white\", \"ticks\": \"\"}, \"bgcolor\": \"#E5ECF6\", \"radialaxis\": {\"gridcolor\": \"white\", \"linecolor\": \"white\", \"ticks\": \"\"}}, \"scene\": {\"xaxis\": {\"backgroundcolor\": \"#E5ECF6\", \"gridcolor\": \"white\", \"gridwidth\": 2, \"linecolor\": \"white\", \"showbackground\": true, \"ticks\": \"\", \"zerolinecolor\": \"white\"}, \"yaxis\": {\"backgroundcolor\": \"#E5ECF6\", \"gridcolor\": \"white\", \"gridwidth\": 2, \"linecolor\": \"white\", \"showbackground\": true, \"ticks\": \"\", \"zerolinecolor\": \"white\"}, \"zaxis\": {\"backgroundcolor\": \"#E5ECF6\", \"gridcolor\": \"white\", \"gridwidth\": 2, \"linecolor\": \"white\", \"showbackground\": true, \"ticks\": \"\", \"zerolinecolor\": \"white\"}}, \"shapedefaults\": {\"line\": {\"color\": \"#2a3f5f\"}}, \"ternary\": {\"aaxis\": {\"gridcolor\": \"white\", \"linecolor\": \"white\", \"ticks\": \"\"}, \"baxis\": {\"gridcolor\": \"white\", \"linecolor\": \"white\", \"ticks\": \"\"}, \"bgcolor\": \"#E5ECF6\", \"caxis\": {\"gridcolor\": \"white\", \"linecolor\": \"white\", \"ticks\": \"\"}}, \"title\": {\"x\": 0.05}, \"xaxis\": {\"automargin\": true, \"gridcolor\": \"white\", \"linecolor\": \"white\", \"ticks\": \"\", \"title\": {\"standoff\": 15}, \"zerolinecolor\": \"white\", \"zerolinewidth\": 2}, \"yaxis\": {\"automargin\": true, \"gridcolor\": \"white\", \"linecolor\": \"white\", \"ticks\": \"\", \"title\": {\"standoff\": 15}, \"zerolinecolor\": \"white\", \"zerolinewidth\": 2}}}},                        {\"responsive\": true}                    ).then(function(){\n",
       "                            \n",
       "var gd = document.getElementById('2d55a4ee-9d74-4573-b2ee-271bbfd507a7');\n",
       "var x = new MutationObserver(function (mutations, observer) {{\n",
       "        var display = window.getComputedStyle(gd).display;\n",
       "        if (!display || display === 'none') {{\n",
       "            console.log([gd, 'removed!']);\n",
       "            Plotly.purge(gd);\n",
       "            observer.disconnect();\n",
       "        }}\n",
       "}});\n",
       "\n",
       "// Listen for the removal of the full notebook cells\n",
       "var notebookContainer = gd.closest('#notebook-container');\n",
       "if (notebookContainer) {{\n",
       "    x.observe(notebookContainer, {childList: true});\n",
       "}}\n",
       "\n",
       "// Listen for the clearing of the current output cell\n",
       "var outputEl = gd.closest('.output');\n",
       "if (outputEl) {{\n",
       "    x.observe(outputEl, {childList: true});\n",
       "}}\n",
       "\n",
       "                        })                };                });            </script>        </div>"
      ]
     },
     "metadata": {},
     "output_type": "display_data"
    }
   ],
   "source": [
    "plot_df = df.groupby(['league_rank','league_name','isOver25']).count()['short_name'].reset_index()\n",
    "fig = px.sunburst(plot_df, path=['league_rank', 'league_name','isOver25'], values='short_name',\n",
    "                  color='isOver25',\n",
    "                  color_continuous_scale='RdBu',\n",
    "                  )\n",
    "fig.show()"
   ]
  },
  {
   "cell_type": "code",
   "execution_count": null,
   "metadata": {},
   "outputs": [],
   "source": []
  },
  {
   "cell_type": "code",
   "execution_count": null,
   "metadata": {},
   "outputs": [],
   "source": []
  }
 ],
 "metadata": {
  "kernelspec": {
   "display_name": "Python 3",
   "language": "python",
   "name": "python3"
  },
  "language_info": {
   "codemirror_mode": {
    "name": "ipython",
    "version": 3
   },
   "file_extension": ".py",
   "mimetype": "text/x-python",
   "name": "python",
   "nbconvert_exporter": "python",
   "pygments_lexer": "ipython3",
   "version": "3.8.5-final"
  }
 },
 "nbformat": 4,
 "nbformat_minor": 4
}