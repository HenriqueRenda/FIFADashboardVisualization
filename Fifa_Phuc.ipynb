{
 "cells": [
  {
   "cell_type": "markdown",
   "metadata": {},
   "source": [
    "## Data Visualization Project\n",
    "### FIFA players Dashboard"
   ]
  },
  {
   "cell_type": "markdown",
   "metadata": {},
   "source": [
    "Source : https://www.kaggle.com/stefanoleone992/fifa-21-complete-player-dataset/metadata"
   ]
  },
  {
   "cell_type": "markdown",
   "metadata": {},
   "source": [
    "<a class=\"anchor\" id=\"0.1\"></a>\n",
    "## Steps\n",
    "\n",
    "1.\t[Importing data and libraries](#1)   \n",
    "2.\t[EDA](#2)       \n",
    "3.  [Tab 1: players](#3)\n",
    "4.  [Tab 2: League Summary](#4)"
   ]
  },
  {
   "cell_type": "markdown",
   "metadata": {},
   "source": [
    "### 1. Importing data and libraries  <a class=\"anchor\" id=\"1\"></a>"
   ]
  },
  {
   "cell_type": "code",
   "execution_count": 3,
   "metadata": {},
   "outputs": [],
   "source": [
    "import pandas as pd\n",
    "import numpy as np\n",
    "import matplotlib.pyplot as plt\n",
    "import plotly.graph_objects as go\n",
    "import plotly.express as px"
   ]
  },
  {
   "cell_type": "code",
   "execution_count": 4,
   "metadata": {},
   "outputs": [],
   "source": [
    "data = pd.read_csv('players_21.csv')"
   ]
  },
  {
   "cell_type": "markdown",
   "metadata": {},
   "source": [
    "### 2. EDA  <a class=\"anchor\" id=\"2\"></a>"
   ]
  },
  {
   "cell_type": "code",
   "execution_count": 5,
   "metadata": {},
   "outputs": [],
   "source": [
    "variables = ['short_name', 'long_name', 'age', 'height_cm',\n",
    "       'weight_kg', 'nationality', 'club_name', 'league_name', 'league_rank',\n",
    "       'overall', 'potential', 'value_eur', 'wage_eur', 'player_positions',\n",
    "       'preferred_foot', 'international_reputation', 'weak_foot',\n",
    "       'skill_moves', 'release_clause_eur']"
   ]
  },
  {
   "cell_type": "code",
   "execution_count": 6,
   "metadata": {},
   "outputs": [],
   "source": [
    "df = data[variables].copy()"
   ]
  },
  {
   "cell_type": "code",
   "execution_count": 7,
   "metadata": {},
   "outputs": [],
   "source": [
    "df['isOver25'] = df['age'] > 25"
   ]
  },
  {
   "cell_type": "code",
   "execution_count": 8,
   "metadata": {},
   "outputs": [],
   "source": [
    "league = 'English Premier League'"
   ]
  },
  {
   "cell_type": "code",
   "execution_count": 9,
   "metadata": {},
   "outputs": [
    {
     "output_type": "execute_result",
     "data": {
      "text/plain": [
       "Index(['Arsenal', 'Aston Villa', 'Brighton & Hove Albion', 'Burnley',\n",
       "       'Chelsea', 'Crystal Palace', 'Everton', 'Fulham', 'Leeds United',\n",
       "       'Leicester City', 'Liverpool', 'Manchester City', 'Manchester United',\n",
       "       'Newcastle United', 'Sheffield United', 'Southampton',\n",
       "       'Tottenham Hotspur', 'West Bromwich Albion', 'West Ham United',\n",
       "       'Wolverhampton Wanderers'],\n",
       "      dtype='object', name='club_name')"
      ]
     },
     "metadata": {},
     "execution_count": 9
    }
   ],
   "source": [
    "df[df['league_name'] == league].groupby('club_name').count().index"
   ]
  },
  {
   "cell_type": "code",
   "execution_count": 10,
   "metadata": {},
   "outputs": [
    {
     "output_type": "execute_result",
     "data": {
      "text/plain": [
       "      short_name              long_name  age  height_cm  weight_kg  \\\n",
       "5   K. De Bruyne        Kevin De Bruyne   29        181         70   \n",
       "9        Alisson  Alisson Ramsés Becker   27        191         91   \n",
       "10       S. Mané             Sadio Mané   28        175         69   \n",
       "11      M. Salah    Mohamed Salah Ghaly   28        175         71   \n",
       "8    V. van Dijk        Virgil van Dijk   28        193         92   \n",
       "\n",
       "    nationality        club_name             league_name  league_rank  \\\n",
       "5       Belgium  Manchester City  English Premier League          1.0   \n",
       "9        Brazil        Liverpool  English Premier League          1.0   \n",
       "10      Senegal        Liverpool  English Premier League          1.0   \n",
       "11        Egypt        Liverpool  English Premier League          1.0   \n",
       "8   Netherlands        Liverpool  English Premier League          1.0   \n",
       "\n",
       "    overall  potential  value_eur  wage_eur player_positions preferred_foot  \\\n",
       "5        91         91   87000000    370000          CAM, CM          Right   \n",
       "9        90         91   62500000    160000               GK          Right   \n",
       "10       90         90   78000000    250000               LW          Right   \n",
       "11       90         90   78000000    250000               RW           Left   \n",
       "8        90         91   75500000    210000               CB          Right   \n",
       "\n",
       "    international_reputation  weak_foot  skill_moves  release_clause_eur  \\\n",
       "5                          4          5            4         161000000.0   \n",
       "9                          3          3            1         120300000.0   \n",
       "10                         3          4            4         144300000.0   \n",
       "11                         3          3            4         144300000.0   \n",
       "8                          3          3            2         145300000.0   \n",
       "\n",
       "    isOver25  \n",
       "5       True  \n",
       "9       True  \n",
       "10      True  \n",
       "11      True  \n",
       "8       True  "
      ],
      "text/html": "<div>\n<style scoped>\n    .dataframe tbody tr th:only-of-type {\n        vertical-align: middle;\n    }\n\n    .dataframe tbody tr th {\n        vertical-align: top;\n    }\n\n    .dataframe thead th {\n        text-align: right;\n    }\n</style>\n<table border=\"1\" class=\"dataframe\">\n  <thead>\n    <tr style=\"text-align: right;\">\n      <th></th>\n      <th>short_name</th>\n      <th>long_name</th>\n      <th>age</th>\n      <th>height_cm</th>\n      <th>weight_kg</th>\n      <th>nationality</th>\n      <th>club_name</th>\n      <th>league_name</th>\n      <th>league_rank</th>\n      <th>overall</th>\n      <th>potential</th>\n      <th>value_eur</th>\n      <th>wage_eur</th>\n      <th>player_positions</th>\n      <th>preferred_foot</th>\n      <th>international_reputation</th>\n      <th>weak_foot</th>\n      <th>skill_moves</th>\n      <th>release_clause_eur</th>\n      <th>isOver25</th>\n    </tr>\n  </thead>\n  <tbody>\n    <tr>\n      <th>5</th>\n      <td>K. De Bruyne</td>\n      <td>Kevin De Bruyne</td>\n      <td>29</td>\n      <td>181</td>\n      <td>70</td>\n      <td>Belgium</td>\n      <td>Manchester City</td>\n      <td>English Premier League</td>\n      <td>1.0</td>\n      <td>91</td>\n      <td>91</td>\n      <td>87000000</td>\n      <td>370000</td>\n      <td>CAM, CM</td>\n      <td>Right</td>\n      <td>4</td>\n      <td>5</td>\n      <td>4</td>\n      <td>161000000.0</td>\n      <td>True</td>\n    </tr>\n    <tr>\n      <th>9</th>\n      <td>Alisson</td>\n      <td>Alisson Ramsés Becker</td>\n      <td>27</td>\n      <td>191</td>\n      <td>91</td>\n      <td>Brazil</td>\n      <td>Liverpool</td>\n      <td>English Premier League</td>\n      <td>1.0</td>\n      <td>90</td>\n      <td>91</td>\n      <td>62500000</td>\n      <td>160000</td>\n      <td>GK</td>\n      <td>Right</td>\n      <td>3</td>\n      <td>3</td>\n      <td>1</td>\n      <td>120300000.0</td>\n      <td>True</td>\n    </tr>\n    <tr>\n      <th>10</th>\n      <td>S. Mané</td>\n      <td>Sadio Mané</td>\n      <td>28</td>\n      <td>175</td>\n      <td>69</td>\n      <td>Senegal</td>\n      <td>Liverpool</td>\n      <td>English Premier League</td>\n      <td>1.0</td>\n      <td>90</td>\n      <td>90</td>\n      <td>78000000</td>\n      <td>250000</td>\n      <td>LW</td>\n      <td>Right</td>\n      <td>3</td>\n      <td>4</td>\n      <td>4</td>\n      <td>144300000.0</td>\n      <td>True</td>\n    </tr>\n    <tr>\n      <th>11</th>\n      <td>M. Salah</td>\n      <td>Mohamed Salah Ghaly</td>\n      <td>28</td>\n      <td>175</td>\n      <td>71</td>\n      <td>Egypt</td>\n      <td>Liverpool</td>\n      <td>English Premier League</td>\n      <td>1.0</td>\n      <td>90</td>\n      <td>90</td>\n      <td>78000000</td>\n      <td>250000</td>\n      <td>RW</td>\n      <td>Left</td>\n      <td>3</td>\n      <td>3</td>\n      <td>4</td>\n      <td>144300000.0</td>\n      <td>True</td>\n    </tr>\n    <tr>\n      <th>8</th>\n      <td>V. van Dijk</td>\n      <td>Virgil van Dijk</td>\n      <td>28</td>\n      <td>193</td>\n      <td>92</td>\n      <td>Netherlands</td>\n      <td>Liverpool</td>\n      <td>English Premier League</td>\n      <td>1.0</td>\n      <td>90</td>\n      <td>91</td>\n      <td>75500000</td>\n      <td>210000</td>\n      <td>CB</td>\n      <td>Right</td>\n      <td>3</td>\n      <td>3</td>\n      <td>2</td>\n      <td>145300000.0</td>\n      <td>True</td>\n    </tr>\n  </tbody>\n</table>\n</div>"
     },
     "metadata": {},
     "execution_count": 10
    }
   ],
   "source": [
    "df[df['league_name'] == league].sort_values('overall',ascending = False).head(5)"
   ]
  },
  {
   "cell_type": "code",
   "execution_count": 14,
   "metadata": {},
   "outputs": [],
   "source": [
    "club = ['Liverpool','Manchester City']"
   ]
  },
  {
   "cell_type": "code",
   "execution_count": 15,
   "metadata": {},
   "outputs": [],
   "source": [
    "club = data[data['league_name'] == league]['club_name'].unique()"
   ]
  },
  {
   "cell_type": "code",
   "execution_count": 16,
   "metadata": {},
   "outputs": [
    {
     "output_type": "execute_result",
     "data": {
      "text/plain": [
       "     sofifa_id                                         player_url  \\\n",
       "5       192985  https://sofifa.com/player/192985/kevin-de-bruy...   \n",
       "9       212831  https://sofifa.com/player/212831/alisson-ramse...   \n",
       "10      208722  https://sofifa.com/player/208722/sadio-mane/21...   \n",
       "11      209331  https://sofifa.com/player/209331/mohamed-salah...   \n",
       "8       203376  https://sofifa.com/player/203376/virgil-van-di...   \n",
       "..         ...                                                ...   \n",
       "295     229984  https://sofifa.com/player/229984/ben-chilwell/...   \n",
       "297     204884  https://sofifa.com/player/204884/benjamin-mend...   \n",
       "447     178372  https://sofifa.com/player/178372/branislav-iva...   \n",
       "424     205923  https://sofifa.com/player/205923/ben-davies/21...   \n",
       "431     138412  https://sofifa.com/player/138412/james-milner/...   \n",
       "\n",
       "       short_name              long_name  age         dob  height_cm  \\\n",
       "5    K. De Bruyne        Kevin De Bruyne   29  1991-06-28        181   \n",
       "9         Alisson  Alisson Ramsés Becker   27  1992-10-02        191   \n",
       "10        S. Mané             Sadio Mané   28  1992-04-10        175   \n",
       "11       M. Salah    Mohamed Salah Ghaly   28  1992-06-15        175   \n",
       "8     V. van Dijk        Virgil van Dijk   28  1991-07-08        193   \n",
       "..            ...                    ...  ...         ...        ...   \n",
       "295   B. Chilwell           Ben Chilwell   23  1996-12-21        178   \n",
       "297      B. Mendy         Benjamin Mendy   25  1994-07-17        185   \n",
       "447   B. Ivanović     Branislav Ivanović   36  1984-02-22        185   \n",
       "424     B. Davies             Ben Davies   27  1993-04-24        182   \n",
       "431     J. Milner    James Philip Milner   34  1986-01-04        175   \n",
       "\n",
       "     weight_kg  nationality             club_name  ...   lwb   ldm   cdm  \\\n",
       "5           70      Belgium       Manchester City  ...  79+3  80+3  80+3   \n",
       "9           91       Brazil             Liverpool  ...  31+3  35+3  35+3   \n",
       "10          69      Senegal             Liverpool  ...  69+3  65+3  65+3   \n",
       "11          71        Egypt             Liverpool  ...  71+3  68+3  68+3   \n",
       "8           92  Netherlands             Liverpool  ...  80+3  85+3  85+3   \n",
       "..         ...          ...                   ...  ...   ...   ...   ...   \n",
       "295         77      England               Chelsea  ...  79+2  77+2  77+2   \n",
       "297         85       France       Manchester City  ...  80+2  77+2  77+2   \n",
       "447         91       Serbia  West Bromwich Albion  ...  74+3  76+3  76+3   \n",
       "424         76        Wales     Tottenham Hotspur  ...  79+2  78+2  78+2   \n",
       "431         70      England             Liverpool  ...  79+1   81+   81+   \n",
       "\n",
       "      rdm   rwb    lb   lcb    cb   rcb    rb  \n",
       "5    80+3  79+3  75+3  69+3  69+3  69+3  75+3  \n",
       "9    35+3  31+3  30+3  30+3  30+3  30+3  30+3  \n",
       "10   65+3  69+3  66+3  59+3  59+3  59+3  66+3  \n",
       "11   68+3  71+3  67+3  58+3  58+3  58+3  67+3  \n",
       "8    85+3  80+3  82+3  89+2  89+2  89+2  82+3  \n",
       "..    ...   ...   ...   ...   ...   ...   ...  \n",
       "295  77+2  79+2  79+2  76+2  76+2  76+2  79+2  \n",
       "297  77+2  80+2  79+2  77+2  77+2  77+2  79+2  \n",
       "447  76+3  74+3  76+3  80+0  80+0  80+0  76+3  \n",
       "424  78+2  79+2  78+2  76+2  76+2  76+2  78+2  \n",
       "431   81+  79+1  78+2  77+2  77+2  77+2  78+2  \n",
       "\n",
       "[100 rows x 106 columns]"
      ],
      "text/html": "<div>\n<style scoped>\n    .dataframe tbody tr th:only-of-type {\n        vertical-align: middle;\n    }\n\n    .dataframe tbody tr th {\n        vertical-align: top;\n    }\n\n    .dataframe thead th {\n        text-align: right;\n    }\n</style>\n<table border=\"1\" class=\"dataframe\">\n  <thead>\n    <tr style=\"text-align: right;\">\n      <th></th>\n      <th>sofifa_id</th>\n      <th>player_url</th>\n      <th>short_name</th>\n      <th>long_name</th>\n      <th>age</th>\n      <th>dob</th>\n      <th>height_cm</th>\n      <th>weight_kg</th>\n      <th>nationality</th>\n      <th>club_name</th>\n      <th>...</th>\n      <th>lwb</th>\n      <th>ldm</th>\n      <th>cdm</th>\n      <th>rdm</th>\n      <th>rwb</th>\n      <th>lb</th>\n      <th>lcb</th>\n      <th>cb</th>\n      <th>rcb</th>\n      <th>rb</th>\n    </tr>\n  </thead>\n  <tbody>\n    <tr>\n      <th>5</th>\n      <td>192985</td>\n      <td>https://sofifa.com/player/192985/kevin-de-bruy...</td>\n      <td>K. De Bruyne</td>\n      <td>Kevin De Bruyne</td>\n      <td>29</td>\n      <td>1991-06-28</td>\n      <td>181</td>\n      <td>70</td>\n      <td>Belgium</td>\n      <td>Manchester City</td>\n      <td>...</td>\n      <td>79+3</td>\n      <td>80+3</td>\n      <td>80+3</td>\n      <td>80+3</td>\n      <td>79+3</td>\n      <td>75+3</td>\n      <td>69+3</td>\n      <td>69+3</td>\n      <td>69+3</td>\n      <td>75+3</td>\n    </tr>\n    <tr>\n      <th>9</th>\n      <td>212831</td>\n      <td>https://sofifa.com/player/212831/alisson-ramse...</td>\n      <td>Alisson</td>\n      <td>Alisson Ramsés Becker</td>\n      <td>27</td>\n      <td>1992-10-02</td>\n      <td>191</td>\n      <td>91</td>\n      <td>Brazil</td>\n      <td>Liverpool</td>\n      <td>...</td>\n      <td>31+3</td>\n      <td>35+3</td>\n      <td>35+3</td>\n      <td>35+3</td>\n      <td>31+3</td>\n      <td>30+3</td>\n      <td>30+3</td>\n      <td>30+3</td>\n      <td>30+3</td>\n      <td>30+3</td>\n    </tr>\n    <tr>\n      <th>10</th>\n      <td>208722</td>\n      <td>https://sofifa.com/player/208722/sadio-mane/21...</td>\n      <td>S. Mané</td>\n      <td>Sadio Mané</td>\n      <td>28</td>\n      <td>1992-04-10</td>\n      <td>175</td>\n      <td>69</td>\n      <td>Senegal</td>\n      <td>Liverpool</td>\n      <td>...</td>\n      <td>69+3</td>\n      <td>65+3</td>\n      <td>65+3</td>\n      <td>65+3</td>\n      <td>69+3</td>\n      <td>66+3</td>\n      <td>59+3</td>\n      <td>59+3</td>\n      <td>59+3</td>\n      <td>66+3</td>\n    </tr>\n    <tr>\n      <th>11</th>\n      <td>209331</td>\n      <td>https://sofifa.com/player/209331/mohamed-salah...</td>\n      <td>M. Salah</td>\n      <td>Mohamed Salah Ghaly</td>\n      <td>28</td>\n      <td>1992-06-15</td>\n      <td>175</td>\n      <td>71</td>\n      <td>Egypt</td>\n      <td>Liverpool</td>\n      <td>...</td>\n      <td>71+3</td>\n      <td>68+3</td>\n      <td>68+3</td>\n      <td>68+3</td>\n      <td>71+3</td>\n      <td>67+3</td>\n      <td>58+3</td>\n      <td>58+3</td>\n      <td>58+3</td>\n      <td>67+3</td>\n    </tr>\n    <tr>\n      <th>8</th>\n      <td>203376</td>\n      <td>https://sofifa.com/player/203376/virgil-van-di...</td>\n      <td>V. van Dijk</td>\n      <td>Virgil van Dijk</td>\n      <td>28</td>\n      <td>1991-07-08</td>\n      <td>193</td>\n      <td>92</td>\n      <td>Netherlands</td>\n      <td>Liverpool</td>\n      <td>...</td>\n      <td>80+3</td>\n      <td>85+3</td>\n      <td>85+3</td>\n      <td>85+3</td>\n      <td>80+3</td>\n      <td>82+3</td>\n      <td>89+2</td>\n      <td>89+2</td>\n      <td>89+2</td>\n      <td>82+3</td>\n    </tr>\n    <tr>\n      <th>...</th>\n      <td>...</td>\n      <td>...</td>\n      <td>...</td>\n      <td>...</td>\n      <td>...</td>\n      <td>...</td>\n      <td>...</td>\n      <td>...</td>\n      <td>...</td>\n      <td>...</td>\n      <td>...</td>\n      <td>...</td>\n      <td>...</td>\n      <td>...</td>\n      <td>...</td>\n      <td>...</td>\n      <td>...</td>\n      <td>...</td>\n      <td>...</td>\n      <td>...</td>\n      <td>...</td>\n    </tr>\n    <tr>\n      <th>295</th>\n      <td>229984</td>\n      <td>https://sofifa.com/player/229984/ben-chilwell/...</td>\n      <td>B. Chilwell</td>\n      <td>Ben Chilwell</td>\n      <td>23</td>\n      <td>1996-12-21</td>\n      <td>178</td>\n      <td>77</td>\n      <td>England</td>\n      <td>Chelsea</td>\n      <td>...</td>\n      <td>79+2</td>\n      <td>77+2</td>\n      <td>77+2</td>\n      <td>77+2</td>\n      <td>79+2</td>\n      <td>79+2</td>\n      <td>76+2</td>\n      <td>76+2</td>\n      <td>76+2</td>\n      <td>79+2</td>\n    </tr>\n    <tr>\n      <th>297</th>\n      <td>204884</td>\n      <td>https://sofifa.com/player/204884/benjamin-mend...</td>\n      <td>B. Mendy</td>\n      <td>Benjamin Mendy</td>\n      <td>25</td>\n      <td>1994-07-17</td>\n      <td>185</td>\n      <td>85</td>\n      <td>France</td>\n      <td>Manchester City</td>\n      <td>...</td>\n      <td>80+2</td>\n      <td>77+2</td>\n      <td>77+2</td>\n      <td>77+2</td>\n      <td>80+2</td>\n      <td>79+2</td>\n      <td>77+2</td>\n      <td>77+2</td>\n      <td>77+2</td>\n      <td>79+2</td>\n    </tr>\n    <tr>\n      <th>447</th>\n      <td>178372</td>\n      <td>https://sofifa.com/player/178372/branislav-iva...</td>\n      <td>B. Ivanović</td>\n      <td>Branislav Ivanović</td>\n      <td>36</td>\n      <td>1984-02-22</td>\n      <td>185</td>\n      <td>91</td>\n      <td>Serbia</td>\n      <td>West Bromwich Albion</td>\n      <td>...</td>\n      <td>74+3</td>\n      <td>76+3</td>\n      <td>76+3</td>\n      <td>76+3</td>\n      <td>74+3</td>\n      <td>76+3</td>\n      <td>80+0</td>\n      <td>80+0</td>\n      <td>80+0</td>\n      <td>76+3</td>\n    </tr>\n    <tr>\n      <th>424</th>\n      <td>205923</td>\n      <td>https://sofifa.com/player/205923/ben-davies/21...</td>\n      <td>B. Davies</td>\n      <td>Ben Davies</td>\n      <td>27</td>\n      <td>1993-04-24</td>\n      <td>182</td>\n      <td>76</td>\n      <td>Wales</td>\n      <td>Tottenham Hotspur</td>\n      <td>...</td>\n      <td>79+2</td>\n      <td>78+2</td>\n      <td>78+2</td>\n      <td>78+2</td>\n      <td>79+2</td>\n      <td>78+2</td>\n      <td>76+2</td>\n      <td>76+2</td>\n      <td>76+2</td>\n      <td>78+2</td>\n    </tr>\n    <tr>\n      <th>431</th>\n      <td>138412</td>\n      <td>https://sofifa.com/player/138412/james-milner/...</td>\n      <td>J. Milner</td>\n      <td>James Philip Milner</td>\n      <td>34</td>\n      <td>1986-01-04</td>\n      <td>175</td>\n      <td>70</td>\n      <td>England</td>\n      <td>Liverpool</td>\n      <td>...</td>\n      <td>79+1</td>\n      <td>81+</td>\n      <td>81+</td>\n      <td>81+</td>\n      <td>79+1</td>\n      <td>78+2</td>\n      <td>77+2</td>\n      <td>77+2</td>\n      <td>77+2</td>\n      <td>78+2</td>\n    </tr>\n  </tbody>\n</table>\n<p>100 rows × 106 columns</p>\n</div>"
     },
     "metadata": {},
     "execution_count": 16
    }
   ],
   "source": [
    "data[data['league_name'] == league].loc[data['club_name'].isin(club),:].sort_values('overall',ascending = False).head(100)"
   ]
  },
  {
   "cell_type": "code",
   "execution_count": 24,
   "metadata": {},
   "outputs": [
    {
     "output_type": "display_data",
     "data": {
      "application/vnd.plotly.v1+json": {
       "config": {
        "plotlyServerURL": "https://plot.ly"
       },
       "data": [
        {
         "customdata": [
          [
           29,
           "Manchester City",
           91,
           91,
           "CAM, CM"
          ],
          [
           27,
           "Liverpool",
           90,
           91,
           "GK"
          ],
          [
           28,
           "Liverpool",
           90,
           90,
           "LW"
          ],
          [
           28,
           "Liverpool",
           90,
           90,
           "RW"
          ],
          [
           28,
           "Liverpool",
           90,
           91,
           "CB"
          ],
          [
           32,
           "Manchester City",
           89,
           89,
           "ST"
          ],
          [
           26,
           "Manchester City",
           88,
           91,
           "GK"
          ],
          [
           26,
           "Tottenham Hotspur",
           88,
           89,
           "ST"
          ],
          [
           29,
           "Chelsea",
           88,
           88,
           "CDM, CM"
          ],
          [
           28,
           "Liverpool",
           87,
           87,
           "CF"
          ],
          [
           27,
           "Tottenham Hotspur",
           87,
           87,
           "LM, CF"
          ],
          [
           31,
           "Arsenal",
           87,
           87,
           "ST, LW"
          ],
          [
           33,
           "Tottenham Hotspur",
           87,
           87,
           "GK"
          ],
          [
           26,
           "Liverpool",
           87,
           89,
           "LB"
          ],
          [
           26,
           "Liverpool",
           87,
           89,
           "CDM"
          ],
          [
           26,
           "Manchester City",
           87,
           90,
           "CB"
          ],
          [
           29,
           "Manchester United",
           86,
           86,
           "GK"
          ],
          [
           33,
           "Leicester City",
           86,
           86,
           "ST"
          ],
          [
           27,
           "Manchester United",
           86,
           87,
           "CM, CDM"
          ],
          [
           30,
           "Liverpool",
           86,
           86,
           "CDM, CM"
          ],
          [
           29,
           "Manchester City",
           85,
           85,
           "RW, RM"
          ],
          [
           29,
           "Liverpool",
           85,
           85,
           "CM, CDM"
          ],
          [
           30,
           "Manchester City",
           85,
           85,
           "RB"
          ],
          [
           31,
           "Tottenham Hotspur",
           85,
           85,
           "CB"
          ],
          [
           29,
           "Liverpool",
           85,
           85,
           "CM"
          ],
          [
           35,
           "Chelsea",
           85,
           85,
           "CB"
          ],
          [
           27,
           "Chelsea",
           85,
           86,
           "CAM, RW"
          ],
          [
           26,
           "Leicester City",
           85,
           87,
           "RB"
          ],
          [
           28,
           "Arsenal",
           85,
           87,
           "GK"
          ],
          [
           33,
           "Leicester City",
           84,
           84,
           "GK"
          ],
          [
           29,
           "Wolverhampton Wanderers",
           84,
           84,
           "ST"
          ],
          [
           30,
           "Chelsea",
           84,
           84,
           "RB, LB"
          ],
          [
           32,
           "Wolverhampton Wanderers",
           84,
           84,
           "GK"
          ],
          [
           35,
           "Manchester City",
           84,
           84,
           "CB, CDM"
          ],
          [
           26,
           "Everton",
           84,
           85,
           "LB"
          ],
          [
           33,
           "Wolverhampton Wanderers",
           83,
           83,
           "CM"
          ],
          [
           31,
           "Newcastle United",
           83,
           83,
           "GK"
          ],
          [
           28,
           "Chelsea",
           83,
           83,
           "CM, CDM"
          ],
          [
           27,
           "Tottenham Hotspur",
           83,
           83,
           "RM, CF"
          ],
          [
           29,
           "Everton",
           83,
           83,
           "CM"
          ],
          [
           27,
           "Crystal Palace",
           83,
           83,
           "LM, CF"
          ],
          [
           29,
           "Arsenal",
           83,
           83,
           "ST"
          ],
          [
           29,
           "Manchester City",
           83,
           83,
           "CM, CDM"
          ],
          [
           30,
           "Tottenham Hotspur",
           83,
           83,
           "RW"
          ],
          [
           28,
           "Liverpool",
           83,
           84,
           "CB"
          ],
          [
           26,
           "Manchester City",
           83,
           86,
           "RB"
          ],
          [
           26,
           "Chelsea",
           83,
           86,
           "CM, CDM"
          ],
          [
           28,
           "Everton",
           82,
           82,
           "CAM, CM, RM"
          ],
          [
           29,
           "Leeds United",
           82,
           82,
           "ST"
          ],
          [
           31,
           "Arsenal",
           82,
           82,
           "RW, LW, RM"
          ],
          [
           31,
           "Arsenal",
           82,
           82,
           "CAM, RW"
          ],
          [
           28,
           "Burnley",
           82,
           83,
           "GK"
          ],
          [
           27,
           "Manchester United",
           82,
           85,
           "CB"
          ],
          [
           27,
           "Fulham",
           82,
           86,
           "GK"
          ],
          [
           26,
           "Wolverhampton Wanderers",
           81,
           84,
           "LWB"
          ],
          [
           27,
           "West Ham United",
           81,
           81,
           "LM, CAM"
          ],
          [
           28,
           "Tottenham Hotspur",
           81,
           81,
           "RWB, RB"
          ],
          [
           28,
           "Liverpool",
           81,
           81,
           "RM"
          ],
          [
           29,
           "Chelsea",
           81,
           81,
           "LB, LWB"
          ],
          [
           35,
           "West Ham United",
           81,
           81,
           "GK"
          ],
          [
           27,
           "Manchester United",
           81,
           83,
           "CDM, CM"
          ],
          [
           26,
           "West Ham United",
           81,
           83,
           "ST"
          ],
          [
           27,
           "Chelsea",
           81,
           83,
           "CB"
          ],
          [
           26,
           "Everton",
           81,
           84,
           "GK"
          ],
          [
           36,
           "West Bromwich Albion",
           80,
           80,
           "CB, RB"
          ],
          [
           27,
           "Tottenham Hotspur",
           80,
           81,
           "LB, LWB"
          ],
          [
           34,
           "Liverpool",
           80,
           80,
           "CM, RB, LB"
          ]
         ],
         "hovertemplate": "<b>%{hovertext}</b><br><br>isOver25text=Over 25<br>value_eur=%{x}<br>wage_eur=%{y}<br>age=%{customdata[0]}<br>club_name=%{customdata[1]}<br>overall=%{customdata[2]}<br>potential=%{customdata[3]}<br>player_positions=%{customdata[4]}<extra></extra>",
         "hovertext": [
          "K. De Bruyne",
          "Alisson",
          "S. Mané",
          "M. Salah",
          "V. van Dijk",
          "S. Agüero",
          "Ederson",
          "H. Kane",
          "N. Kanté",
          "Roberto Firmino",
          "H. Son",
          "P. Aubameyang",
          "H. Lloris",
          "A. Robertson",
          "Fabinho",
          "A. Laporte",
          "De Gea",
          "J. Vardy",
          "P. Pogba",
          "J. Henderson",
          "R. Mahrez",
          "Thiago",
          "K. Walker",
          "T. Alderweireld",
          "G. Wijnaldum",
          "Thiago Silva",
          "H. Ziyech",
          "Ricardo Pereira",
          "B. Leno",
          "K. Schmeichel",
          "R. Jiménez",
          "Azpilicueta",
          "Rui Patrício",
          "Fernandinho",
          "L. Digne",
          "João Moutinho",
          "M. Dúbravka",
          "Jorginho",
          "Lucas Moura",
          "Allan",
          "W. Zaha",
          "A. Lacazette",
          "I. Gündoğan",
          "G. Bale",
          "J. Matip",
          "João Cancelo",
          "M. Kovačić",
          "J. Rodríguez",
          "Rodrigo",
          "Willian",
          "M. Özil",
          "N. Pope",
          "H. Maguire",
          "A. Areola",
          "Jonny",
          "Felipe Anderson",
          "M. Doherty",
          "X. Shaqiri",
          "Marcos Alonso",
          "L. Fabiański",
          "Fred",
          "S. Haller",
          "A. Rüdiger",
          "J. Pickford",
          "B. Ivanović",
          "B. Davies",
          "J. Milner"
         ],
         "legendgroup": "Over 25",
         "marker": {
          "color": "#853df6",
          "line": {
           "color": "DarkSlateGrey",
           "width": 2
          },
          "size": 12,
          "symbol": "circle"
         },
         "mode": "markers",
         "name": "Over 25",
         "orientation": "v",
         "showlegend": true,
         "type": "scatter",
         "x": [
          87000000,
          62500000,
          78000000,
          78000000,
          75500000,
          53000000,
          53500000,
          71000000,
          51000000,
          52000000,
          52500000,
          45000000,
          27000000,
          53000000,
          54500000,
          56000000,
          31500000,
          28000000,
          50000000,
          36500000,
          37500000,
          37000000,
          30500000,
          28500000,
          37000000,
          11500000,
          44000000,
          40500000,
          33500000,
          17000000,
          31000000,
          24500000,
          19000000,
          9500000,
          31500000,
          15000000,
          16500000,
          25500000,
          27000000,
          25000000,
          27000000,
          26000000,
          25000000,
          24500000,
          25500000,
          28000000,
          31500000,
          22500000,
          22000000,
          19500000,
          19500000,
          18500000,
          24000000,
          20000000,
          19500000,
          18500000,
          15000000,
          18000000,
          14500000,
          4800000,
          19000000,
          22000000,
          18500000,
          16000000,
          3000000,
          14500000,
          7000000
         ],
         "xaxis": "x",
         "y": [
          370000,
          160000,
          250000,
          250000,
          210000,
          300000,
          195000,
          220000,
          190000,
          190000,
          165000,
          170000,
          125000,
          155000,
          155000,
          200000,
          150000,
          160000,
          190000,
          140000,
          210000,
          150000,
          170000,
          130000,
          150000,
          93000,
          140000,
          120000,
          105000,
          90000,
          140000,
          120000,
          90000,
          110000,
          110000,
          110000,
          47000,
          125000,
          120000,
          115000,
          82000,
          125000,
          160000,
          130000,
          115000,
          140000,
          120000,
          105000,
          140000,
          110000,
          100000,
          59000,
          120000,
          93000,
          86000,
          53000,
          96000,
          105000,
          96000,
          26000,
          115000,
          58000,
          92000,
          70000,
          61000,
          86000,
          94000
         ],
         "yaxis": "y"
        },
        {
         "customdata": [
          [
           25,
           "Manchester City",
           88,
           90,
           "LW, RW"
          ],
          [
           25,
           "Manchester City",
           87,
           88,
           "RW, CAM, CM"
          ],
          [
           25,
           "Manchester United",
           87,
           90,
           "CAM, CM"
          ],
          [
           21,
           "Liverpool",
           87,
           92,
           "RB"
          ],
          [
           21,
           "Chelsea",
           85,
           93,
           "CAM, RM, CF"
          ],
          [
           24,
           "Manchester City",
           85,
           88,
           "CDM, CM"
          ],
          [
           24,
           "Chelsea",
           85,
           88,
           "ST"
          ],
          [
           22,
           "Manchester United",
           85,
           91,
           "LM, ST"
          ],
          [
           23,
           "Leicester City",
           84,
           88,
           "CDM, CM"
          ],
          [
           24,
           "Manchester United",
           84,
           88,
           "ST"
          ],
          [
           23,
           "Manchester City",
           83,
           87,
           "ST"
          ],
          [
           23,
           "Manchester United",
           83,
           87,
           "CM, CAM"
          ],
          [
           24,
           "Tottenham Hotspur",
           83,
           87,
           "CAM, CM"
          ],
          [
           22,
           "Manchester United",
           83,
           88,
           "RB, RWB"
          ],
          [
           22,
           "Tottenham Hotspur",
           83,
           88,
           "LM, LW, RM"
          ],
          [
           23,
           "Liverpool",
           83,
           88,
           "CB"
          ],
          [
           25,
           "Arsenal",
           82,
           85,
           "RM, RW"
          ],
          [
           23,
           "Tottenham Hotspur",
           82,
           89,
           "LB, LM"
          ],
          [
           25,
           "Chelsea",
           82,
           86,
           "GK"
          ],
          [
           24,
           "Tottenham Hotspur",
           82,
           87,
           "CM, CAM"
          ],
          [
           23,
           "Wolverhampton Wanderers",
           82,
           87,
           "CM"
          ],
          [
           24,
           "Manchester United",
           81,
           83,
           "LB"
          ],
          [
           24,
           "Tottenham Hotspur",
           81,
           84,
           "CB"
          ],
          [
           23,
           "Leicester City",
           81,
           85,
           "CAM, CM, LW"
          ],
          [
           20,
           "Manchester City",
           81,
           89,
           "RM, LM, CF"
          ],
          [
           23,
           "Everton",
           81,
           88,
           "ST, RM, LM"
          ],
          [
           21,
           "Chelsea",
           81,
           87,
           "LW, RW, LM"
          ],
          [
           23,
           "Leicester City",
           81,
           85,
           "CM"
          ],
          [
           25,
           "West Ham United",
           81,
           86,
           "CDM, CM"
          ],
          [
           25,
           "Liverpool",
           81,
           85,
           "CM"
          ],
          [
           24,
           "Arsenal",
           81,
           85,
           "CDM, CM"
          ],
          [
           23,
           "Chelsea",
           81,
           85,
           "LB"
          ],
          [
           25,
           "Manchester City",
           81,
           84,
           "LB"
          ]
         ],
         "hovertemplate": "<b>%{hovertext}</b><br><br>isOver25text=Under 25<br>value_eur=%{x}<br>wage_eur=%{y}<br>age=%{customdata[0]}<br>club_name=%{customdata[1]}<br>overall=%{customdata[2]}<br>potential=%{customdata[3]}<br>player_positions=%{customdata[4]}<extra></extra>",
         "hovertext": [
          "R. Sterling",
          "Bernardo Silva",
          "Bruno Fernandes",
          "T. Alexander-Arnold",
          "K. Havertz",
          "Rodri",
          "T. Werner",
          "M. Rashford",
          "W. Ndidi",
          "A. Martial",
          "Gabriel Jesus",
          "D. van de Beek",
          "D. Alli",
          "A. Wan-Bissaka",
          "S. Bergwijn",
          "J. Gomez",
          "N. Pépé",
          "Reguilón",
          "Kepa",
          "G. Lo Celso",
          "Rúben Neves",
          "L. Shaw",
          "D. Sánchez",
          "J. Maddison",
          "Ferran Torres",
          "Richarlison",
          "C. Pulisic",
          "Y. Tielemans",
          "T. Souček",
          "N. Keïta",
          "L. Torreira",
          "B. Chilwell",
          "B. Mendy"
         ],
         "legendgroup": "Under 25",
         "marker": {
          "color": "#efff45",
          "line": {
           "color": "DarkSlateGrey",
           "width": 2
          },
          "size": 12,
          "symbol": "circle"
         },
         "mode": "markers",
         "name": "Under 25",
         "orientation": "v",
         "showlegend": true,
         "type": "scatter",
         "x": [
          72500000,
          60000000,
          63000000,
          60000000,
          57000000,
          44000000,
          49500000,
          53000000,
          36500000,
          41000000,
          34500000,
          33000000,
          34000000,
          30500000,
          34500000,
          31000000,
          28000000,
          27500000,
          21000000,
          29000000,
          29000000,
          19000000,
          20000000,
          23000000,
          26500000,
          25500000,
          24500000,
          23000000,
          21500000,
          22500000,
          21000000,
          20500000,
          19500000
         ],
         "xaxis": "x",
         "y": [
          270000,
          230000,
          195000,
          110000,
          105000,
          145000,
          135000,
          150000,
          96000,
          155000,
          150000,
          125000,
          105000,
          115000,
          105000,
          93000,
          98000,
          85000,
          76000,
          95000,
          89000,
          97000,
          79000,
          82000,
          97000,
          90000,
          83000,
          82000,
          46000,
          96000,
          74000,
          79000,
          115000
         ],
         "yaxis": "y"
        }
       ],
       "layout": {
        "legend": {
         "orientation": "h",
         "title": {
          "text": ""
         },
         "tracegroupgap": 0,
         "x": 1,
         "xanchor": "right",
         "y": 1,
         "yanchor": "bottom"
        },
        "paper_bgcolor": "rgba(0, 0, 0, 0)",
        "plot_bgcolor": "rgba(0, 0, 0, 0)",
        "template": {
         "data": {
          "bar": [
           {
            "error_x": {
             "color": "#2a3f5f"
            },
            "error_y": {
             "color": "#2a3f5f"
            },
            "marker": {
             "line": {
              "color": "#E5ECF6",
              "width": 0.5
             }
            },
            "type": "bar"
           }
          ],
          "barpolar": [
           {
            "marker": {
             "line": {
              "color": "#E5ECF6",
              "width": 0.5
             }
            },
            "type": "barpolar"
           }
          ],
          "carpet": [
           {
            "aaxis": {
             "endlinecolor": "#2a3f5f",
             "gridcolor": "white",
             "linecolor": "white",
             "minorgridcolor": "white",
             "startlinecolor": "#2a3f5f"
            },
            "baxis": {
             "endlinecolor": "#2a3f5f",
             "gridcolor": "white",
             "linecolor": "white",
             "minorgridcolor": "white",
             "startlinecolor": "#2a3f5f"
            },
            "type": "carpet"
           }
          ],
          "choropleth": [
           {
            "colorbar": {
             "outlinewidth": 0,
             "ticks": ""
            },
            "type": "choropleth"
           }
          ],
          "contour": [
           {
            "colorbar": {
             "outlinewidth": 0,
             "ticks": ""
            },
            "colorscale": [
             [
              0,
              "#0d0887"
             ],
             [
              0.1111111111111111,
              "#46039f"
             ],
             [
              0.2222222222222222,
              "#7201a8"
             ],
             [
              0.3333333333333333,
              "#9c179e"
             ],
             [
              0.4444444444444444,
              "#bd3786"
             ],
             [
              0.5555555555555556,
              "#d8576b"
             ],
             [
              0.6666666666666666,
              "#ed7953"
             ],
             [
              0.7777777777777778,
              "#fb9f3a"
             ],
             [
              0.8888888888888888,
              "#fdca26"
             ],
             [
              1,
              "#f0f921"
             ]
            ],
            "type": "contour"
           }
          ],
          "contourcarpet": [
           {
            "colorbar": {
             "outlinewidth": 0,
             "ticks": ""
            },
            "type": "contourcarpet"
           }
          ],
          "heatmap": [
           {
            "colorbar": {
             "outlinewidth": 0,
             "ticks": ""
            },
            "colorscale": [
             [
              0,
              "#0d0887"
             ],
             [
              0.1111111111111111,
              "#46039f"
             ],
             [
              0.2222222222222222,
              "#7201a8"
             ],
             [
              0.3333333333333333,
              "#9c179e"
             ],
             [
              0.4444444444444444,
              "#bd3786"
             ],
             [
              0.5555555555555556,
              "#d8576b"
             ],
             [
              0.6666666666666666,
              "#ed7953"
             ],
             [
              0.7777777777777778,
              "#fb9f3a"
             ],
             [
              0.8888888888888888,
              "#fdca26"
             ],
             [
              1,
              "#f0f921"
             ]
            ],
            "type": "heatmap"
           }
          ],
          "heatmapgl": [
           {
            "colorbar": {
             "outlinewidth": 0,
             "ticks": ""
            },
            "colorscale": [
             [
              0,
              "#0d0887"
             ],
             [
              0.1111111111111111,
              "#46039f"
             ],
             [
              0.2222222222222222,
              "#7201a8"
             ],
             [
              0.3333333333333333,
              "#9c179e"
             ],
             [
              0.4444444444444444,
              "#bd3786"
             ],
             [
              0.5555555555555556,
              "#d8576b"
             ],
             [
              0.6666666666666666,
              "#ed7953"
             ],
             [
              0.7777777777777778,
              "#fb9f3a"
             ],
             [
              0.8888888888888888,
              "#fdca26"
             ],
             [
              1,
              "#f0f921"
             ]
            ],
            "type": "heatmapgl"
           }
          ],
          "histogram": [
           {
            "marker": {
             "colorbar": {
              "outlinewidth": 0,
              "ticks": ""
             }
            },
            "type": "histogram"
           }
          ],
          "histogram2d": [
           {
            "colorbar": {
             "outlinewidth": 0,
             "ticks": ""
            },
            "colorscale": [
             [
              0,
              "#0d0887"
             ],
             [
              0.1111111111111111,
              "#46039f"
             ],
             [
              0.2222222222222222,
              "#7201a8"
             ],
             [
              0.3333333333333333,
              "#9c179e"
             ],
             [
              0.4444444444444444,
              "#bd3786"
             ],
             [
              0.5555555555555556,
              "#d8576b"
             ],
             [
              0.6666666666666666,
              "#ed7953"
             ],
             [
              0.7777777777777778,
              "#fb9f3a"
             ],
             [
              0.8888888888888888,
              "#fdca26"
             ],
             [
              1,
              "#f0f921"
             ]
            ],
            "type": "histogram2d"
           }
          ],
          "histogram2dcontour": [
           {
            "colorbar": {
             "outlinewidth": 0,
             "ticks": ""
            },
            "colorscale": [
             [
              0,
              "#0d0887"
             ],
             [
              0.1111111111111111,
              "#46039f"
             ],
             [
              0.2222222222222222,
              "#7201a8"
             ],
             [
              0.3333333333333333,
              "#9c179e"
             ],
             [
              0.4444444444444444,
              "#bd3786"
             ],
             [
              0.5555555555555556,
              "#d8576b"
             ],
             [
              0.6666666666666666,
              "#ed7953"
             ],
             [
              0.7777777777777778,
              "#fb9f3a"
             ],
             [
              0.8888888888888888,
              "#fdca26"
             ],
             [
              1,
              "#f0f921"
             ]
            ],
            "type": "histogram2dcontour"
           }
          ],
          "mesh3d": [
           {
            "colorbar": {
             "outlinewidth": 0,
             "ticks": ""
            },
            "type": "mesh3d"
           }
          ],
          "parcoords": [
           {
            "line": {
             "colorbar": {
              "outlinewidth": 0,
              "ticks": ""
             }
            },
            "type": "parcoords"
           }
          ],
          "pie": [
           {
            "automargin": true,
            "type": "pie"
           }
          ],
          "scatter": [
           {
            "marker": {
             "colorbar": {
              "outlinewidth": 0,
              "ticks": ""
             }
            },
            "type": "scatter"
           }
          ],
          "scatter3d": [
           {
            "line": {
             "colorbar": {
              "outlinewidth": 0,
              "ticks": ""
             }
            },
            "marker": {
             "colorbar": {
              "outlinewidth": 0,
              "ticks": ""
             }
            },
            "type": "scatter3d"
           }
          ],
          "scattercarpet": [
           {
            "marker": {
             "colorbar": {
              "outlinewidth": 0,
              "ticks": ""
             }
            },
            "type": "scattercarpet"
           }
          ],
          "scattergeo": [
           {
            "marker": {
             "colorbar": {
              "outlinewidth": 0,
              "ticks": ""
             }
            },
            "type": "scattergeo"
           }
          ],
          "scattergl": [
           {
            "marker": {
             "colorbar": {
              "outlinewidth": 0,
              "ticks": ""
             }
            },
            "type": "scattergl"
           }
          ],
          "scattermapbox": [
           {
            "marker": {
             "colorbar": {
              "outlinewidth": 0,
              "ticks": ""
             }
            },
            "type": "scattermapbox"
           }
          ],
          "scatterpolar": [
           {
            "marker": {
             "colorbar": {
              "outlinewidth": 0,
              "ticks": ""
             }
            },
            "type": "scatterpolar"
           }
          ],
          "scatterpolargl": [
           {
            "marker": {
             "colorbar": {
              "outlinewidth": 0,
              "ticks": ""
             }
            },
            "type": "scatterpolargl"
           }
          ],
          "scatterternary": [
           {
            "marker": {
             "colorbar": {
              "outlinewidth": 0,
              "ticks": ""
             }
            },
            "type": "scatterternary"
           }
          ],
          "surface": [
           {
            "colorbar": {
             "outlinewidth": 0,
             "ticks": ""
            },
            "colorscale": [
             [
              0,
              "#0d0887"
             ],
             [
              0.1111111111111111,
              "#46039f"
             ],
             [
              0.2222222222222222,
              "#7201a8"
             ],
             [
              0.3333333333333333,
              "#9c179e"
             ],
             [
              0.4444444444444444,
              "#bd3786"
             ],
             [
              0.5555555555555556,
              "#d8576b"
             ],
             [
              0.6666666666666666,
              "#ed7953"
             ],
             [
              0.7777777777777778,
              "#fb9f3a"
             ],
             [
              0.8888888888888888,
              "#fdca26"
             ],
             [
              1,
              "#f0f921"
             ]
            ],
            "type": "surface"
           }
          ],
          "table": [
           {
            "cells": {
             "fill": {
              "color": "#EBF0F8"
             },
             "line": {
              "color": "white"
             }
            },
            "header": {
             "fill": {
              "color": "#C8D4E3"
             },
             "line": {
              "color": "white"
             }
            },
            "type": "table"
           }
          ]
         },
         "layout": {
          "annotationdefaults": {
           "arrowcolor": "#2a3f5f",
           "arrowhead": 0,
           "arrowwidth": 1
          },
          "autotypenumbers": "strict",
          "coloraxis": {
           "colorbar": {
            "outlinewidth": 0,
            "ticks": ""
           }
          },
          "colorscale": {
           "diverging": [
            [
             0,
             "#8e0152"
            ],
            [
             0.1,
             "#c51b7d"
            ],
            [
             0.2,
             "#de77ae"
            ],
            [
             0.3,
             "#f1b6da"
            ],
            [
             0.4,
             "#fde0ef"
            ],
            [
             0.5,
             "#f7f7f7"
            ],
            [
             0.6,
             "#e6f5d0"
            ],
            [
             0.7,
             "#b8e186"
            ],
            [
             0.8,
             "#7fbc41"
            ],
            [
             0.9,
             "#4d9221"
            ],
            [
             1,
             "#276419"
            ]
           ],
           "sequential": [
            [
             0,
             "#0d0887"
            ],
            [
             0.1111111111111111,
             "#46039f"
            ],
            [
             0.2222222222222222,
             "#7201a8"
            ],
            [
             0.3333333333333333,
             "#9c179e"
            ],
            [
             0.4444444444444444,
             "#bd3786"
            ],
            [
             0.5555555555555556,
             "#d8576b"
            ],
            [
             0.6666666666666666,
             "#ed7953"
            ],
            [
             0.7777777777777778,
             "#fb9f3a"
            ],
            [
             0.8888888888888888,
             "#fdca26"
            ],
            [
             1,
             "#f0f921"
            ]
           ],
           "sequentialminus": [
            [
             0,
             "#0d0887"
            ],
            [
             0.1111111111111111,
             "#46039f"
            ],
            [
             0.2222222222222222,
             "#7201a8"
            ],
            [
             0.3333333333333333,
             "#9c179e"
            ],
            [
             0.4444444444444444,
             "#bd3786"
            ],
            [
             0.5555555555555556,
             "#d8576b"
            ],
            [
             0.6666666666666666,
             "#ed7953"
            ],
            [
             0.7777777777777778,
             "#fb9f3a"
            ],
            [
             0.8888888888888888,
             "#fdca26"
            ],
            [
             1,
             "#f0f921"
            ]
           ]
          },
          "colorway": [
           "#636efa",
           "#EF553B",
           "#00cc96",
           "#ab63fa",
           "#FFA15A",
           "#19d3f3",
           "#FF6692",
           "#B6E880",
           "#FF97FF",
           "#FECB52"
          ],
          "font": {
           "color": "#2a3f5f"
          },
          "geo": {
           "bgcolor": "white",
           "lakecolor": "white",
           "landcolor": "#E5ECF6",
           "showlakes": true,
           "showland": true,
           "subunitcolor": "white"
          },
          "hoverlabel": {
           "align": "left"
          },
          "hovermode": "closest",
          "mapbox": {
           "style": "light"
          },
          "paper_bgcolor": "white",
          "plot_bgcolor": "#E5ECF6",
          "polar": {
           "angularaxis": {
            "gridcolor": "white",
            "linecolor": "white",
            "ticks": ""
           },
           "bgcolor": "#E5ECF6",
           "radialaxis": {
            "gridcolor": "white",
            "linecolor": "white",
            "ticks": ""
           }
          },
          "scene": {
           "xaxis": {
            "backgroundcolor": "#E5ECF6",
            "gridcolor": "white",
            "gridwidth": 2,
            "linecolor": "white",
            "showbackground": true,
            "ticks": "",
            "zerolinecolor": "white"
           },
           "yaxis": {
            "backgroundcolor": "#E5ECF6",
            "gridcolor": "white",
            "gridwidth": 2,
            "linecolor": "white",
            "showbackground": true,
            "ticks": "",
            "zerolinecolor": "white"
           },
           "zaxis": {
            "backgroundcolor": "#E5ECF6",
            "gridcolor": "white",
            "gridwidth": 2,
            "linecolor": "white",
            "showbackground": true,
            "ticks": "",
            "zerolinecolor": "white"
           }
          },
          "shapedefaults": {
           "line": {
            "color": "#2a3f5f"
           }
          },
          "ternary": {
           "aaxis": {
            "gridcolor": "white",
            "linecolor": "white",
            "ticks": ""
           },
           "baxis": {
            "gridcolor": "white",
            "linecolor": "white",
            "ticks": ""
           },
           "bgcolor": "#E5ECF6",
           "caxis": {
            "gridcolor": "white",
            "linecolor": "white",
            "ticks": ""
           }
          },
          "title": {
           "x": 0.05
          },
          "xaxis": {
           "automargin": true,
           "gridcolor": "white",
           "linecolor": "white",
           "ticks": "",
           "title": {
            "standoff": 15
           },
           "zerolinecolor": "white",
           "zerolinewidth": 2
          },
          "yaxis": {
           "automargin": true,
           "gridcolor": "white",
           "linecolor": "white",
           "ticks": "",
           "title": {
            "standoff": 15
           },
           "zerolinecolor": "white",
           "zerolinewidth": 2
          }
         }
        },
        "title": {
         "text": "Top 100 players with highest overall rating in English Premier League"
        },
        "xaxis": {
         "anchor": "y",
         "domain": [
          0,
          1
         ],
         "gridcolor": "#e5e6dc",
         "gridwidth": 0.5,
         "title": {
          "text": "value_eur"
         }
        },
        "yaxis": {
         "anchor": "x",
         "domain": [
          0,
          1
         ],
         "gridcolor": "#e5e6dc",
         "gridwidth": 0.5,
         "tickcolor": "#e5e6dc",
         "tickwidth": 5,
         "title": {
          "text": "wage_eur"
         }
        }
       }
      }
     },
     "metadata": {}
    }
   ],
   "source": [
    "#importing data\n",
    "data = pd.read_csv('archive/players_21.csv')\n",
    "\n",
    "#data cleaning\n",
    "nonusefulcolumns = ['sofifa_id','player_url','league_rank']\n",
    "nonusefulattributes = data.loc[:,'player_traits':]\n",
    "\n",
    "data.drop(nonusefulcolumns, axis=1, inplace=True)\n",
    "data.drop(nonusefulattributes, axis=1, inplace=True)\n",
    "data['isOver25'] = data['age']>25\n",
    "data['isOver25text'] = data['age'].map(lambda x:\"Over 25\" if x > 25 else \"Under 25\")\n",
    "\n",
    "plot_df = data[data['league_name'] == league].sort_values('overall',ascending = False).head(100)\n",
    "plot_df = plot_df.loc[plot_df['club_name'].isin(club), :]\n",
    "fig1 = px.scatter(data_frame  = plot_df, x=\"value_eur\", y=\"wage_eur\",color=\"isOver25text\",\n",
    "                  color_discrete_sequence=['#853df6','#efff45'],\n",
    "                  hover_name ='short_name',hover_data=['age','club_name','overall','potential','player_positions'],\n",
    "                  labels={'True': \"Over 25\", 'False': \"Under 25\"},\n",
    "                  title = ('Top 100 players with highest overall rating in '+league))    \n",
    "fig1.update_layout(\n",
    "    legend=dict(title = dict(text =\"\"),\n",
    "                orientation=\"h\",\n",
    "                yanchor=\"bottom\",\n",
    "                y=1,\n",
    "                xanchor=\"right\",\n",
    "                x=1),\n",
    "    \n",
    "    plot_bgcolor = 'rgba(0, 0, 0, 0)',\n",
    "    paper_bgcolor = 'rgba(0, 0, 0, 0)',\n",
    "    xaxis = dict(gridcolor= \"#e5e6dc\",gridwidth= 0.5),\n",
    "    yaxis = dict(tickcolor= \"#e5e6dc\",tickwidth= 5,\n",
    "                 gridcolor= \"#e5e6dc\",gridwidth= 0.5)\n",
    "    )  \n",
    "fig1.update_traces(marker=dict(size=12,\n",
    "                              line=dict(width=2,\n",
    "                                        color='DarkSlateGrey')))\n"
   ]
  },
  {
   "cell_type": "code",
   "execution_count": 18,
   "metadata": {},
   "outputs": [],
   "source": [
    "def value_by_league(league):\n",
    "    df_plot = df[df['league_name'] == league].sort_values('overall',ascending = False).head(100)\n",
    "    #df_plot.columns = ['nationality', 'count']\n",
    "    fig = px.scatter(data_frame  = df_plot, x=\"value_eur\", y=\"wage_eur\",color=\"isOver25\", size = 'potential',\n",
    "                     color_discrete_sequence=['red','royalblue'], hover_name ='short_name'\n",
    "                    ,  title = ('Wage and Value of top 100 players in '+league))\n",
    "    fig.show()"
   ]
  },
  {
   "cell_type": "code",
   "execution_count": 19,
   "metadata": {},
   "outputs": [],
   "source": [
    "def age_by_club(league):\n",
    "    plot_df = df[df['league_name'] == league].groupby(['club_name','isOver25']).count()['short_name'].reset_index()\n",
    "    plot_df = pd.pivot_table(plot_df, values='short_name', index=['club_name'],\n",
    "                    columns=['isOver25'], aggfunc=np.sum).reset_index()\n",
    "    x = plot_df['club_name']\n",
    "    y = plot_df.iloc[:,-2:].div(plot_df.iloc[:,-2:].sum(axis=1), axis=0)\n",
    "    fig = go.Figure()\n",
    "    fig.add_trace(go.Bar(\n",
    "        y=x,\n",
    "        x=y[False],\n",
    "        name='Under 25y',\n",
    "        orientation='h',    \n",
    "        marker=dict(color='#efff45',\n",
    "                    line=dict(color='DarkSlateGrey', width=1)\n",
    "        )\n",
    "    ))\n",
    "    fig.add_trace(go.Bar(\n",
    "                    y=x,\n",
    "                    x=y[True],\n",
    "                    name='Over 25y',\n",
    "                    orientation='h',\n",
    "                    marker=dict(color='#853df6',\n",
    "                                line=dict(color='DarkSlateGrey', width=1))\n",
    "                    ))\n",
    "    #fig.update_traces(labels=dict(color=\"Age\"))\n",
    "    fig.update_layout(barmode='stack',\n",
    "                      plot_bgcolor = 'rgba(0, 0, 0, 0)',\n",
    "                      paper_bgcolor = 'rgba(0, 0, 0, 0)',    \n",
    "                      legend=dict(title = dict(text =\"Age of players\"),\n",
    "                                    orientation=\"h\",\n",
    "                                    yanchor=\"bottom\",\n",
    "                                    y=1,\n",
    "                                    xanchor=\"right\",\n",
    "                                    x=1),)\n",
    "    fig.update_yaxes(tickfont = dict(size=10))\n",
    "    fig.show()"
   ]
  },
  {
   "cell_type": "code",
   "execution_count": 20,
   "metadata": {
    "scrolled": false
   },
   "outputs": [
    {
     "output_type": "display_data",
     "data": {
      "application/vnd.plotly.v1+json": {
       "config": {
        "plotlyServerURL": "https://plot.ly"
       },
       "data": [
        {
         "marker": {
          "color": "#efff45",
          "line": {
           "color": "DarkSlateGrey",
           "width": 1
          }
         },
         "name": "Under 25y",
         "orientation": "h",
         "type": "bar",
         "x": [
          0.6060606060606061,
          0.6060606060606061,
          0.6363636363636364,
          0.43333333333333335,
          0.5757575757575758,
          0.3333333333333333,
          0.5151515151515151,
          0.5151515151515151,
          0.5757575757575758,
          0.5151515151515151,
          0.5151515151515151,
          0.6363636363636364,
          0.5757575757575758,
          0.3939393939393939,
          0.5161290322580645,
          0.6060606060606061,
          0.5454545454545454,
          0.46875,
          0.5151515151515151,
          0.6363636363636364
         ],
         "y": [
          "Arsenal",
          "Aston Villa",
          "Brighton & Hove Albion",
          "Burnley",
          "Chelsea",
          "Crystal Palace",
          "Everton",
          "Fulham",
          "Leeds United",
          "Leicester City",
          "Liverpool",
          "Manchester City",
          "Manchester United",
          "Newcastle United",
          "Sheffield United",
          "Southampton",
          "Tottenham Hotspur",
          "West Bromwich Albion",
          "West Ham United",
          "Wolverhampton Wanderers"
         ]
        },
        {
         "marker": {
          "color": "#853df6",
          "line": {
           "color": "DarkSlateGrey",
           "width": 1
          }
         },
         "name": "Over 25y",
         "orientation": "h",
         "type": "bar",
         "x": [
          0.3939393939393939,
          0.3939393939393939,
          0.36363636363636365,
          0.5666666666666667,
          0.42424242424242425,
          0.6666666666666666,
          0.48484848484848486,
          0.48484848484848486,
          0.42424242424242425,
          0.48484848484848486,
          0.48484848484848486,
          0.36363636363636365,
          0.42424242424242425,
          0.6060606060606061,
          0.4838709677419355,
          0.3939393939393939,
          0.45454545454545453,
          0.53125,
          0.48484848484848486,
          0.36363636363636365
         ],
         "y": [
          "Arsenal",
          "Aston Villa",
          "Brighton & Hove Albion",
          "Burnley",
          "Chelsea",
          "Crystal Palace",
          "Everton",
          "Fulham",
          "Leeds United",
          "Leicester City",
          "Liverpool",
          "Manchester City",
          "Manchester United",
          "Newcastle United",
          "Sheffield United",
          "Southampton",
          "Tottenham Hotspur",
          "West Bromwich Albion",
          "West Ham United",
          "Wolverhampton Wanderers"
         ]
        }
       ],
       "layout": {
        "barmode": "stack",
        "legend": {
         "orientation": "h",
         "title": {
          "text": "Age of players"
         },
         "x": 1,
         "xanchor": "right",
         "y": 1,
         "yanchor": "bottom"
        },
        "paper_bgcolor": "rgba(0, 0, 0, 0)",
        "plot_bgcolor": "rgba(0, 0, 0, 0)",
        "template": {
         "data": {
          "bar": [
           {
            "error_x": {
             "color": "#2a3f5f"
            },
            "error_y": {
             "color": "#2a3f5f"
            },
            "marker": {
             "line": {
              "color": "#E5ECF6",
              "width": 0.5
             }
            },
            "type": "bar"
           }
          ],
          "barpolar": [
           {
            "marker": {
             "line": {
              "color": "#E5ECF6",
              "width": 0.5
             }
            },
            "type": "barpolar"
           }
          ],
          "carpet": [
           {
            "aaxis": {
             "endlinecolor": "#2a3f5f",
             "gridcolor": "white",
             "linecolor": "white",
             "minorgridcolor": "white",
             "startlinecolor": "#2a3f5f"
            },
            "baxis": {
             "endlinecolor": "#2a3f5f",
             "gridcolor": "white",
             "linecolor": "white",
             "minorgridcolor": "white",
             "startlinecolor": "#2a3f5f"
            },
            "type": "carpet"
           }
          ],
          "choropleth": [
           {
            "colorbar": {
             "outlinewidth": 0,
             "ticks": ""
            },
            "type": "choropleth"
           }
          ],
          "contour": [
           {
            "colorbar": {
             "outlinewidth": 0,
             "ticks": ""
            },
            "colorscale": [
             [
              0,
              "#0d0887"
             ],
             [
              0.1111111111111111,
              "#46039f"
             ],
             [
              0.2222222222222222,
              "#7201a8"
             ],
             [
              0.3333333333333333,
              "#9c179e"
             ],
             [
              0.4444444444444444,
              "#bd3786"
             ],
             [
              0.5555555555555556,
              "#d8576b"
             ],
             [
              0.6666666666666666,
              "#ed7953"
             ],
             [
              0.7777777777777778,
              "#fb9f3a"
             ],
             [
              0.8888888888888888,
              "#fdca26"
             ],
             [
              1,
              "#f0f921"
             ]
            ],
            "type": "contour"
           }
          ],
          "contourcarpet": [
           {
            "colorbar": {
             "outlinewidth": 0,
             "ticks": ""
            },
            "type": "contourcarpet"
           }
          ],
          "heatmap": [
           {
            "colorbar": {
             "outlinewidth": 0,
             "ticks": ""
            },
            "colorscale": [
             [
              0,
              "#0d0887"
             ],
             [
              0.1111111111111111,
              "#46039f"
             ],
             [
              0.2222222222222222,
              "#7201a8"
             ],
             [
              0.3333333333333333,
              "#9c179e"
             ],
             [
              0.4444444444444444,
              "#bd3786"
             ],
             [
              0.5555555555555556,
              "#d8576b"
             ],
             [
              0.6666666666666666,
              "#ed7953"
             ],
             [
              0.7777777777777778,
              "#fb9f3a"
             ],
             [
              0.8888888888888888,
              "#fdca26"
             ],
             [
              1,
              "#f0f921"
             ]
            ],
            "type": "heatmap"
           }
          ],
          "heatmapgl": [
           {
            "colorbar": {
             "outlinewidth": 0,
             "ticks": ""
            },
            "colorscale": [
             [
              0,
              "#0d0887"
             ],
             [
              0.1111111111111111,
              "#46039f"
             ],
             [
              0.2222222222222222,
              "#7201a8"
             ],
             [
              0.3333333333333333,
              "#9c179e"
             ],
             [
              0.4444444444444444,
              "#bd3786"
             ],
             [
              0.5555555555555556,
              "#d8576b"
             ],
             [
              0.6666666666666666,
              "#ed7953"
             ],
             [
              0.7777777777777778,
              "#fb9f3a"
             ],
             [
              0.8888888888888888,
              "#fdca26"
             ],
             [
              1,
              "#f0f921"
             ]
            ],
            "type": "heatmapgl"
           }
          ],
          "histogram": [
           {
            "marker": {
             "colorbar": {
              "outlinewidth": 0,
              "ticks": ""
             }
            },
            "type": "histogram"
           }
          ],
          "histogram2d": [
           {
            "colorbar": {
             "outlinewidth": 0,
             "ticks": ""
            },
            "colorscale": [
             [
              0,
              "#0d0887"
             ],
             [
              0.1111111111111111,
              "#46039f"
             ],
             [
              0.2222222222222222,
              "#7201a8"
             ],
             [
              0.3333333333333333,
              "#9c179e"
             ],
             [
              0.4444444444444444,
              "#bd3786"
             ],
             [
              0.5555555555555556,
              "#d8576b"
             ],
             [
              0.6666666666666666,
              "#ed7953"
             ],
             [
              0.7777777777777778,
              "#fb9f3a"
             ],
             [
              0.8888888888888888,
              "#fdca26"
             ],
             [
              1,
              "#f0f921"
             ]
            ],
            "type": "histogram2d"
           }
          ],
          "histogram2dcontour": [
           {
            "colorbar": {
             "outlinewidth": 0,
             "ticks": ""
            },
            "colorscale": [
             [
              0,
              "#0d0887"
             ],
             [
              0.1111111111111111,
              "#46039f"
             ],
             [
              0.2222222222222222,
              "#7201a8"
             ],
             [
              0.3333333333333333,
              "#9c179e"
             ],
             [
              0.4444444444444444,
              "#bd3786"
             ],
             [
              0.5555555555555556,
              "#d8576b"
             ],
             [
              0.6666666666666666,
              "#ed7953"
             ],
             [
              0.7777777777777778,
              "#fb9f3a"
             ],
             [
              0.8888888888888888,
              "#fdca26"
             ],
             [
              1,
              "#f0f921"
             ]
            ],
            "type": "histogram2dcontour"
           }
          ],
          "mesh3d": [
           {
            "colorbar": {
             "outlinewidth": 0,
             "ticks": ""
            },
            "type": "mesh3d"
           }
          ],
          "parcoords": [
           {
            "line": {
             "colorbar": {
              "outlinewidth": 0,
              "ticks": ""
             }
            },
            "type": "parcoords"
           }
          ],
          "pie": [
           {
            "automargin": true,
            "type": "pie"
           }
          ],
          "scatter": [
           {
            "marker": {
             "colorbar": {
              "outlinewidth": 0,
              "ticks": ""
             }
            },
            "type": "scatter"
           }
          ],
          "scatter3d": [
           {
            "line": {
             "colorbar": {
              "outlinewidth": 0,
              "ticks": ""
             }
            },
            "marker": {
             "colorbar": {
              "outlinewidth": 0,
              "ticks": ""
             }
            },
            "type": "scatter3d"
           }
          ],
          "scattercarpet": [
           {
            "marker": {
             "colorbar": {
              "outlinewidth": 0,
              "ticks": ""
             }
            },
            "type": "scattercarpet"
           }
          ],
          "scattergeo": [
           {
            "marker": {
             "colorbar": {
              "outlinewidth": 0,
              "ticks": ""
             }
            },
            "type": "scattergeo"
           }
          ],
          "scattergl": [
           {
            "marker": {
             "colorbar": {
              "outlinewidth": 0,
              "ticks": ""
             }
            },
            "type": "scattergl"
           }
          ],
          "scattermapbox": [
           {
            "marker": {
             "colorbar": {
              "outlinewidth": 0,
              "ticks": ""
             }
            },
            "type": "scattermapbox"
           }
          ],
          "scatterpolar": [
           {
            "marker": {
             "colorbar": {
              "outlinewidth": 0,
              "ticks": ""
             }
            },
            "type": "scatterpolar"
           }
          ],
          "scatterpolargl": [
           {
            "marker": {
             "colorbar": {
              "outlinewidth": 0,
              "ticks": ""
             }
            },
            "type": "scatterpolargl"
           }
          ],
          "scatterternary": [
           {
            "marker": {
             "colorbar": {
              "outlinewidth": 0,
              "ticks": ""
             }
            },
            "type": "scatterternary"
           }
          ],
          "surface": [
           {
            "colorbar": {
             "outlinewidth": 0,
             "ticks": ""
            },
            "colorscale": [
             [
              0,
              "#0d0887"
             ],
             [
              0.1111111111111111,
              "#46039f"
             ],
             [
              0.2222222222222222,
              "#7201a8"
             ],
             [
              0.3333333333333333,
              "#9c179e"
             ],
             [
              0.4444444444444444,
              "#bd3786"
             ],
             [
              0.5555555555555556,
              "#d8576b"
             ],
             [
              0.6666666666666666,
              "#ed7953"
             ],
             [
              0.7777777777777778,
              "#fb9f3a"
             ],
             [
              0.8888888888888888,
              "#fdca26"
             ],
             [
              1,
              "#f0f921"
             ]
            ],
            "type": "surface"
           }
          ],
          "table": [
           {
            "cells": {
             "fill": {
              "color": "#EBF0F8"
             },
             "line": {
              "color": "white"
             }
            },
            "header": {
             "fill": {
              "color": "#C8D4E3"
             },
             "line": {
              "color": "white"
             }
            },
            "type": "table"
           }
          ]
         },
         "layout": {
          "annotationdefaults": {
           "arrowcolor": "#2a3f5f",
           "arrowhead": 0,
           "arrowwidth": 1
          },
          "autotypenumbers": "strict",
          "coloraxis": {
           "colorbar": {
            "outlinewidth": 0,
            "ticks": ""
           }
          },
          "colorscale": {
           "diverging": [
            [
             0,
             "#8e0152"
            ],
            [
             0.1,
             "#c51b7d"
            ],
            [
             0.2,
             "#de77ae"
            ],
            [
             0.3,
             "#f1b6da"
            ],
            [
             0.4,
             "#fde0ef"
            ],
            [
             0.5,
             "#f7f7f7"
            ],
            [
             0.6,
             "#e6f5d0"
            ],
            [
             0.7,
             "#b8e186"
            ],
            [
             0.8,
             "#7fbc41"
            ],
            [
             0.9,
             "#4d9221"
            ],
            [
             1,
             "#276419"
            ]
           ],
           "sequential": [
            [
             0,
             "#0d0887"
            ],
            [
             0.1111111111111111,
             "#46039f"
            ],
            [
             0.2222222222222222,
             "#7201a8"
            ],
            [
             0.3333333333333333,
             "#9c179e"
            ],
            [
             0.4444444444444444,
             "#bd3786"
            ],
            [
             0.5555555555555556,
             "#d8576b"
            ],
            [
             0.6666666666666666,
             "#ed7953"
            ],
            [
             0.7777777777777778,
             "#fb9f3a"
            ],
            [
             0.8888888888888888,
             "#fdca26"
            ],
            [
             1,
             "#f0f921"
            ]
           ],
           "sequentialminus": [
            [
             0,
             "#0d0887"
            ],
            [
             0.1111111111111111,
             "#46039f"
            ],
            [
             0.2222222222222222,
             "#7201a8"
            ],
            [
             0.3333333333333333,
             "#9c179e"
            ],
            [
             0.4444444444444444,
             "#bd3786"
            ],
            [
             0.5555555555555556,
             "#d8576b"
            ],
            [
             0.6666666666666666,
             "#ed7953"
            ],
            [
             0.7777777777777778,
             "#fb9f3a"
            ],
            [
             0.8888888888888888,
             "#fdca26"
            ],
            [
             1,
             "#f0f921"
            ]
           ]
          },
          "colorway": [
           "#636efa",
           "#EF553B",
           "#00cc96",
           "#ab63fa",
           "#FFA15A",
           "#19d3f3",
           "#FF6692",
           "#B6E880",
           "#FF97FF",
           "#FECB52"
          ],
          "font": {
           "color": "#2a3f5f"
          },
          "geo": {
           "bgcolor": "white",
           "lakecolor": "white",
           "landcolor": "#E5ECF6",
           "showlakes": true,
           "showland": true,
           "subunitcolor": "white"
          },
          "hoverlabel": {
           "align": "left"
          },
          "hovermode": "closest",
          "mapbox": {
           "style": "light"
          },
          "paper_bgcolor": "white",
          "plot_bgcolor": "#E5ECF6",
          "polar": {
           "angularaxis": {
            "gridcolor": "white",
            "linecolor": "white",
            "ticks": ""
           },
           "bgcolor": "#E5ECF6",
           "radialaxis": {
            "gridcolor": "white",
            "linecolor": "white",
            "ticks": ""
           }
          },
          "scene": {
           "xaxis": {
            "backgroundcolor": "#E5ECF6",
            "gridcolor": "white",
            "gridwidth": 2,
            "linecolor": "white",
            "showbackground": true,
            "ticks": "",
            "zerolinecolor": "white"
           },
           "yaxis": {
            "backgroundcolor": "#E5ECF6",
            "gridcolor": "white",
            "gridwidth": 2,
            "linecolor": "white",
            "showbackground": true,
            "ticks": "",
            "zerolinecolor": "white"
           },
           "zaxis": {
            "backgroundcolor": "#E5ECF6",
            "gridcolor": "white",
            "gridwidth": 2,
            "linecolor": "white",
            "showbackground": true,
            "ticks": "",
            "zerolinecolor": "white"
           }
          },
          "shapedefaults": {
           "line": {
            "color": "#2a3f5f"
           }
          },
          "ternary": {
           "aaxis": {
            "gridcolor": "white",
            "linecolor": "white",
            "ticks": ""
           },
           "baxis": {
            "gridcolor": "white",
            "linecolor": "white",
            "ticks": ""
           },
           "bgcolor": "#E5ECF6",
           "caxis": {
            "gridcolor": "white",
            "linecolor": "white",
            "ticks": ""
           }
          },
          "title": {
           "x": 0.05
          },
          "xaxis": {
           "automargin": true,
           "gridcolor": "white",
           "linecolor": "white",
           "ticks": "",
           "title": {
            "standoff": 15
           },
           "zerolinecolor": "white",
           "zerolinewidth": 2
          },
          "yaxis": {
           "automargin": true,
           "gridcolor": "white",
           "linecolor": "white",
           "ticks": "",
           "title": {
            "standoff": 15
           },
           "zerolinecolor": "white",
           "zerolinewidth": 2
          }
         }
        },
        "yaxis": {
         "tickfont": {
          "size": 10
         }
        }
       }
      }
     },
     "metadata": {}
    }
   ],
   "source": [
    "age_by_club('English Premier League')"
   ]
  },
  {
   "cell_type": "code",
   "execution_count": 80,
   "metadata": {},
   "outputs": [],
   "source": [
    "#importing data\n",
    "data = pd.read_csv('archive/players_21.csv')\n",
    "\n",
    "df = data.copy()\n",
    "df = df[df['player_positions'] != 'GK'] # filtering out all the goalkeepers\n",
    "df1 = df[df['age'] > 25] # dataset for players over 25\n",
    "df2 = df[df['age'] <= 25] # dataset for players under 25\n",
    "\n",
    "# variables for the analysis\n",
    "skill_player = ['pace', 'shooting', 'passing', 'dribbling', 'defending', 'physic']\n",
    "info_player = ['short_name','nationality', 'club_name', 'age', 'height_cm', 'weight_kg']\n",
    "skills1=['skill_curve','skill_dribbling','skill_fk_accuracy','skill_ball_control','skill_long_passing']\n",
    "player1 = 'Lionel Andrés Messi Cuccittini'\n",
    "player2 = 'Kylian Mbappé Lottin'"
   ]
  },
  {
   "cell_type": "code",
   "execution_count": 95,
   "metadata": {},
   "outputs": [],
   "source": [
    "# table 2\n",
    "table_updated2 = df[df['long_name'] == player2].to_dict('records')\n"
   ]
  },
  {
   "cell_type": "code",
   "execution_count": 96,
   "metadata": {},
   "outputs": [
    {
     "output_type": "execute_result",
     "data": {
      "text/plain": [
       "[{'sofifa_id': 231747,\n",
       "  'player_url': 'https://sofifa.com/player/231747/kylian-mbappe/210002',\n",
       "  'short_name': 'K. Mbappé',\n",
       "  'long_name': 'Kylian Mbappé Lottin',\n",
       "  'age': 21,\n",
       "  'dob': '1998-12-20',\n",
       "  'height_cm': 178,\n",
       "  'weight_kg': 73,\n",
       "  'nationality': 'France',\n",
       "  'club_name': 'Paris Saint-Germain',\n",
       "  'league_name': 'French Ligue 1',\n",
       "  'league_rank': 1.0,\n",
       "  'overall': 90,\n",
       "  'potential': 95,\n",
       "  'value_eur': 105500000,\n",
       "  'wage_eur': 160000,\n",
       "  'player_positions': 'ST, LW, RW',\n",
       "  'preferred_foot': 'Right',\n",
       "  'international_reputation': 3,\n",
       "  'weak_foot': 4,\n",
       "  'skill_moves': 5,\n",
       "  'work_rate': 'High/Low',\n",
       "  'body_type': 'PLAYER_BODY_TYPE_343',\n",
       "  'real_face': 'Yes',\n",
       "  'release_clause_eur': 203100000.0,\n",
       "  'player_tags': '#Speedster, #Dribbler, #Acrobat',\n",
       "  'team_position': 'LS',\n",
       "  'team_jersey_number': 7.0,\n",
       "  'loaned_from': nan,\n",
       "  'joined': '2018-07-01',\n",
       "  'contract_valid_until': 2022.0,\n",
       "  'nation_position': 'RM',\n",
       "  'nation_jersey_number': 10.0,\n",
       "  'pace': 96.0,\n",
       "  'shooting': 86.0,\n",
       "  'passing': 78.0,\n",
       "  'dribbling': 91.0,\n",
       "  'defending': 39.0,\n",
       "  'physic': 76.0,\n",
       "  'gk_diving': nan,\n",
       "  'gk_handling': nan,\n",
       "  'gk_kicking': nan,\n",
       "  'gk_reflexes': nan,\n",
       "  'gk_speed': nan,\n",
       "  'gk_positioning': nan,\n",
       "  'player_traits': 'Finesse Shot, Flair, Speed Dribbler (AI), Outside Foot Shot, Technical Dribbler (AI)',\n",
       "  'attacking_crossing': 78,\n",
       "  'attacking_finishing': 91,\n",
       "  'attacking_heading_accuracy': 73,\n",
       "  'attacking_short_passing': 83,\n",
       "  'attacking_volleys': 83,\n",
       "  'skill_dribbling': 92,\n",
       "  'skill_curve': 79,\n",
       "  'skill_fk_accuracy': 63,\n",
       "  'skill_long_passing': 70,\n",
       "  'skill_ball_control': 90,\n",
       "  'movement_acceleration': 96,\n",
       "  'movement_sprint_speed': 96,\n",
       "  'movement_agility': 92,\n",
       "  'movement_reactions': 92,\n",
       "  'movement_balance': 82,\n",
       "  'power_shot_power': 86,\n",
       "  'power_jumping': 77,\n",
       "  'power_stamina': 86,\n",
       "  'power_strength': 76,\n",
       "  'power_long_shots': 79,\n",
       "  'mentality_aggression': 62,\n",
       "  'mentality_interceptions': 38,\n",
       "  'mentality_positioning': 91,\n",
       "  'mentality_vision': 80,\n",
       "  'mentality_penalties': 70,\n",
       "  'mentality_composure': 84,\n",
       "  'defending_marking': nan,\n",
       "  'defending_standing_tackle': 34,\n",
       "  'defending_sliding_tackle': 32,\n",
       "  'goalkeeping_diving': 13,\n",
       "  'goalkeeping_handling': 5,\n",
       "  'goalkeeping_kicking': 7,\n",
       "  'goalkeeping_positioning': 11,\n",
       "  'goalkeeping_reflexes': 6,\n",
       "  'ls': '88+3',\n",
       "  'st': '88+3',\n",
       "  'rs': '88+3',\n",
       "  'lw': '89+0',\n",
       "  'lf': '89+0',\n",
       "  'cf': '89+0',\n",
       "  'rf': '89+0',\n",
       "  'rw': '89+0',\n",
       "  'lam': '87+3',\n",
       "  'cam': '87+3',\n",
       "  'ram': '87+3',\n",
       "  'lm': '87+3',\n",
       "  'lcm': '79+3',\n",
       "  'cm': '79+3',\n",
       "  'rcm': '79+3',\n",
       "  'rm': '87+3',\n",
       "  'lwb': '67+3',\n",
       "  'ldm': '63+3',\n",
       "  'cdm': '63+3',\n",
       "  'rdm': '63+3',\n",
       "  'rwb': '67+3',\n",
       "  'lb': '63+3',\n",
       "  'lcb': '55+3',\n",
       "  'cb': '55+3',\n",
       "  'rcb': '55+3',\n",
       "  'rb': '63+3'}]"
      ]
     },
     "metadata": {},
     "execution_count": 96
    }
   ],
   "source": [
    "table_updated2"
   ]
  },
  {
   "cell_type": "code",
   "execution_count": 93,
   "metadata": {},
   "outputs": [
    {
     "output_type": "display_data",
     "data": {
      "application/vnd.plotly.v1+json": {
       "config": {
        "plotlyServerURL": "https://plot.ly"
       },
       "data": [
        {
         "alignmentgroup": "True",
         "hovertemplate": "counts=%{x}<br>skills=%{y}<extra></extra>",
         "legendgroup": "",
         "marker": {
          "color": "rgba(133,61,246,1)"
         },
         "name": "",
         "offsetgroup": "",
         "orientation": "h",
         "showlegend": false,
         "textposition": "auto",
         "type": "bar",
         "x": [
          93,
          96,
          94,
          96,
          91
         ],
         "xaxis": "x",
         "y": [
          "skill_curve",
          "skill_dribbling",
          "skill_fk_accuracy",
          "skill_ball_control",
          "skill_long_passing"
         ],
         "yaxis": "y"
        }
       ],
       "layout": {
        "barmode": "relative",
        "height": 250,
        "legend": {
         "tracegroupgap": 0
        },
        "margin": {
         "b": 20,
         "l": 20,
         "r": 20,
         "t": 20
        },
        "paper_bgcolor": "rgba(0, 0, 0, 0)",
        "plot_bgcolor": "rgba(0, 0, 0, 0)",
        "template": {
         "data": {
          "bar": [
           {
            "error_x": {
             "color": "#2a3f5f"
            },
            "error_y": {
             "color": "#2a3f5f"
            },
            "marker": {
             "line": {
              "color": "#E5ECF6",
              "width": 0.5
             }
            },
            "type": "bar"
           }
          ],
          "barpolar": [
           {
            "marker": {
             "line": {
              "color": "#E5ECF6",
              "width": 0.5
             }
            },
            "type": "barpolar"
           }
          ],
          "carpet": [
           {
            "aaxis": {
             "endlinecolor": "#2a3f5f",
             "gridcolor": "white",
             "linecolor": "white",
             "minorgridcolor": "white",
             "startlinecolor": "#2a3f5f"
            },
            "baxis": {
             "endlinecolor": "#2a3f5f",
             "gridcolor": "white",
             "linecolor": "white",
             "minorgridcolor": "white",
             "startlinecolor": "#2a3f5f"
            },
            "type": "carpet"
           }
          ],
          "choropleth": [
           {
            "colorbar": {
             "outlinewidth": 0,
             "ticks": ""
            },
            "type": "choropleth"
           }
          ],
          "contour": [
           {
            "colorbar": {
             "outlinewidth": 0,
             "ticks": ""
            },
            "colorscale": [
             [
              0,
              "#0d0887"
             ],
             [
              0.1111111111111111,
              "#46039f"
             ],
             [
              0.2222222222222222,
              "#7201a8"
             ],
             [
              0.3333333333333333,
              "#9c179e"
             ],
             [
              0.4444444444444444,
              "#bd3786"
             ],
             [
              0.5555555555555556,
              "#d8576b"
             ],
             [
              0.6666666666666666,
              "#ed7953"
             ],
             [
              0.7777777777777778,
              "#fb9f3a"
             ],
             [
              0.8888888888888888,
              "#fdca26"
             ],
             [
              1,
              "#f0f921"
             ]
            ],
            "type": "contour"
           }
          ],
          "contourcarpet": [
           {
            "colorbar": {
             "outlinewidth": 0,
             "ticks": ""
            },
            "type": "contourcarpet"
           }
          ],
          "heatmap": [
           {
            "colorbar": {
             "outlinewidth": 0,
             "ticks": ""
            },
            "colorscale": [
             [
              0,
              "#0d0887"
             ],
             [
              0.1111111111111111,
              "#46039f"
             ],
             [
              0.2222222222222222,
              "#7201a8"
             ],
             [
              0.3333333333333333,
              "#9c179e"
             ],
             [
              0.4444444444444444,
              "#bd3786"
             ],
             [
              0.5555555555555556,
              "#d8576b"
             ],
             [
              0.6666666666666666,
              "#ed7953"
             ],
             [
              0.7777777777777778,
              "#fb9f3a"
             ],
             [
              0.8888888888888888,
              "#fdca26"
             ],
             [
              1,
              "#f0f921"
             ]
            ],
            "type": "heatmap"
           }
          ],
          "heatmapgl": [
           {
            "colorbar": {
             "outlinewidth": 0,
             "ticks": ""
            },
            "colorscale": [
             [
              0,
              "#0d0887"
             ],
             [
              0.1111111111111111,
              "#46039f"
             ],
             [
              0.2222222222222222,
              "#7201a8"
             ],
             [
              0.3333333333333333,
              "#9c179e"
             ],
             [
              0.4444444444444444,
              "#bd3786"
             ],
             [
              0.5555555555555556,
              "#d8576b"
             ],
             [
              0.6666666666666666,
              "#ed7953"
             ],
             [
              0.7777777777777778,
              "#fb9f3a"
             ],
             [
              0.8888888888888888,
              "#fdca26"
             ],
             [
              1,
              "#f0f921"
             ]
            ],
            "type": "heatmapgl"
           }
          ],
          "histogram": [
           {
            "marker": {
             "colorbar": {
              "outlinewidth": 0,
              "ticks": ""
             }
            },
            "type": "histogram"
           }
          ],
          "histogram2d": [
           {
            "colorbar": {
             "outlinewidth": 0,
             "ticks": ""
            },
            "colorscale": [
             [
              0,
              "#0d0887"
             ],
             [
              0.1111111111111111,
              "#46039f"
             ],
             [
              0.2222222222222222,
              "#7201a8"
             ],
             [
              0.3333333333333333,
              "#9c179e"
             ],
             [
              0.4444444444444444,
              "#bd3786"
             ],
             [
              0.5555555555555556,
              "#d8576b"
             ],
             [
              0.6666666666666666,
              "#ed7953"
             ],
             [
              0.7777777777777778,
              "#fb9f3a"
             ],
             [
              0.8888888888888888,
              "#fdca26"
             ],
             [
              1,
              "#f0f921"
             ]
            ],
            "type": "histogram2d"
           }
          ],
          "histogram2dcontour": [
           {
            "colorbar": {
             "outlinewidth": 0,
             "ticks": ""
            },
            "colorscale": [
             [
              0,
              "#0d0887"
             ],
             [
              0.1111111111111111,
              "#46039f"
             ],
             [
              0.2222222222222222,
              "#7201a8"
             ],
             [
              0.3333333333333333,
              "#9c179e"
             ],
             [
              0.4444444444444444,
              "#bd3786"
             ],
             [
              0.5555555555555556,
              "#d8576b"
             ],
             [
              0.6666666666666666,
              "#ed7953"
             ],
             [
              0.7777777777777778,
              "#fb9f3a"
             ],
             [
              0.8888888888888888,
              "#fdca26"
             ],
             [
              1,
              "#f0f921"
             ]
            ],
            "type": "histogram2dcontour"
           }
          ],
          "mesh3d": [
           {
            "colorbar": {
             "outlinewidth": 0,
             "ticks": ""
            },
            "type": "mesh3d"
           }
          ],
          "parcoords": [
           {
            "line": {
             "colorbar": {
              "outlinewidth": 0,
              "ticks": ""
             }
            },
            "type": "parcoords"
           }
          ],
          "pie": [
           {
            "automargin": true,
            "type": "pie"
           }
          ],
          "scatter": [
           {
            "marker": {
             "colorbar": {
              "outlinewidth": 0,
              "ticks": ""
             }
            },
            "type": "scatter"
           }
          ],
          "scatter3d": [
           {
            "line": {
             "colorbar": {
              "outlinewidth": 0,
              "ticks": ""
             }
            },
            "marker": {
             "colorbar": {
              "outlinewidth": 0,
              "ticks": ""
             }
            },
            "type": "scatter3d"
           }
          ],
          "scattercarpet": [
           {
            "marker": {
             "colorbar": {
              "outlinewidth": 0,
              "ticks": ""
             }
            },
            "type": "scattercarpet"
           }
          ],
          "scattergeo": [
           {
            "marker": {
             "colorbar": {
              "outlinewidth": 0,
              "ticks": ""
             }
            },
            "type": "scattergeo"
           }
          ],
          "scattergl": [
           {
            "marker": {
             "colorbar": {
              "outlinewidth": 0,
              "ticks": ""
             }
            },
            "type": "scattergl"
           }
          ],
          "scattermapbox": [
           {
            "marker": {
             "colorbar": {
              "outlinewidth": 0,
              "ticks": ""
             }
            },
            "type": "scattermapbox"
           }
          ],
          "scatterpolar": [
           {
            "marker": {
             "colorbar": {
              "outlinewidth": 0,
              "ticks": ""
             }
            },
            "type": "scatterpolar"
           }
          ],
          "scatterpolargl": [
           {
            "marker": {
             "colorbar": {
              "outlinewidth": 0,
              "ticks": ""
             }
            },
            "type": "scatterpolargl"
           }
          ],
          "scatterternary": [
           {
            "marker": {
             "colorbar": {
              "outlinewidth": 0,
              "ticks": ""
             }
            },
            "type": "scatterternary"
           }
          ],
          "surface": [
           {
            "colorbar": {
             "outlinewidth": 0,
             "ticks": ""
            },
            "colorscale": [
             [
              0,
              "#0d0887"
             ],
             [
              0.1111111111111111,
              "#46039f"
             ],
             [
              0.2222222222222222,
              "#7201a8"
             ],
             [
              0.3333333333333333,
              "#9c179e"
             ],
             [
              0.4444444444444444,
              "#bd3786"
             ],
             [
              0.5555555555555556,
              "#d8576b"
             ],
             [
              0.6666666666666666,
              "#ed7953"
             ],
             [
              0.7777777777777778,
              "#fb9f3a"
             ],
             [
              0.8888888888888888,
              "#fdca26"
             ],
             [
              1,
              "#f0f921"
             ]
            ],
            "type": "surface"
           }
          ],
          "table": [
           {
            "cells": {
             "fill": {
              "color": "#EBF0F8"
             },
             "line": {
              "color": "white"
             }
            },
            "header": {
             "fill": {
              "color": "#C8D4E3"
             },
             "line": {
              "color": "white"
             }
            },
            "type": "table"
           }
          ]
         },
         "layout": {
          "annotationdefaults": {
           "arrowcolor": "#2a3f5f",
           "arrowhead": 0,
           "arrowwidth": 1
          },
          "autotypenumbers": "strict",
          "coloraxis": {
           "colorbar": {
            "outlinewidth": 0,
            "ticks": ""
           }
          },
          "colorscale": {
           "diverging": [
            [
             0,
             "#8e0152"
            ],
            [
             0.1,
             "#c51b7d"
            ],
            [
             0.2,
             "#de77ae"
            ],
            [
             0.3,
             "#f1b6da"
            ],
            [
             0.4,
             "#fde0ef"
            ],
            [
             0.5,
             "#f7f7f7"
            ],
            [
             0.6,
             "#e6f5d0"
            ],
            [
             0.7,
             "#b8e186"
            ],
            [
             0.8,
             "#7fbc41"
            ],
            [
             0.9,
             "#4d9221"
            ],
            [
             1,
             "#276419"
            ]
           ],
           "sequential": [
            [
             0,
             "#0d0887"
            ],
            [
             0.1111111111111111,
             "#46039f"
            ],
            [
             0.2222222222222222,
             "#7201a8"
            ],
            [
             0.3333333333333333,
             "#9c179e"
            ],
            [
             0.4444444444444444,
             "#bd3786"
            ],
            [
             0.5555555555555556,
             "#d8576b"
            ],
            [
             0.6666666666666666,
             "#ed7953"
            ],
            [
             0.7777777777777778,
             "#fb9f3a"
            ],
            [
             0.8888888888888888,
             "#fdca26"
            ],
            [
             1,
             "#f0f921"
            ]
           ],
           "sequentialminus": [
            [
             0,
             "#0d0887"
            ],
            [
             0.1111111111111111,
             "#46039f"
            ],
            [
             0.2222222222222222,
             "#7201a8"
            ],
            [
             0.3333333333333333,
             "#9c179e"
            ],
            [
             0.4444444444444444,
             "#bd3786"
            ],
            [
             0.5555555555555556,
             "#d8576b"
            ],
            [
             0.6666666666666666,
             "#ed7953"
            ],
            [
             0.7777777777777778,
             "#fb9f3a"
            ],
            [
             0.8888888888888888,
             "#fdca26"
            ],
            [
             1,
             "#f0f921"
            ]
           ]
          },
          "colorway": [
           "#636efa",
           "#EF553B",
           "#00cc96",
           "#ab63fa",
           "#FFA15A",
           "#19d3f3",
           "#FF6692",
           "#B6E880",
           "#FF97FF",
           "#FECB52"
          ],
          "font": {
           "color": "#2a3f5f"
          },
          "geo": {
           "bgcolor": "white",
           "lakecolor": "white",
           "landcolor": "#E5ECF6",
           "showlakes": true,
           "showland": true,
           "subunitcolor": "white"
          },
          "hoverlabel": {
           "align": "left"
          },
          "hovermode": "closest",
          "mapbox": {
           "style": "light"
          },
          "paper_bgcolor": "white",
          "plot_bgcolor": "#E5ECF6",
          "polar": {
           "angularaxis": {
            "gridcolor": "white",
            "linecolor": "white",
            "ticks": ""
           },
           "bgcolor": "#E5ECF6",
           "radialaxis": {
            "gridcolor": "white",
            "linecolor": "white",
            "ticks": ""
           }
          },
          "scene": {
           "xaxis": {
            "backgroundcolor": "#E5ECF6",
            "gridcolor": "white",
            "gridwidth": 2,
            "linecolor": "white",
            "showbackground": true,
            "ticks": "",
            "zerolinecolor": "white"
           },
           "yaxis": {
            "backgroundcolor": "#E5ECF6",
            "gridcolor": "white",
            "gridwidth": 2,
            "linecolor": "white",
            "showbackground": true,
            "ticks": "",
            "zerolinecolor": "white"
           },
           "zaxis": {
            "backgroundcolor": "#E5ECF6",
            "gridcolor": "white",
            "gridwidth": 2,
            "linecolor": "white",
            "showbackground": true,
            "ticks": "",
            "zerolinecolor": "white"
           }
          },
          "shapedefaults": {
           "line": {
            "color": "#2a3f5f"
           }
          },
          "ternary": {
           "aaxis": {
            "gridcolor": "white",
            "linecolor": "white",
            "ticks": ""
           },
           "baxis": {
            "gridcolor": "white",
            "linecolor": "white",
            "ticks": ""
           },
           "bgcolor": "#E5ECF6",
           "caxis": {
            "gridcolor": "white",
            "linecolor": "white",
            "ticks": ""
           }
          },
          "title": {
           "x": 0.05
          },
          "xaxis": {
           "automargin": true,
           "gridcolor": "white",
           "linecolor": "white",
           "ticks": "",
           "title": {
            "standoff": 15
           },
           "zerolinecolor": "white",
           "zerolinewidth": 2
          },
          "yaxis": {
           "automargin": true,
           "gridcolor": "white",
           "linecolor": "white",
           "ticks": "",
           "title": {
            "standoff": 15
           },
           "zerolinecolor": "white",
           "zerolinewidth": 2
          }
         }
        },
        "width": 400,
        "xaxis": {
         "anchor": "y",
         "domain": [
          0,
          1
         ],
         "title": {
          "text": "counts"
         }
        },
        "yaxis": {
         "anchor": "x",
         "domain": [
          0,
          1
         ],
         "title": {
          "text": "skills"
         }
        }
       }
      }
     },
     "metadata": {}
    }
   ],
   "source": [
    "# barplot 1\n",
    "df1_for_plot = pd.DataFrame(df1[df1['long_name'] == player1][skills1].iloc[0].reset_index())\n",
    "df1_for_plot.rename(columns={df1_for_plot.columns[1]: 'counts'}, inplace=True)\n",
    "df1_for_plot.rename(columns={df1_for_plot.columns[0]: 'skills'}, inplace=True)\n",
    "barplot1 = px.bar(df1_for_plot, x='counts', y='skills', orientation='h')\n",
    "barplot1.update_traces(marker_color='rgba(133,61,246,1)')\n",
    "barplot1.update_layout(width = 400, height = 250,\n",
    "                       margin=dict(l=20, r=20, t=20, b=20),\n",
    "                \n",
    "                       plot_bgcolor = 'rgba(0, 0, 0, 0)',\n",
    "                       paper_bgcolor = 'rgba(0, 0, 0, 0)',    )\n"
   ]
  },
  {
   "cell_type": "code",
   "execution_count": 26,
   "metadata": {},
   "outputs": [],
   "source": [
    "# choice of the players\n",
    "players_options_over_25 = []\n",
    "for i in df1.index:\n",
    "    players_options_over_25.append({'label': df1['long_name'][i], 'value':  df1['long_name'][i]})\n",
    "\n",
    "players_options_under_25 = []\n",
    "for i in df2.index:\n",
    "    players_options_under_25.append({'label': df2['long_name'][i], 'value':  df2['long_name'][i]})\n",
    "\n",
    "# scatterpolar\n",
    "df1_for_plot = pd.DataFrame(df1[df1['long_name'] == player1][skill_player].iloc[0])\n",
    "df1_for_plot.columns = ['score']\n",
    "df2_for_plot = pd.DataFrame(df2[df2['long_name'] == player2][skill_player].iloc[0])\n",
    "df2_for_plot.columns = ['score']"
   ]
  },
  {
   "cell_type": "code",
   "execution_count": 74,
   "metadata": {},
   "outputs": [
    {
     "output_type": "display_data",
     "data": {
      "application/vnd.plotly.v1+json": {
       "config": {
        "plotlyServerURL": "https://plot.ly"
       },
       "data": [
        {
         "fill": "toself",
         "hoverinfo": "text",
         "marker": {
          "color": "#711bf7"
         },
         "name": "Lionel Andrés Messi Cuccittini<br>pace = 85.0<br>shooting = 92.0<br>passing = 91.0<br>dribbling = 95.0<br>defending = 38.0<br>physic = 65.0",
         "opacity": 1,
         "r": [
          85,
          92,
          91,
          95,
          38,
          65
         ],
         "text": [
          "pace = 85.0",
          "shooting = 92.0",
          "passing = 91.0",
          "dribbling = 95.0",
          "defending = 38.0",
          "physic = 65.0"
         ],
         "theta": [
          "pace",
          "shooting",
          "passing",
          "dribbling",
          "defending",
          "physic"
         ],
         "type": "scatterpolar"
        },
        {
         "fill": "toself",
         "hoverinfo": "text",
         "marker": {
          "color": "#dee600"
         },
         "name": "Kylian Mbappé Lottin<br>pace = 96.0<br>shooting = 86.0<br>passing = 78.0<br>dribbling = 91.0<br>defending = 39.0<br>physic = 76.0",
         "r": [
          96,
          86,
          78,
          91,
          39,
          76
         ],
         "text": [
          "pace = 96.0",
          "shooting = 86.0",
          "passing = 78.0",
          "dribbling = 91.0",
          "defending = 39.0",
          "physic = 76.0"
         ],
         "theta": [
          "pace",
          "shooting",
          "passing",
          "dribbling",
          "defending",
          "physic"
         ],
         "type": "scatterpolar"
        }
       ],
       "layout": {
        "font": {
         "color": "black",
         "size": 15
        },
        "height": 700,
        "paper_bgcolor": "rgba(0, 0, 0, 0)",
        "plot_bgcolor": "rgba(0, 0, 0, 0)",
        "polar": {
         "bgcolor": "white",
         "hole": 0.1,
         "radialaxis": {
          "angle": 90,
          "autorange": false,
          "autotypenumbers": "strict",
          "gridcolor": "black",
          "range": [
           30,
           100
          ],
          "showline": false,
          "showticklabels": false,
          "ticks": "",
          "type": "linear",
          "visible": true
         }
        },
        "showlegend": false,
        "template": {
         "data": {
          "bar": [
           {
            "error_x": {
             "color": "#f2f5fa"
            },
            "error_y": {
             "color": "#f2f5fa"
            },
            "marker": {
             "line": {
              "color": "rgb(17,17,17)",
              "width": 0.5
             }
            },
            "type": "bar"
           }
          ],
          "barpolar": [
           {
            "marker": {
             "line": {
              "color": "rgb(17,17,17)",
              "width": 0.5
             }
            },
            "type": "barpolar"
           }
          ],
          "carpet": [
           {
            "aaxis": {
             "endlinecolor": "#A2B1C6",
             "gridcolor": "#506784",
             "linecolor": "#506784",
             "minorgridcolor": "#506784",
             "startlinecolor": "#A2B1C6"
            },
            "baxis": {
             "endlinecolor": "#A2B1C6",
             "gridcolor": "#506784",
             "linecolor": "#506784",
             "minorgridcolor": "#506784",
             "startlinecolor": "#A2B1C6"
            },
            "type": "carpet"
           }
          ],
          "choropleth": [
           {
            "colorbar": {
             "outlinewidth": 0,
             "ticks": ""
            },
            "type": "choropleth"
           }
          ],
          "contour": [
           {
            "colorbar": {
             "outlinewidth": 0,
             "ticks": ""
            },
            "colorscale": [
             [
              0,
              "#0d0887"
             ],
             [
              0.1111111111111111,
              "#46039f"
             ],
             [
              0.2222222222222222,
              "#7201a8"
             ],
             [
              0.3333333333333333,
              "#9c179e"
             ],
             [
              0.4444444444444444,
              "#bd3786"
             ],
             [
              0.5555555555555556,
              "#d8576b"
             ],
             [
              0.6666666666666666,
              "#ed7953"
             ],
             [
              0.7777777777777778,
              "#fb9f3a"
             ],
             [
              0.8888888888888888,
              "#fdca26"
             ],
             [
              1,
              "#f0f921"
             ]
            ],
            "type": "contour"
           }
          ],
          "contourcarpet": [
           {
            "colorbar": {
             "outlinewidth": 0,
             "ticks": ""
            },
            "type": "contourcarpet"
           }
          ],
          "heatmap": [
           {
            "colorbar": {
             "outlinewidth": 0,
             "ticks": ""
            },
            "colorscale": [
             [
              0,
              "#0d0887"
             ],
             [
              0.1111111111111111,
              "#46039f"
             ],
             [
              0.2222222222222222,
              "#7201a8"
             ],
             [
              0.3333333333333333,
              "#9c179e"
             ],
             [
              0.4444444444444444,
              "#bd3786"
             ],
             [
              0.5555555555555556,
              "#d8576b"
             ],
             [
              0.6666666666666666,
              "#ed7953"
             ],
             [
              0.7777777777777778,
              "#fb9f3a"
             ],
             [
              0.8888888888888888,
              "#fdca26"
             ],
             [
              1,
              "#f0f921"
             ]
            ],
            "type": "heatmap"
           }
          ],
          "heatmapgl": [
           {
            "colorbar": {
             "outlinewidth": 0,
             "ticks": ""
            },
            "colorscale": [
             [
              0,
              "#0d0887"
             ],
             [
              0.1111111111111111,
              "#46039f"
             ],
             [
              0.2222222222222222,
              "#7201a8"
             ],
             [
              0.3333333333333333,
              "#9c179e"
             ],
             [
              0.4444444444444444,
              "#bd3786"
             ],
             [
              0.5555555555555556,
              "#d8576b"
             ],
             [
              0.6666666666666666,
              "#ed7953"
             ],
             [
              0.7777777777777778,
              "#fb9f3a"
             ],
             [
              0.8888888888888888,
              "#fdca26"
             ],
             [
              1,
              "#f0f921"
             ]
            ],
            "type": "heatmapgl"
           }
          ],
          "histogram": [
           {
            "marker": {
             "colorbar": {
              "outlinewidth": 0,
              "ticks": ""
             }
            },
            "type": "histogram"
           }
          ],
          "histogram2d": [
           {
            "colorbar": {
             "outlinewidth": 0,
             "ticks": ""
            },
            "colorscale": [
             [
              0,
              "#0d0887"
             ],
             [
              0.1111111111111111,
              "#46039f"
             ],
             [
              0.2222222222222222,
              "#7201a8"
             ],
             [
              0.3333333333333333,
              "#9c179e"
             ],
             [
              0.4444444444444444,
              "#bd3786"
             ],
             [
              0.5555555555555556,
              "#d8576b"
             ],
             [
              0.6666666666666666,
              "#ed7953"
             ],
             [
              0.7777777777777778,
              "#fb9f3a"
             ],
             [
              0.8888888888888888,
              "#fdca26"
             ],
             [
              1,
              "#f0f921"
             ]
            ],
            "type": "histogram2d"
           }
          ],
          "histogram2dcontour": [
           {
            "colorbar": {
             "outlinewidth": 0,
             "ticks": ""
            },
            "colorscale": [
             [
              0,
              "#0d0887"
             ],
             [
              0.1111111111111111,
              "#46039f"
             ],
             [
              0.2222222222222222,
              "#7201a8"
             ],
             [
              0.3333333333333333,
              "#9c179e"
             ],
             [
              0.4444444444444444,
              "#bd3786"
             ],
             [
              0.5555555555555556,
              "#d8576b"
             ],
             [
              0.6666666666666666,
              "#ed7953"
             ],
             [
              0.7777777777777778,
              "#fb9f3a"
             ],
             [
              0.8888888888888888,
              "#fdca26"
             ],
             [
              1,
              "#f0f921"
             ]
            ],
            "type": "histogram2dcontour"
           }
          ],
          "mesh3d": [
           {
            "colorbar": {
             "outlinewidth": 0,
             "ticks": ""
            },
            "type": "mesh3d"
           }
          ],
          "parcoords": [
           {
            "line": {
             "colorbar": {
              "outlinewidth": 0,
              "ticks": ""
             }
            },
            "type": "parcoords"
           }
          ],
          "pie": [
           {
            "automargin": true,
            "type": "pie"
           }
          ],
          "scatter": [
           {
            "marker": {
             "line": {
              "color": "#283442"
             }
            },
            "type": "scatter"
           }
          ],
          "scatter3d": [
           {
            "line": {
             "colorbar": {
              "outlinewidth": 0,
              "ticks": ""
             }
            },
            "marker": {
             "colorbar": {
              "outlinewidth": 0,
              "ticks": ""
             }
            },
            "type": "scatter3d"
           }
          ],
          "scattercarpet": [
           {
            "marker": {
             "colorbar": {
              "outlinewidth": 0,
              "ticks": ""
             }
            },
            "type": "scattercarpet"
           }
          ],
          "scattergeo": [
           {
            "marker": {
             "colorbar": {
              "outlinewidth": 0,
              "ticks": ""
             }
            },
            "type": "scattergeo"
           }
          ],
          "scattergl": [
           {
            "marker": {
             "line": {
              "color": "#283442"
             }
            },
            "type": "scattergl"
           }
          ],
          "scattermapbox": [
           {
            "marker": {
             "colorbar": {
              "outlinewidth": 0,
              "ticks": ""
             }
            },
            "type": "scattermapbox"
           }
          ],
          "scatterpolar": [
           {
            "marker": {
             "colorbar": {
              "outlinewidth": 0,
              "ticks": ""
             }
            },
            "type": "scatterpolar"
           }
          ],
          "scatterpolargl": [
           {
            "marker": {
             "colorbar": {
              "outlinewidth": 0,
              "ticks": ""
             }
            },
            "type": "scatterpolargl"
           }
          ],
          "scatterternary": [
           {
            "marker": {
             "colorbar": {
              "outlinewidth": 0,
              "ticks": ""
             }
            },
            "type": "scatterternary"
           }
          ],
          "surface": [
           {
            "colorbar": {
             "outlinewidth": 0,
             "ticks": ""
            },
            "colorscale": [
             [
              0,
              "#0d0887"
             ],
             [
              0.1111111111111111,
              "#46039f"
             ],
             [
              0.2222222222222222,
              "#7201a8"
             ],
             [
              0.3333333333333333,
              "#9c179e"
             ],
             [
              0.4444444444444444,
              "#bd3786"
             ],
             [
              0.5555555555555556,
              "#d8576b"
             ],
             [
              0.6666666666666666,
              "#ed7953"
             ],
             [
              0.7777777777777778,
              "#fb9f3a"
             ],
             [
              0.8888888888888888,
              "#fdca26"
             ],
             [
              1,
              "#f0f921"
             ]
            ],
            "type": "surface"
           }
          ],
          "table": [
           {
            "cells": {
             "fill": {
              "color": "#506784"
             },
             "line": {
              "color": "rgb(17,17,17)"
             }
            },
            "header": {
             "fill": {
              "color": "#2a3f5f"
             },
             "line": {
              "color": "rgb(17,17,17)"
             }
            },
            "type": "table"
           }
          ]
         },
         "layout": {
          "annotationdefaults": {
           "arrowcolor": "#f2f5fa",
           "arrowhead": 0,
           "arrowwidth": 1
          },
          "autotypenumbers": "strict",
          "coloraxis": {
           "colorbar": {
            "outlinewidth": 0,
            "ticks": ""
           }
          },
          "colorscale": {
           "diverging": [
            [
             0,
             "#8e0152"
            ],
            [
             0.1,
             "#c51b7d"
            ],
            [
             0.2,
             "#de77ae"
            ],
            [
             0.3,
             "#f1b6da"
            ],
            [
             0.4,
             "#fde0ef"
            ],
            [
             0.5,
             "#f7f7f7"
            ],
            [
             0.6,
             "#e6f5d0"
            ],
            [
             0.7,
             "#b8e186"
            ],
            [
             0.8,
             "#7fbc41"
            ],
            [
             0.9,
             "#4d9221"
            ],
            [
             1,
             "#276419"
            ]
           ],
           "sequential": [
            [
             0,
             "#0d0887"
            ],
            [
             0.1111111111111111,
             "#46039f"
            ],
            [
             0.2222222222222222,
             "#7201a8"
            ],
            [
             0.3333333333333333,
             "#9c179e"
            ],
            [
             0.4444444444444444,
             "#bd3786"
            ],
            [
             0.5555555555555556,
             "#d8576b"
            ],
            [
             0.6666666666666666,
             "#ed7953"
            ],
            [
             0.7777777777777778,
             "#fb9f3a"
            ],
            [
             0.8888888888888888,
             "#fdca26"
            ],
            [
             1,
             "#f0f921"
            ]
           ],
           "sequentialminus": [
            [
             0,
             "#0d0887"
            ],
            [
             0.1111111111111111,
             "#46039f"
            ],
            [
             0.2222222222222222,
             "#7201a8"
            ],
            [
             0.3333333333333333,
             "#9c179e"
            ],
            [
             0.4444444444444444,
             "#bd3786"
            ],
            [
             0.5555555555555556,
             "#d8576b"
            ],
            [
             0.6666666666666666,
             "#ed7953"
            ],
            [
             0.7777777777777778,
             "#fb9f3a"
            ],
            [
             0.8888888888888888,
             "#fdca26"
            ],
            [
             1,
             "#f0f921"
            ]
           ]
          },
          "colorway": [
           "#636efa",
           "#EF553B",
           "#00cc96",
           "#ab63fa",
           "#FFA15A",
           "#19d3f3",
           "#FF6692",
           "#B6E880",
           "#FF97FF",
           "#FECB52"
          ],
          "font": {
           "color": "#f2f5fa"
          },
          "geo": {
           "bgcolor": "rgb(17,17,17)",
           "lakecolor": "rgb(17,17,17)",
           "landcolor": "rgb(17,17,17)",
           "showlakes": true,
           "showland": true,
           "subunitcolor": "#506784"
          },
          "hoverlabel": {
           "align": "left"
          },
          "hovermode": "closest",
          "mapbox": {
           "style": "dark"
          },
          "paper_bgcolor": "rgb(17,17,17)",
          "plot_bgcolor": "rgb(17,17,17)",
          "polar": {
           "angularaxis": {
            "gridcolor": "#506784",
            "linecolor": "#506784",
            "ticks": ""
           },
           "bgcolor": "rgb(17,17,17)",
           "radialaxis": {
            "gridcolor": "#506784",
            "linecolor": "#506784",
            "ticks": ""
           }
          },
          "scene": {
           "xaxis": {
            "backgroundcolor": "rgb(17,17,17)",
            "gridcolor": "#506784",
            "gridwidth": 2,
            "linecolor": "#506784",
            "showbackground": true,
            "ticks": "",
            "zerolinecolor": "#C8D4E3"
           },
           "yaxis": {
            "backgroundcolor": "rgb(17,17,17)",
            "gridcolor": "#506784",
            "gridwidth": 2,
            "linecolor": "#506784",
            "showbackground": true,
            "ticks": "",
            "zerolinecolor": "#C8D4E3"
           },
           "zaxis": {
            "backgroundcolor": "rgb(17,17,17)",
            "gridcolor": "#506784",
            "gridwidth": 2,
            "linecolor": "#506784",
            "showbackground": true,
            "ticks": "",
            "zerolinecolor": "#C8D4E3"
           }
          },
          "shapedefaults": {
           "line": {
            "color": "#f2f5fa"
           }
          },
          "sliderdefaults": {
           "bgcolor": "#C8D4E3",
           "bordercolor": "rgb(17,17,17)",
           "borderwidth": 1,
           "tickwidth": 0
          },
          "ternary": {
           "aaxis": {
            "gridcolor": "#506784",
            "linecolor": "#506784",
            "ticks": ""
           },
           "baxis": {
            "gridcolor": "#506784",
            "linecolor": "#506784",
            "ticks": ""
           },
           "bgcolor": "rgb(17,17,17)",
           "caxis": {
            "gridcolor": "#506784",
            "linecolor": "#506784",
            "ticks": ""
           }
          },
          "title": {
           "x": 0.05
          },
          "updatemenudefaults": {
           "bgcolor": "#506784",
           "borderwidth": 0
          },
          "xaxis": {
           "automargin": true,
           "gridcolor": "#283442",
           "linecolor": "#506784",
           "ticks": "",
           "title": {
            "standoff": 15
           },
           "zerolinecolor": "#283442",
           "zerolinewidth": 2
          },
          "yaxis": {
           "automargin": true,
           "gridcolor": "#283442",
           "linecolor": "#506784",
           "ticks": "",
           "title": {
            "standoff": 15
           },
           "zerolinecolor": "#283442",
           "zerolinewidth": 2
          }
         }
        },
        "width": 700
       }
      }
     },
     "metadata": {}
    }
   ],
   "source": [
    "list_scores = [df1_for_plot.index[i] +' = ' + str(df1_for_plot['score'][i]) for i in range(len(df1_for_plot))]\n",
    "text_scores_1 = player1\n",
    "for i in list_scores:\n",
    "    text_scores_1 += '<br>' + i\n",
    "\n",
    "list_scores = [df2_for_plot.index[i] +' = ' + str(df2_for_plot['score'][i]) for i in range(len(df2_for_plot))]\n",
    "text_scores_2 = player2\n",
    "for i in list_scores:\n",
    "    text_scores_2 += '<br>' + i\n",
    "\n",
    "fig = go.Figure(data=go.Scatterpolar(\n",
    "    r=df1_for_plot['score'],\n",
    "    theta=df1_for_plot.index,\n",
    "    fill='toself', \n",
    "    marker_color = '#711bf7',   \n",
    "    opacity =1, \n",
    "    hoverinfo = \"text\" ,\n",
    "    name = text_scores_1,\n",
    "    text  = [df1_for_plot.index[i] +' = ' + str(df1_for_plot['score'][i]) for i in range(len(df1_for_plot))]\n",
    "))\n",
    "\n",
    "fig.add_trace(go.Scatterpolar(\n",
    "    r=df2_for_plot['score'],\n",
    "    theta=df2_for_plot.index,\n",
    "    fill='toself',\n",
    "    marker_color = '#dee600',\n",
    "    hoverinfo = \"text\" ,\n",
    "    name= text_scores_2,\n",
    "    text  = [df2_for_plot.index[i] +' = ' + str(df2_for_plot['score'][i]) for i in range(len(df2_for_plot))]\n",
    "    ))\n",
    "\n",
    "fig.update_layout(\n",
    "    polar=dict(\n",
    "        hole=0.1,\n",
    "        bgcolor=\"white\",\n",
    "    radialaxis=dict(\n",
    "        visible=True,\n",
    "        type='linear',\n",
    "        autotypenumbers='strict',\n",
    "        autorange=False,\n",
    "        range=[30, 100],\n",
    "        angle=90,\n",
    "        showline=False,\n",
    "        showticklabels=False, ticks='',\n",
    "#         showgrid=False\n",
    "        gridcolor='black'),\n",
    "        ),\n",
    "    width = 700,\n",
    "    height = 700,\n",
    "    showlegend=False,\n",
    "    template=\"plotly_dark\",\n",
    "    plot_bgcolor = 'rgba(0, 0, 0, 0)',\n",
    "    paper_bgcolor = 'rgba(0, 0, 0, 0)',\n",
    "    font_color=\"black\",\n",
    "    font_size= 15\n",
    ")\n"
   ]
  },
  {
   "cell_type": "code",
   "execution_count": null,
   "metadata": {},
   "outputs": [],
   "source": []
  }
 ],
 "metadata": {
  "kernelspec": {
   "display_name": "Python 3",
   "language": "python",
   "name": "python3"
  },
  "language_info": {
   "codemirror_mode": {
    "name": "ipython",
    "version": 3
   },
   "file_extension": ".py",
   "mimetype": "text/x-python",
   "name": "python",
   "nbconvert_exporter": "python",
   "pygments_lexer": "ipython3",
   "version": "3.8.5-final"
  }
 },
 "nbformat": 4,
 "nbformat_minor": 4
}