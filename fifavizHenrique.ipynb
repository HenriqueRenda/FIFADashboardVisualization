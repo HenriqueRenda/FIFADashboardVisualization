{
 "metadata": {
  "language_info": {
   "codemirror_mode": {
    "name": "ipython",
    "version": 3
   },
   "file_extension": ".py",
   "mimetype": "text/x-python",
   "name": "python",
   "nbconvert_exporter": "python",
   "pygments_lexer": "ipython3",
   "version": "3.9.2-final"
  },
  "orig_nbformat": 2,
  "kernelspec": {
   "name": "python3",
   "display_name": "Python 3.9.2 64-bit",
   "metadata": {
    "interpreter": {
     "hash": "c20a6cc10b181467a9eba79145e80b289cbf6403380349d96b661c6de1c0092c"
    }
   }
  }
 },
 "nbformat": 4,
 "nbformat_minor": 2,
 "cells": [
  {
   "cell_type": "code",
   "execution_count": 5,
   "metadata": {},
   "outputs": [],
   "source": [
    "import numpy as np\n",
    "import pandas as pd\n",
    "import seaborn as sns\n",
    "import matplotlib as plot\n",
    "import plotly.graph_objects as go\n",
    "import plotly.express as px\n",
    "\n",
    "import dash\n",
    "import dash_core_components as dcc\n",
    "import dash_html_components as html\n",
    "from dash.dependencies import Input, Output, State"
   ]
  },
  {
   "cell_type": "code",
   "execution_count": 6,
   "metadata": {},
   "outputs": [
    {
     "output_type": "execute_result",
     "data": {
      "text/plain": [
       "   sofifa_id                                         player_url  \\\n",
       "0     158023  https://sofifa.com/player/158023/lionel-messi/...   \n",
       "1      20801  https://sofifa.com/player/20801/c-ronaldo-dos-...   \n",
       "2     200389  https://sofifa.com/player/200389/jan-oblak/210002   \n",
       "3     188545  https://sofifa.com/player/188545/robert-lewand...   \n",
       "4     190871  https://sofifa.com/player/190871/neymar-da-sil...   \n",
       "\n",
       "          short_name                            long_name  age         dob  \\\n",
       "0           L. Messi       Lionel Andrés Messi Cuccittini   33  1987-06-24   \n",
       "1  Cristiano Ronaldo  Cristiano Ronaldo dos Santos Aveiro   35  1985-02-05   \n",
       "2           J. Oblak                            Jan Oblak   27  1993-01-07   \n",
       "3     R. Lewandowski                   Robert Lewandowski   31  1988-08-21   \n",
       "4          Neymar Jr        Neymar da Silva Santos Júnior   28  1992-02-05   \n",
       "\n",
       "   height_cm  weight_kg nationality            club_name  ...   lwb   ldm  \\\n",
       "0        170         72   Argentina         FC Barcelona  ...  66+3  65+3   \n",
       "1        187         83    Portugal             Juventus  ...  65+3  61+3   \n",
       "2        188         87    Slovenia      Atlético Madrid  ...  32+3  36+3   \n",
       "3        184         80      Poland    FC Bayern München  ...  64+3  65+3   \n",
       "4        175         68      Brazil  Paris Saint-Germain  ...  67+3  62+3   \n",
       "\n",
       "    cdm   rdm   rwb    lb   lcb    cb   rcb    rb  \n",
       "0  65+3  65+3  66+3  62+3  52+3  52+3  52+3  62+3  \n",
       "1  61+3  61+3  65+3  61+3  54+3  54+3  54+3  61+3  \n",
       "2  36+3  36+3  32+3  32+3  33+3  33+3  33+3  32+3  \n",
       "3  65+3  65+3  64+3  61+3  60+3  60+3  60+3  61+3  \n",
       "4  62+3  62+3  67+3  62+3  49+3  49+3  49+3  62+3  \n",
       "\n",
       "[5 rows x 106 columns]"
      ],
      "text/html": "<div>\n<style scoped>\n    .dataframe tbody tr th:only-of-type {\n        vertical-align: middle;\n    }\n\n    .dataframe tbody tr th {\n        vertical-align: top;\n    }\n\n    .dataframe thead th {\n        text-align: right;\n    }\n</style>\n<table border=\"1\" class=\"dataframe\">\n  <thead>\n    <tr style=\"text-align: right;\">\n      <th></th>\n      <th>sofifa_id</th>\n      <th>player_url</th>\n      <th>short_name</th>\n      <th>long_name</th>\n      <th>age</th>\n      <th>dob</th>\n      <th>height_cm</th>\n      <th>weight_kg</th>\n      <th>nationality</th>\n      <th>club_name</th>\n      <th>...</th>\n      <th>lwb</th>\n      <th>ldm</th>\n      <th>cdm</th>\n      <th>rdm</th>\n      <th>rwb</th>\n      <th>lb</th>\n      <th>lcb</th>\n      <th>cb</th>\n      <th>rcb</th>\n      <th>rb</th>\n    </tr>\n  </thead>\n  <tbody>\n    <tr>\n      <th>0</th>\n      <td>158023</td>\n      <td>https://sofifa.com/player/158023/lionel-messi/...</td>\n      <td>L. Messi</td>\n      <td>Lionel Andrés Messi Cuccittini</td>\n      <td>33</td>\n      <td>1987-06-24</td>\n      <td>170</td>\n      <td>72</td>\n      <td>Argentina</td>\n      <td>FC Barcelona</td>\n      <td>...</td>\n      <td>66+3</td>\n      <td>65+3</td>\n      <td>65+3</td>\n      <td>65+3</td>\n      <td>66+3</td>\n      <td>62+3</td>\n      <td>52+3</td>\n      <td>52+3</td>\n      <td>52+3</td>\n      <td>62+3</td>\n    </tr>\n    <tr>\n      <th>1</th>\n      <td>20801</td>\n      <td>https://sofifa.com/player/20801/c-ronaldo-dos-...</td>\n      <td>Cristiano Ronaldo</td>\n      <td>Cristiano Ronaldo dos Santos Aveiro</td>\n      <td>35</td>\n      <td>1985-02-05</td>\n      <td>187</td>\n      <td>83</td>\n      <td>Portugal</td>\n      <td>Juventus</td>\n      <td>...</td>\n      <td>65+3</td>\n      <td>61+3</td>\n      <td>61+3</td>\n      <td>61+3</td>\n      <td>65+3</td>\n      <td>61+3</td>\n      <td>54+3</td>\n      <td>54+3</td>\n      <td>54+3</td>\n      <td>61+3</td>\n    </tr>\n    <tr>\n      <th>2</th>\n      <td>200389</td>\n      <td>https://sofifa.com/player/200389/jan-oblak/210002</td>\n      <td>J. Oblak</td>\n      <td>Jan Oblak</td>\n      <td>27</td>\n      <td>1993-01-07</td>\n      <td>188</td>\n      <td>87</td>\n      <td>Slovenia</td>\n      <td>Atlético Madrid</td>\n      <td>...</td>\n      <td>32+3</td>\n      <td>36+3</td>\n      <td>36+3</td>\n      <td>36+3</td>\n      <td>32+3</td>\n      <td>32+3</td>\n      <td>33+3</td>\n      <td>33+3</td>\n      <td>33+3</td>\n      <td>32+3</td>\n    </tr>\n    <tr>\n      <th>3</th>\n      <td>188545</td>\n      <td>https://sofifa.com/player/188545/robert-lewand...</td>\n      <td>R. Lewandowski</td>\n      <td>Robert Lewandowski</td>\n      <td>31</td>\n      <td>1988-08-21</td>\n      <td>184</td>\n      <td>80</td>\n      <td>Poland</td>\n      <td>FC Bayern München</td>\n      <td>...</td>\n      <td>64+3</td>\n      <td>65+3</td>\n      <td>65+3</td>\n      <td>65+3</td>\n      <td>64+3</td>\n      <td>61+3</td>\n      <td>60+3</td>\n      <td>60+3</td>\n      <td>60+3</td>\n      <td>61+3</td>\n    </tr>\n    <tr>\n      <th>4</th>\n      <td>190871</td>\n      <td>https://sofifa.com/player/190871/neymar-da-sil...</td>\n      <td>Neymar Jr</td>\n      <td>Neymar da Silva Santos Júnior</td>\n      <td>28</td>\n      <td>1992-02-05</td>\n      <td>175</td>\n      <td>68</td>\n      <td>Brazil</td>\n      <td>Paris Saint-Germain</td>\n      <td>...</td>\n      <td>67+3</td>\n      <td>62+3</td>\n      <td>62+3</td>\n      <td>62+3</td>\n      <td>67+3</td>\n      <td>62+3</td>\n      <td>49+3</td>\n      <td>49+3</td>\n      <td>49+3</td>\n      <td>62+3</td>\n    </tr>\n  </tbody>\n</table>\n<p>5 rows × 106 columns</p>\n</div>"
     },
     "metadata": {},
     "execution_count": 6
    }
   ],
   "source": [
    "#importing data\n",
    "data = pd.read_csv('archive/players_21.csv')\n",
    "data.head()"
   ]
  },
  {
   "cell_type": "code",
   "execution_count": 7,
   "metadata": {},
   "outputs": [],
   "source": [
    "nonusefulcolumns = ['sofifa_id','player_url','long_name','league_rank']\n",
    "nonusefulattributes = data.loc[:,'player_traits':]\n",
    "\n",
    "data.drop(nonusefulcolumns, axis=1, inplace=True)\n",
    "data.drop(nonusefulattributes, axis=1, inplace=True)"
   ]
  },
  {
   "cell_type": "code",
   "execution_count": 8,
   "metadata": {},
   "outputs": [
    {
     "output_type": "execute_result",
     "data": {
      "text/plain": [
       "          short_name  age         dob  height_cm  weight_kg nationality  \\\n",
       "0           L. Messi   33  1987-06-24        170         72   Argentina   \n",
       "1  Cristiano Ronaldo   35  1985-02-05        187         83    Portugal   \n",
       "2           J. Oblak   27  1993-01-07        188         87    Slovenia   \n",
       "3     R. Lewandowski   31  1988-08-21        184         80      Poland   \n",
       "4          Neymar Jr   28  1992-02-05        175         68      Brazil   \n",
       "\n",
       "             club_name             league_name  overall  potential  ...  \\\n",
       "0         FC Barcelona  Spain Primera Division       93         93  ...   \n",
       "1             Juventus         Italian Serie A       92         92  ...   \n",
       "2      Atlético Madrid  Spain Primera Division       91         93  ...   \n",
       "3    FC Bayern München    German 1. Bundesliga       91         91  ...   \n",
       "4  Paris Saint-Germain          French Ligue 1       91         91  ...   \n",
       "\n",
       "   passing  dribbling defending physic  gk_diving  gk_handling  gk_kicking  \\\n",
       "0     91.0       95.0      38.0   65.0        NaN          NaN         NaN   \n",
       "1     81.0       89.0      35.0   77.0        NaN          NaN         NaN   \n",
       "2      NaN        NaN       NaN    NaN       87.0         92.0        78.0   \n",
       "3     78.0       85.0      43.0   82.0        NaN          NaN         NaN   \n",
       "4     86.0       94.0      36.0   59.0        NaN          NaN         NaN   \n",
       "\n",
       "  gk_reflexes gk_speed gk_positioning  \n",
       "0         NaN      NaN            NaN  \n",
       "1         NaN      NaN            NaN  \n",
       "2        90.0     52.0           90.0  \n",
       "3         NaN      NaN            NaN  \n",
       "4         NaN      NaN            NaN  \n",
       "\n",
       "[5 rows x 41 columns]"
      ],
      "text/html": "<div>\n<style scoped>\n    .dataframe tbody tr th:only-of-type {\n        vertical-align: middle;\n    }\n\n    .dataframe tbody tr th {\n        vertical-align: top;\n    }\n\n    .dataframe thead th {\n        text-align: right;\n    }\n</style>\n<table border=\"1\" class=\"dataframe\">\n  <thead>\n    <tr style=\"text-align: right;\">\n      <th></th>\n      <th>short_name</th>\n      <th>age</th>\n      <th>dob</th>\n      <th>height_cm</th>\n      <th>weight_kg</th>\n      <th>nationality</th>\n      <th>club_name</th>\n      <th>league_name</th>\n      <th>overall</th>\n      <th>potential</th>\n      <th>...</th>\n      <th>passing</th>\n      <th>dribbling</th>\n      <th>defending</th>\n      <th>physic</th>\n      <th>gk_diving</th>\n      <th>gk_handling</th>\n      <th>gk_kicking</th>\n      <th>gk_reflexes</th>\n      <th>gk_speed</th>\n      <th>gk_positioning</th>\n    </tr>\n  </thead>\n  <tbody>\n    <tr>\n      <th>0</th>\n      <td>L. Messi</td>\n      <td>33</td>\n      <td>1987-06-24</td>\n      <td>170</td>\n      <td>72</td>\n      <td>Argentina</td>\n      <td>FC Barcelona</td>\n      <td>Spain Primera Division</td>\n      <td>93</td>\n      <td>93</td>\n      <td>...</td>\n      <td>91.0</td>\n      <td>95.0</td>\n      <td>38.0</td>\n      <td>65.0</td>\n      <td>NaN</td>\n      <td>NaN</td>\n      <td>NaN</td>\n      <td>NaN</td>\n      <td>NaN</td>\n      <td>NaN</td>\n    </tr>\n    <tr>\n      <th>1</th>\n      <td>Cristiano Ronaldo</td>\n      <td>35</td>\n      <td>1985-02-05</td>\n      <td>187</td>\n      <td>83</td>\n      <td>Portugal</td>\n      <td>Juventus</td>\n      <td>Italian Serie A</td>\n      <td>92</td>\n      <td>92</td>\n      <td>...</td>\n      <td>81.0</td>\n      <td>89.0</td>\n      <td>35.0</td>\n      <td>77.0</td>\n      <td>NaN</td>\n      <td>NaN</td>\n      <td>NaN</td>\n      <td>NaN</td>\n      <td>NaN</td>\n      <td>NaN</td>\n    </tr>\n    <tr>\n      <th>2</th>\n      <td>J. Oblak</td>\n      <td>27</td>\n      <td>1993-01-07</td>\n      <td>188</td>\n      <td>87</td>\n      <td>Slovenia</td>\n      <td>Atlético Madrid</td>\n      <td>Spain Primera Division</td>\n      <td>91</td>\n      <td>93</td>\n      <td>...</td>\n      <td>NaN</td>\n      <td>NaN</td>\n      <td>NaN</td>\n      <td>NaN</td>\n      <td>87.0</td>\n      <td>92.0</td>\n      <td>78.0</td>\n      <td>90.0</td>\n      <td>52.0</td>\n      <td>90.0</td>\n    </tr>\n    <tr>\n      <th>3</th>\n      <td>R. Lewandowski</td>\n      <td>31</td>\n      <td>1988-08-21</td>\n      <td>184</td>\n      <td>80</td>\n      <td>Poland</td>\n      <td>FC Bayern München</td>\n      <td>German 1. Bundesliga</td>\n      <td>91</td>\n      <td>91</td>\n      <td>...</td>\n      <td>78.0</td>\n      <td>85.0</td>\n      <td>43.0</td>\n      <td>82.0</td>\n      <td>NaN</td>\n      <td>NaN</td>\n      <td>NaN</td>\n      <td>NaN</td>\n      <td>NaN</td>\n      <td>NaN</td>\n    </tr>\n    <tr>\n      <th>4</th>\n      <td>Neymar Jr</td>\n      <td>28</td>\n      <td>1992-02-05</td>\n      <td>175</td>\n      <td>68</td>\n      <td>Brazil</td>\n      <td>Paris Saint-Germain</td>\n      <td>French Ligue 1</td>\n      <td>91</td>\n      <td>91</td>\n      <td>...</td>\n      <td>86.0</td>\n      <td>94.0</td>\n      <td>36.0</td>\n      <td>59.0</td>\n      <td>NaN</td>\n      <td>NaN</td>\n      <td>NaN</td>\n      <td>NaN</td>\n      <td>NaN</td>\n      <td>NaN</td>\n    </tr>\n  </tbody>\n</table>\n<p>5 rows × 41 columns</p>\n</div>"
     },
     "metadata": {},
     "execution_count": 8
    }
   ],
   "source": [
    "data.head()"
   ]
  },
  {
   "cell_type": "code",
   "execution_count": 25,
   "metadata": {},
   "outputs": [],
   "source": [
    "x = np.unique(data.nationality)\n",
    "y = data.groupby('nationality').median().age"
   ]
  },
  {
   "cell_type": "code",
   "execution_count": 26,
   "metadata": {},
   "outputs": [
    {
     "output_type": "display_data",
     "data": {
      "application/vnd.plotly.v1+json": {
       "config": {
        "plotlyServerURL": "https://plot.ly"
       },
       "data": [
        {
         "name": "example",
         "type": "bar",
         "x": [
          "Afghanistan",
          "Albania",
          "Algeria",
          "Andorra",
          "Angola",
          "Antigua & Barbuda",
          "Argentina",
          "Armenia",
          "Aruba",
          "Australia",
          "Austria",
          "Azerbaijan",
          "Barbados",
          "Belarus",
          "Belgium",
          "Belize",
          "Benin",
          "Bermuda",
          "Bolivia",
          "Bosnia Herzegovina",
          "Brazil",
          "Bulgaria",
          "Burkina Faso",
          "Burundi",
          "Cameroon",
          "Canada",
          "Cape Verde",
          "Central African Republic",
          "Chad",
          "Chile",
          "China PR",
          "Chinese Taipei",
          "Colombia",
          "Comoros",
          "Congo",
          "Costa Rica",
          "Croatia",
          "Cuba",
          "Curacao",
          "Cyprus",
          "Czech Republic",
          "DR Congo",
          "Denmark",
          "Dominican Republic",
          "Ecuador",
          "Egypt",
          "El Salvador",
          "England",
          "Equatorial Guinea",
          "Eritrea",
          "Estonia",
          "Ethiopia",
          "Faroe Islands",
          "Finland",
          "France",
          "Gabon",
          "Gambia",
          "Georgia",
          "Germany",
          "Ghana",
          "Greece",
          "Grenada",
          "Guam",
          "Guinea",
          "Guinea Bissau",
          "Guyana",
          "Haiti",
          "Honduras",
          "Hong Kong",
          "Hungary",
          "Iceland",
          "India",
          "Indonesia",
          "Iran",
          "Iraq",
          "Israel",
          "Italy",
          "Ivory Coast",
          "Jamaica",
          "Japan",
          "Jordan",
          "Kazakhstan",
          "Kenya",
          "Korea DPR",
          "Korea Republic",
          "Kosovo",
          "Latvia",
          "Lebanon",
          "Liberia",
          "Libya",
          "Liechtenstein",
          "Lithuania",
          "Luxembourg",
          "Macau",
          "Madagascar",
          "Malawi",
          "Malaysia",
          "Mali",
          "Malta",
          "Mauritania",
          "Mexico",
          "Moldova",
          "Montenegro",
          "Montserrat",
          "Morocco",
          "Mozambique",
          "Namibia",
          "Netherlands",
          "New Caledonia",
          "New Zealand",
          "Nicaragua",
          "Niger",
          "Nigeria",
          "North Macedonia",
          "Northern Ireland",
          "Norway",
          "Palestine",
          "Panama",
          "Papua New Guinea",
          "Paraguay",
          "Peru",
          "Philippines",
          "Poland",
          "Portugal",
          "Puerto Rico",
          "Republic of Ireland",
          "Romania",
          "Russia",
          "Rwanda",
          "Saint Kitts and Nevis",
          "Saint Lucia",
          "Saudi Arabia",
          "Scotland",
          "Senegal",
          "Serbia",
          "Sierra Leone",
          "Slovakia",
          "Slovenia",
          "South Africa",
          "South Sudan",
          "Spain",
          "Sudan",
          "Sweden",
          "Switzerland",
          "Syria",
          "São Tomé & Príncipe",
          "Tanzania",
          "Thailand",
          "Togo",
          "Trinidad & Tobago",
          "Tunisia",
          "Turkey",
          "Uganda",
          "Ukraine",
          "United Arab Emirates",
          "United States",
          "Uruguay",
          "Uzbekistan",
          "Venezuela",
          "Wales",
          "Zambia",
          "Zimbabwe"
         ],
         "y": [
          25,
          24,
          28,
          30,
          26.5,
          23,
          26,
          28.5,
          31,
          24,
          25,
          24,
          26,
          20,
          24,
          26.5,
          27,
          30,
          25,
          27,
          26,
          26.5,
          24,
          21,
          24,
          23,
          28,
          28,
          27,
          25,
          27,
          28.5,
          26,
          26,
          25,
          28,
          25,
          29,
          25,
          23,
          27,
          25,
          24,
          24,
          25,
          28,
          26.5,
          23,
          23.5,
          32,
          27,
          27.5,
          27,
          25,
          24,
          26,
          23,
          25,
          24,
          24,
          24,
          27,
          32,
          26,
          24,
          22.5,
          24.5,
          26.5,
          22,
          26,
          26,
          32,
          19,
          26,
          28.5,
          27,
          26,
          25,
          27,
          26,
          27,
          26,
          23,
          38,
          26,
          23.5,
          22,
          25,
          21,
          27,
          22,
          26,
          23,
          25,
          30,
          27,
          18,
          24,
          27,
          22,
          24,
          26.5,
          26,
          26,
          26,
          31,
          29,
          24,
          32,
          24,
          25,
          21.5,
          23.5,
          26,
          25,
          24,
          30.5,
          26,
          24,
          26,
          25,
          24,
          24,
          25,
          28,
          24,
          23.5,
          24,
          23,
          29.5,
          26,
          26,
          24,
          25,
          26,
          24,
          25,
          27,
          27,
          20.5,
          25,
          24.5,
          25,
          24,
          28.5,
          33,
          27,
          30,
          25.5,
          27,
          26,
          24,
          25,
          26,
          26,
          24,
          26,
          25,
          24,
          24,
          23,
          26
         ]
        }
       ],
       "layout": {
        "template": {
         "data": {
          "bar": [
           {
            "error_x": {
             "color": "#2a3f5f"
            },
            "error_y": {
             "color": "#2a3f5f"
            },
            "marker": {
             "line": {
              "color": "#E5ECF6",
              "width": 0.5
             }
            },
            "type": "bar"
           }
          ],
          "barpolar": [
           {
            "marker": {
             "line": {
              "color": "#E5ECF6",
              "width": 0.5
             }
            },
            "type": "barpolar"
           }
          ],
          "carpet": [
           {
            "aaxis": {
             "endlinecolor": "#2a3f5f",
             "gridcolor": "white",
             "linecolor": "white",
             "minorgridcolor": "white",
             "startlinecolor": "#2a3f5f"
            },
            "baxis": {
             "endlinecolor": "#2a3f5f",
             "gridcolor": "white",
             "linecolor": "white",
             "minorgridcolor": "white",
             "startlinecolor": "#2a3f5f"
            },
            "type": "carpet"
           }
          ],
          "choropleth": [
           {
            "colorbar": {
             "outlinewidth": 0,
             "ticks": ""
            },
            "type": "choropleth"
           }
          ],
          "contour": [
           {
            "colorbar": {
             "outlinewidth": 0,
             "ticks": ""
            },
            "colorscale": [
             [
              0,
              "#0d0887"
             ],
             [
              0.1111111111111111,
              "#46039f"
             ],
             [
              0.2222222222222222,
              "#7201a8"
             ],
             [
              0.3333333333333333,
              "#9c179e"
             ],
             [
              0.4444444444444444,
              "#bd3786"
             ],
             [
              0.5555555555555556,
              "#d8576b"
             ],
             [
              0.6666666666666666,
              "#ed7953"
             ],
             [
              0.7777777777777778,
              "#fb9f3a"
             ],
             [
              0.8888888888888888,
              "#fdca26"
             ],
             [
              1,
              "#f0f921"
             ]
            ],
            "type": "contour"
           }
          ],
          "contourcarpet": [
           {
            "colorbar": {
             "outlinewidth": 0,
             "ticks": ""
            },
            "type": "contourcarpet"
           }
          ],
          "heatmap": [
           {
            "colorbar": {
             "outlinewidth": 0,
             "ticks": ""
            },
            "colorscale": [
             [
              0,
              "#0d0887"
             ],
             [
              0.1111111111111111,
              "#46039f"
             ],
             [
              0.2222222222222222,
              "#7201a8"
             ],
             [
              0.3333333333333333,
              "#9c179e"
             ],
             [
              0.4444444444444444,
              "#bd3786"
             ],
             [
              0.5555555555555556,
              "#d8576b"
             ],
             [
              0.6666666666666666,
              "#ed7953"
             ],
             [
              0.7777777777777778,
              "#fb9f3a"
             ],
             [
              0.8888888888888888,
              "#fdca26"
             ],
             [
              1,
              "#f0f921"
             ]
            ],
            "type": "heatmap"
           }
          ],
          "heatmapgl": [
           {
            "colorbar": {
             "outlinewidth": 0,
             "ticks": ""
            },
            "colorscale": [
             [
              0,
              "#0d0887"
             ],
             [
              0.1111111111111111,
              "#46039f"
             ],
             [
              0.2222222222222222,
              "#7201a8"
             ],
             [
              0.3333333333333333,
              "#9c179e"
             ],
             [
              0.4444444444444444,
              "#bd3786"
             ],
             [
              0.5555555555555556,
              "#d8576b"
             ],
             [
              0.6666666666666666,
              "#ed7953"
             ],
             [
              0.7777777777777778,
              "#fb9f3a"
             ],
             [
              0.8888888888888888,
              "#fdca26"
             ],
             [
              1,
              "#f0f921"
             ]
            ],
            "type": "heatmapgl"
           }
          ],
          "histogram": [
           {
            "marker": {
             "colorbar": {
              "outlinewidth": 0,
              "ticks": ""
             }
            },
            "type": "histogram"
           }
          ],
          "histogram2d": [
           {
            "colorbar": {
             "outlinewidth": 0,
             "ticks": ""
            },
            "colorscale": [
             [
              0,
              "#0d0887"
             ],
             [
              0.1111111111111111,
              "#46039f"
             ],
             [
              0.2222222222222222,
              "#7201a8"
             ],
             [
              0.3333333333333333,
              "#9c179e"
             ],
             [
              0.4444444444444444,
              "#bd3786"
             ],
             [
              0.5555555555555556,
              "#d8576b"
             ],
             [
              0.6666666666666666,
              "#ed7953"
             ],
             [
              0.7777777777777778,
              "#fb9f3a"
             ],
             [
              0.8888888888888888,
              "#fdca26"
             ],
             [
              1,
              "#f0f921"
             ]
            ],
            "type": "histogram2d"
           }
          ],
          "histogram2dcontour": [
           {
            "colorbar": {
             "outlinewidth": 0,
             "ticks": ""
            },
            "colorscale": [
             [
              0,
              "#0d0887"
             ],
             [
              0.1111111111111111,
              "#46039f"
             ],
             [
              0.2222222222222222,
              "#7201a8"
             ],
             [
              0.3333333333333333,
              "#9c179e"
             ],
             [
              0.4444444444444444,
              "#bd3786"
             ],
             [
              0.5555555555555556,
              "#d8576b"
             ],
             [
              0.6666666666666666,
              "#ed7953"
             ],
             [
              0.7777777777777778,
              "#fb9f3a"
             ],
             [
              0.8888888888888888,
              "#fdca26"
             ],
             [
              1,
              "#f0f921"
             ]
            ],
            "type": "histogram2dcontour"
           }
          ],
          "mesh3d": [
           {
            "colorbar": {
             "outlinewidth": 0,
             "ticks": ""
            },
            "type": "mesh3d"
           }
          ],
          "parcoords": [
           {
            "line": {
             "colorbar": {
              "outlinewidth": 0,
              "ticks": ""
             }
            },
            "type": "parcoords"
           }
          ],
          "pie": [
           {
            "automargin": true,
            "type": "pie"
           }
          ],
          "scatter": [
           {
            "marker": {
             "colorbar": {
              "outlinewidth": 0,
              "ticks": ""
             }
            },
            "type": "scatter"
           }
          ],
          "scatter3d": [
           {
            "line": {
             "colorbar": {
              "outlinewidth": 0,
              "ticks": ""
             }
            },
            "marker": {
             "colorbar": {
              "outlinewidth": 0,
              "ticks": ""
             }
            },
            "type": "scatter3d"
           }
          ],
          "scattercarpet": [
           {
            "marker": {
             "colorbar": {
              "outlinewidth": 0,
              "ticks": ""
             }
            },
            "type": "scattercarpet"
           }
          ],
          "scattergeo": [
           {
            "marker": {
             "colorbar": {
              "outlinewidth": 0,
              "ticks": ""
             }
            },
            "type": "scattergeo"
           }
          ],
          "scattergl": [
           {
            "marker": {
             "colorbar": {
              "outlinewidth": 0,
              "ticks": ""
             }
            },
            "type": "scattergl"
           }
          ],
          "scattermapbox": [
           {
            "marker": {
             "colorbar": {
              "outlinewidth": 0,
              "ticks": ""
             }
            },
            "type": "scattermapbox"
           }
          ],
          "scatterpolar": [
           {
            "marker": {
             "colorbar": {
              "outlinewidth": 0,
              "ticks": ""
             }
            },
            "type": "scatterpolar"
           }
          ],
          "scatterpolargl": [
           {
            "marker": {
             "colorbar": {
              "outlinewidth": 0,
              "ticks": ""
             }
            },
            "type": "scatterpolargl"
           }
          ],
          "scatterternary": [
           {
            "marker": {
             "colorbar": {
              "outlinewidth": 0,
              "ticks": ""
             }
            },
            "type": "scatterternary"
           }
          ],
          "surface": [
           {
            "colorbar": {
             "outlinewidth": 0,
             "ticks": ""
            },
            "colorscale": [
             [
              0,
              "#0d0887"
             ],
             [
              0.1111111111111111,
              "#46039f"
             ],
             [
              0.2222222222222222,
              "#7201a8"
             ],
             [
              0.3333333333333333,
              "#9c179e"
             ],
             [
              0.4444444444444444,
              "#bd3786"
             ],
             [
              0.5555555555555556,
              "#d8576b"
             ],
             [
              0.6666666666666666,
              "#ed7953"
             ],
             [
              0.7777777777777778,
              "#fb9f3a"
             ],
             [
              0.8888888888888888,
              "#fdca26"
             ],
             [
              1,
              "#f0f921"
             ]
            ],
            "type": "surface"
           }
          ],
          "table": [
           {
            "cells": {
             "fill": {
              "color": "#EBF0F8"
             },
             "line": {
              "color": "white"
             }
            },
            "header": {
             "fill": {
              "color": "#C8D4E3"
             },
             "line": {
              "color": "white"
             }
            },
            "type": "table"
           }
          ]
         },
         "layout": {
          "annotationdefaults": {
           "arrowcolor": "#2a3f5f",
           "arrowhead": 0,
           "arrowwidth": 1
          },
          "autotypenumbers": "strict",
          "coloraxis": {
           "colorbar": {
            "outlinewidth": 0,
            "ticks": ""
           }
          },
          "colorscale": {
           "diverging": [
            [
             0,
             "#8e0152"
            ],
            [
             0.1,
             "#c51b7d"
            ],
            [
             0.2,
             "#de77ae"
            ],
            [
             0.3,
             "#f1b6da"
            ],
            [
             0.4,
             "#fde0ef"
            ],
            [
             0.5,
             "#f7f7f7"
            ],
            [
             0.6,
             "#e6f5d0"
            ],
            [
             0.7,
             "#b8e186"
            ],
            [
             0.8,
             "#7fbc41"
            ],
            [
             0.9,
             "#4d9221"
            ],
            [
             1,
             "#276419"
            ]
           ],
           "sequential": [
            [
             0,
             "#0d0887"
            ],
            [
             0.1111111111111111,
             "#46039f"
            ],
            [
             0.2222222222222222,
             "#7201a8"
            ],
            [
             0.3333333333333333,
             "#9c179e"
            ],
            [
             0.4444444444444444,
             "#bd3786"
            ],
            [
             0.5555555555555556,
             "#d8576b"
            ],
            [
             0.6666666666666666,
             "#ed7953"
            ],
            [
             0.7777777777777778,
             "#fb9f3a"
            ],
            [
             0.8888888888888888,
             "#fdca26"
            ],
            [
             1,
             "#f0f921"
            ]
           ],
           "sequentialminus": [
            [
             0,
             "#0d0887"
            ],
            [
             0.1111111111111111,
             "#46039f"
            ],
            [
             0.2222222222222222,
             "#7201a8"
            ],
            [
             0.3333333333333333,
             "#9c179e"
            ],
            [
             0.4444444444444444,
             "#bd3786"
            ],
            [
             0.5555555555555556,
             "#d8576b"
            ],
            [
             0.6666666666666666,
             "#ed7953"
            ],
            [
             0.7777777777777778,
             "#fb9f3a"
            ],
            [
             0.8888888888888888,
             "#fdca26"
            ],
            [
             1,
             "#f0f921"
            ]
           ]
          },
          "colorway": [
           "#636efa",
           "#EF553B",
           "#00cc96",
           "#ab63fa",
           "#FFA15A",
           "#19d3f3",
           "#FF6692",
           "#B6E880",
           "#FF97FF",
           "#FECB52"
          ],
          "font": {
           "color": "#2a3f5f"
          },
          "geo": {
           "bgcolor": "white",
           "lakecolor": "white",
           "landcolor": "#E5ECF6",
           "showlakes": true,
           "showland": true,
           "subunitcolor": "white"
          },
          "hoverlabel": {
           "align": "left"
          },
          "hovermode": "closest",
          "mapbox": {
           "style": "light"
          },
          "paper_bgcolor": "white",
          "plot_bgcolor": "#E5ECF6",
          "polar": {
           "angularaxis": {
            "gridcolor": "white",
            "linecolor": "white",
            "ticks": ""
           },
           "bgcolor": "#E5ECF6",
           "radialaxis": {
            "gridcolor": "white",
            "linecolor": "white",
            "ticks": ""
           }
          },
          "scene": {
           "xaxis": {
            "backgroundcolor": "#E5ECF6",
            "gridcolor": "white",
            "gridwidth": 2,
            "linecolor": "white",
            "showbackground": true,
            "ticks": "",
            "zerolinecolor": "white"
           },
           "yaxis": {
            "backgroundcolor": "#E5ECF6",
            "gridcolor": "white",
            "gridwidth": 2,
            "linecolor": "white",
            "showbackground": true,
            "ticks": "",
            "zerolinecolor": "white"
           },
           "zaxis": {
            "backgroundcolor": "#E5ECF6",
            "gridcolor": "white",
            "gridwidth": 2,
            "linecolor": "white",
            "showbackground": true,
            "ticks": "",
            "zerolinecolor": "white"
           }
          },
          "shapedefaults": {
           "line": {
            "color": "#2a3f5f"
           }
          },
          "ternary": {
           "aaxis": {
            "gridcolor": "white",
            "linecolor": "white",
            "ticks": ""
           },
           "baxis": {
            "gridcolor": "white",
            "linecolor": "white",
            "ticks": ""
           },
           "bgcolor": "#E5ECF6",
           "caxis": {
            "gridcolor": "white",
            "linecolor": "white",
            "ticks": ""
           }
          },
          "title": {
           "x": 0.05
          },
          "xaxis": {
           "automargin": true,
           "gridcolor": "white",
           "linecolor": "white",
           "ticks": "",
           "title": {
            "standoff": 15
           },
           "zerolinecolor": "white",
           "zerolinewidth": 2
          },
          "yaxis": {
           "automargin": true,
           "gridcolor": "white",
           "linecolor": "white",
           "ticks": "",
           "title": {
            "standoff": 15
           },
           "zerolinecolor": "white",
           "zerolinewidth": 2
          }
         }
        },
        "xaxis": {
         "title": {
          "text": "X axis"
         }
        },
        "yaxis": {
         "title": {
          "text": "Y axis"
         }
        }
       }
      }
     },
     "metadata": {}
    }
   ],
   "source": [
    "# Building our Graphs\n",
    "\n",
    "data_scatter = dict(type='bar',\n",
    "                    x=x,\n",
    "                    y=y,\n",
    "                    name='example'\n",
    "                    )\n",
    "\n",
    "layout_scatter = dict(xaxis=dict(title='X axis', color=\"black\"),\n",
    "                      yaxis=dict(title='Y axis')\n",
    "                      )\n",
    "\n",
    "fig_scatter = go.Figure(data=data_scatter, layout=layout_scatter)\n",
    "\n",
    "fig_scatter.show()"
   ]
  },
  {
   "cell_type": "code",
   "execution_count": 37,
   "metadata": {},
   "outputs": [
    {
     "output_type": "execute_result",
     "data": {
      "text/plain": [
       "16"
      ]
     },
     "metadata": {},
     "execution_count": 37
    }
   ],
   "source": [
    "data['age'].min()"
   ]
  },
  {
   "cell_type": "code",
   "execution_count": 38,
   "metadata": {},
   "outputs": [
    {
     "output_type": "execute_result",
     "data": {
      "text/plain": [
       "53"
      ]
     },
     "metadata": {},
     "execution_count": 38
    }
   ],
   "source": [
    "data['age'].max()"
   ]
  },
  {
   "cell_type": "code",
   "execution_count": null,
   "metadata": {},
   "outputs": [],
   "source": []
  }
 ]
}